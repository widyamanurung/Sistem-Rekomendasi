{
  "nbformat": 4,
  "nbformat_minor": 0,
  "metadata": {
    "colab": {
      "provenance": []
    },
    "kernelspec": {
      "name": "python3",
      "display_name": "Python 3"
    },
    "language_info": {
      "name": "python"
    }
  },
  "cells": [
    {
      "cell_type": "markdown",
      "source": [
        "<a id=\"5\"></a>\n",
        "\n",
        "\n",
        "<font color=\"black\" size=+1><b> Recomendation Tempat Wisata Toba Preprocessing using  Deep Learning </b></font>\n",
        "\n",
        "<a id=\"4\"></a>\n",
        "\n",
        "---\n",
        "<font color=\"BLUE\" size=+1><b>  Kelompok 7 - Bussiness Understanding </b></font>\n",
        "\n",
        "---\n",
        "    Nama Anggota\n",
        "    1. Widya Manurung       12S21039\n",
        "    2. Endang Siregar       12S21056\n",
        "    3. Glory Hutahean       12S21060"
      ],
      "metadata": {
        "id": "Wq0oVyzDGNTp"
      }
    },
    {
      "cell_type": "markdown",
      "source": [
        "Model 1: Collaborative Filtering (CF) Deep LearningA"
      ],
      "metadata": {
        "id": "HXdKt2OrdcyY"
      }
    },
    {
      "cell_type": "markdown",
      "source": [
        "Collaborative Filtering (CF) dengan Deep Learning adalah pendekatan modern untuk sistem rekomendasi yang menggabungkan konsep Collaborative Filtering klasik dengan kekuatan representasi fitur dari Deep Learning."
      ],
      "metadata": {
        "id": "DAXnZerVGuVK"
      }
    },
    {
      "cell_type": "markdown",
      "source": [
        "1. Import Library"
      ],
      "metadata": {
        "id": "-GN9LncTgi1z"
      }
    },
    {
      "cell_type": "markdown",
      "source": [
        "Pada data perparation bertujuan untuk menginport library yang digunakan dalam memproses data dan juga membaca data"
      ],
      "metadata": {
        "id": "EHSH4lyxGyBA"
      }
    },
    {
      "cell_type": "code",
      "execution_count": 1,
      "metadata": {
        "id": "t6y3IgtOdOup"
      },
      "outputs": [],
      "source": [
        "import pandas as pd\n",
        "import numpy as np\n",
        "from sklearn.model_selection import train_test_split\n",
        "from sklearn.metrics import mean_squared_error, mean_absolute_error\n",
        "import tensorflow as tf\n",
        "from tensorflow.keras.models import Model\n",
        "from tensorflow.keras.layers import Input, Embedding, Flatten, Dot, Dense, Concatenate\n",
        "from tensorflow.keras.optimizers import Adam"
      ]
    },
    {
      "cell_type": "markdown",
      "source": [
        "2. Memuat dan Membersihkan Data"
      ],
      "metadata": {
        "id": "MxQ5B8Uzgxfp"
      }
    },
    {
      "cell_type": "markdown",
      "source": [
        "Kode ini memuat dataset dari file CSV yang berisi data terkait ulasan tempat wisata di Toba. File tersebut diimpor ke dalam DataFrame menggunakan Pandas untuk mempermudah manipulasi dan analisis data."
      ],
      "metadata": {
        "id": "-sUTTEsOG1H5"
      }
    },
    {
      "cell_type": "code",
      "source": [
        "# Load the dataset\n",
        "file_path = ('/content/Tempat-Wisata-Toba-Preprocessing.csv')\n",
        "data = pd.read_csv(file_path)"
      ],
      "metadata": {
        "id": "sA9R1Jr5d6gV"
      },
      "execution_count": 2,
      "outputs": []
    },
    {
      "cell_type": "code",
      "source": [
        "data"
      ],
      "metadata": {
        "colab": {
          "base_uri": "https://localhost:8080/",
          "height": 614
        },
        "id": "XI2Dxl27capF",
        "outputId": "33cba1e7-414c-403c-a5a6-04488106ccd9"
      },
      "execution_count": 3,
      "outputs": [
        {
          "output_type": "execute_result",
          "data": {
            "text/plain": [
              "       Unnamed: 0.1  Unnamed: 0  \\\n",
              "0                 0           0   \n",
              "1                 1           1   \n",
              "2                 2           2   \n",
              "3                 3           3   \n",
              "4                 4           4   \n",
              "...             ...         ...   \n",
              "43221         43221       43221   \n",
              "43222         43222       43222   \n",
              "43223         43223       43223   \n",
              "43224         43224       43224   \n",
              "43225         43225       43225   \n",
              "\n",
              "                                                 address  PlaceID  \\\n",
              "0      Jl. Sibola Hotang, Sibola Hotangsas, Kec. Bali...        0   \n",
              "1      Jl. Sibola Hotang, Sibola Hotangsas, Kec. Bali...        0   \n",
              "2      Jl. Sibola Hotang, Sibola Hotangsas, Kec. Bali...        0   \n",
              "3      Jl. Sibola Hotang, Sibola Hotangsas, Kec. Bali...        0   \n",
              "4      Jl. Sibola Hotang, Sibola Hotangsas, Kec. Bali...        0   \n",
              "...                                                  ...      ...   \n",
              "43221  MWMG+GCG, Jalan Siborong Borong - Parapat, Sib...      101   \n",
              "43222  MWMG+GCG, Jalan Siborong Borong - Parapat, Sib...      101   \n",
              "43223  MWMG+GCG, Jalan Siborong Borong - Parapat, Sib...      101   \n",
              "43224  MWMG+GCG, Jalan Siborong Borong - Parapat, Sib...      101   \n",
              "43225  MWMG+GCG, Jalan Siborong Borong - Parapat, Sib...      101   \n",
              "\n",
              "              Nama_tempat_wisata       Category    ReviewerId  Rating  \\\n",
              "0      PASIR PUTIH LUMBAN BULBUL  Wisata Bahari  1.126030e+20     5.0   \n",
              "1      PASIR PUTIH LUMBAN BULBUL  Wisata Bahari  1.119090e+20     5.0   \n",
              "2      PASIR PUTIH LUMBAN BULBUL  Wisata Bahari  1.078860e+20     5.0   \n",
              "3      PASIR PUTIH LUMBAN BULBUL  Wisata Bahari  1.130720e+20     5.0   \n",
              "4      PASIR PUTIH LUMBAN BULBUL  Wisata Bahari  1.061730e+20     5.0   \n",
              "...                          ...            ...           ...     ...   \n",
              "43221         Danau Toba Parapat  Wisata Bahari  1.109990e+20     5.0   \n",
              "43222         Danau Toba Parapat  Wisata Bahari  1.130740e+20     5.0   \n",
              "43223         Danau Toba Parapat  Wisata Bahari  1.081140e+20     5.0   \n",
              "43224         Danau Toba Parapat  Wisata Bahari  1.121780e+20     5.0   \n",
              "43225         Danau Toba Parapat  Wisata Bahari  1.034890e+20     5.0   \n",
              "\n",
              "                                                 Reviews  \n",
              "0                                                    NaN  \n",
              "1                                                  bagus  \n",
              "2                                                    NaN  \n",
              "3                                     sangat menyenagkan  \n",
              "4                          bebas foto dimana aja cuma 2k  \n",
              "...                                                  ...  \n",
              "43221                                                NaN  \n",
              "43222                                                NaN  \n",
              "43223                                                NaN  \n",
              "43224                                                NaN  \n",
              "43225  lokasi wisata yg indah berupa danau yg tercipt...  \n",
              "\n",
              "[43226 rows x 9 columns]"
            ],
            "text/html": [
              "\n",
              "  <div id=\"df-dca7ab5a-9abc-411c-8f79-b4aa88beb0d0\" class=\"colab-df-container\">\n",
              "    <div>\n",
              "<style scoped>\n",
              "    .dataframe tbody tr th:only-of-type {\n",
              "        vertical-align: middle;\n",
              "    }\n",
              "\n",
              "    .dataframe tbody tr th {\n",
              "        vertical-align: top;\n",
              "    }\n",
              "\n",
              "    .dataframe thead th {\n",
              "        text-align: right;\n",
              "    }\n",
              "</style>\n",
              "<table border=\"1\" class=\"dataframe\">\n",
              "  <thead>\n",
              "    <tr style=\"text-align: right;\">\n",
              "      <th></th>\n",
              "      <th>Unnamed: 0.1</th>\n",
              "      <th>Unnamed: 0</th>\n",
              "      <th>address</th>\n",
              "      <th>PlaceID</th>\n",
              "      <th>Nama_tempat_wisata</th>\n",
              "      <th>Category</th>\n",
              "      <th>ReviewerId</th>\n",
              "      <th>Rating</th>\n",
              "      <th>Reviews</th>\n",
              "    </tr>\n",
              "  </thead>\n",
              "  <tbody>\n",
              "    <tr>\n",
              "      <th>0</th>\n",
              "      <td>0</td>\n",
              "      <td>0</td>\n",
              "      <td>Jl. Sibola Hotang, Sibola Hotangsas, Kec. Bali...</td>\n",
              "      <td>0</td>\n",
              "      <td>PASIR PUTIH LUMBAN BULBUL</td>\n",
              "      <td>Wisata Bahari</td>\n",
              "      <td>1.126030e+20</td>\n",
              "      <td>5.0</td>\n",
              "      <td>NaN</td>\n",
              "    </tr>\n",
              "    <tr>\n",
              "      <th>1</th>\n",
              "      <td>1</td>\n",
              "      <td>1</td>\n",
              "      <td>Jl. Sibola Hotang, Sibola Hotangsas, Kec. Bali...</td>\n",
              "      <td>0</td>\n",
              "      <td>PASIR PUTIH LUMBAN BULBUL</td>\n",
              "      <td>Wisata Bahari</td>\n",
              "      <td>1.119090e+20</td>\n",
              "      <td>5.0</td>\n",
              "      <td>bagus</td>\n",
              "    </tr>\n",
              "    <tr>\n",
              "      <th>2</th>\n",
              "      <td>2</td>\n",
              "      <td>2</td>\n",
              "      <td>Jl. Sibola Hotang, Sibola Hotangsas, Kec. Bali...</td>\n",
              "      <td>0</td>\n",
              "      <td>PASIR PUTIH LUMBAN BULBUL</td>\n",
              "      <td>Wisata Bahari</td>\n",
              "      <td>1.078860e+20</td>\n",
              "      <td>5.0</td>\n",
              "      <td>NaN</td>\n",
              "    </tr>\n",
              "    <tr>\n",
              "      <th>3</th>\n",
              "      <td>3</td>\n",
              "      <td>3</td>\n",
              "      <td>Jl. Sibola Hotang, Sibola Hotangsas, Kec. Bali...</td>\n",
              "      <td>0</td>\n",
              "      <td>PASIR PUTIH LUMBAN BULBUL</td>\n",
              "      <td>Wisata Bahari</td>\n",
              "      <td>1.130720e+20</td>\n",
              "      <td>5.0</td>\n",
              "      <td>sangat menyenagkan</td>\n",
              "    </tr>\n",
              "    <tr>\n",
              "      <th>4</th>\n",
              "      <td>4</td>\n",
              "      <td>4</td>\n",
              "      <td>Jl. Sibola Hotang, Sibola Hotangsas, Kec. Bali...</td>\n",
              "      <td>0</td>\n",
              "      <td>PASIR PUTIH LUMBAN BULBUL</td>\n",
              "      <td>Wisata Bahari</td>\n",
              "      <td>1.061730e+20</td>\n",
              "      <td>5.0</td>\n",
              "      <td>bebas foto dimana aja cuma 2k</td>\n",
              "    </tr>\n",
              "    <tr>\n",
              "      <th>...</th>\n",
              "      <td>...</td>\n",
              "      <td>...</td>\n",
              "      <td>...</td>\n",
              "      <td>...</td>\n",
              "      <td>...</td>\n",
              "      <td>...</td>\n",
              "      <td>...</td>\n",
              "      <td>...</td>\n",
              "      <td>...</td>\n",
              "    </tr>\n",
              "    <tr>\n",
              "      <th>43221</th>\n",
              "      <td>43221</td>\n",
              "      <td>43221</td>\n",
              "      <td>MWMG+GCG, Jalan Siborong Borong - Parapat, Sib...</td>\n",
              "      <td>101</td>\n",
              "      <td>Danau Toba Parapat</td>\n",
              "      <td>Wisata Bahari</td>\n",
              "      <td>1.109990e+20</td>\n",
              "      <td>5.0</td>\n",
              "      <td>NaN</td>\n",
              "    </tr>\n",
              "    <tr>\n",
              "      <th>43222</th>\n",
              "      <td>43222</td>\n",
              "      <td>43222</td>\n",
              "      <td>MWMG+GCG, Jalan Siborong Borong - Parapat, Sib...</td>\n",
              "      <td>101</td>\n",
              "      <td>Danau Toba Parapat</td>\n",
              "      <td>Wisata Bahari</td>\n",
              "      <td>1.130740e+20</td>\n",
              "      <td>5.0</td>\n",
              "      <td>NaN</td>\n",
              "    </tr>\n",
              "    <tr>\n",
              "      <th>43223</th>\n",
              "      <td>43223</td>\n",
              "      <td>43223</td>\n",
              "      <td>MWMG+GCG, Jalan Siborong Borong - Parapat, Sib...</td>\n",
              "      <td>101</td>\n",
              "      <td>Danau Toba Parapat</td>\n",
              "      <td>Wisata Bahari</td>\n",
              "      <td>1.081140e+20</td>\n",
              "      <td>5.0</td>\n",
              "      <td>NaN</td>\n",
              "    </tr>\n",
              "    <tr>\n",
              "      <th>43224</th>\n",
              "      <td>43224</td>\n",
              "      <td>43224</td>\n",
              "      <td>MWMG+GCG, Jalan Siborong Borong - Parapat, Sib...</td>\n",
              "      <td>101</td>\n",
              "      <td>Danau Toba Parapat</td>\n",
              "      <td>Wisata Bahari</td>\n",
              "      <td>1.121780e+20</td>\n",
              "      <td>5.0</td>\n",
              "      <td>NaN</td>\n",
              "    </tr>\n",
              "    <tr>\n",
              "      <th>43225</th>\n",
              "      <td>43225</td>\n",
              "      <td>43225</td>\n",
              "      <td>MWMG+GCG, Jalan Siborong Borong - Parapat, Sib...</td>\n",
              "      <td>101</td>\n",
              "      <td>Danau Toba Parapat</td>\n",
              "      <td>Wisata Bahari</td>\n",
              "      <td>1.034890e+20</td>\n",
              "      <td>5.0</td>\n",
              "      <td>lokasi wisata yg indah berupa danau yg tercipt...</td>\n",
              "    </tr>\n",
              "  </tbody>\n",
              "</table>\n",
              "<p>43226 rows × 9 columns</p>\n",
              "</div>\n",
              "    <div class=\"colab-df-buttons\">\n",
              "\n",
              "  <div class=\"colab-df-container\">\n",
              "    <button class=\"colab-df-convert\" onclick=\"convertToInteractive('df-dca7ab5a-9abc-411c-8f79-b4aa88beb0d0')\"\n",
              "            title=\"Convert this dataframe to an interactive table.\"\n",
              "            style=\"display:none;\">\n",
              "\n",
              "  <svg xmlns=\"http://www.w3.org/2000/svg\" height=\"24px\" viewBox=\"0 -960 960 960\">\n",
              "    <path d=\"M120-120v-720h720v720H120Zm60-500h600v-160H180v160Zm220 220h160v-160H400v160Zm0 220h160v-160H400v160ZM180-400h160v-160H180v160Zm440 0h160v-160H620v160ZM180-180h160v-160H180v160Zm440 0h160v-160H620v160Z\"/>\n",
              "  </svg>\n",
              "    </button>\n",
              "\n",
              "  <style>\n",
              "    .colab-df-container {\n",
              "      display:flex;\n",
              "      gap: 12px;\n",
              "    }\n",
              "\n",
              "    .colab-df-convert {\n",
              "      background-color: #E8F0FE;\n",
              "      border: none;\n",
              "      border-radius: 50%;\n",
              "      cursor: pointer;\n",
              "      display: none;\n",
              "      fill: #1967D2;\n",
              "      height: 32px;\n",
              "      padding: 0 0 0 0;\n",
              "      width: 32px;\n",
              "    }\n",
              "\n",
              "    .colab-df-convert:hover {\n",
              "      background-color: #E2EBFA;\n",
              "      box-shadow: 0px 1px 2px rgba(60, 64, 67, 0.3), 0px 1px 3px 1px rgba(60, 64, 67, 0.15);\n",
              "      fill: #174EA6;\n",
              "    }\n",
              "\n",
              "    .colab-df-buttons div {\n",
              "      margin-bottom: 4px;\n",
              "    }\n",
              "\n",
              "    [theme=dark] .colab-df-convert {\n",
              "      background-color: #3B4455;\n",
              "      fill: #D2E3FC;\n",
              "    }\n",
              "\n",
              "    [theme=dark] .colab-df-convert:hover {\n",
              "      background-color: #434B5C;\n",
              "      box-shadow: 0px 1px 3px 1px rgba(0, 0, 0, 0.15);\n",
              "      filter: drop-shadow(0px 1px 2px rgba(0, 0, 0, 0.3));\n",
              "      fill: #FFFFFF;\n",
              "    }\n",
              "  </style>\n",
              "\n",
              "    <script>\n",
              "      const buttonEl =\n",
              "        document.querySelector('#df-dca7ab5a-9abc-411c-8f79-b4aa88beb0d0 button.colab-df-convert');\n",
              "      buttonEl.style.display =\n",
              "        google.colab.kernel.accessAllowed ? 'block' : 'none';\n",
              "\n",
              "      async function convertToInteractive(key) {\n",
              "        const element = document.querySelector('#df-dca7ab5a-9abc-411c-8f79-b4aa88beb0d0');\n",
              "        const dataTable =\n",
              "          await google.colab.kernel.invokeFunction('convertToInteractive',\n",
              "                                                    [key], {});\n",
              "        if (!dataTable) return;\n",
              "\n",
              "        const docLinkHtml = 'Like what you see? Visit the ' +\n",
              "          '<a target=\"_blank\" href=https://colab.research.google.com/notebooks/data_table.ipynb>data table notebook</a>'\n",
              "          + ' to learn more about interactive tables.';\n",
              "        element.innerHTML = '';\n",
              "        dataTable['output_type'] = 'display_data';\n",
              "        await google.colab.output.renderOutput(dataTable, element);\n",
              "        const docLink = document.createElement('div');\n",
              "        docLink.innerHTML = docLinkHtml;\n",
              "        element.appendChild(docLink);\n",
              "      }\n",
              "    </script>\n",
              "  </div>\n",
              "\n",
              "\n",
              "<div id=\"df-6b965b98-803d-4bfa-884e-d4d1b690ae5c\">\n",
              "  <button class=\"colab-df-quickchart\" onclick=\"quickchart('df-6b965b98-803d-4bfa-884e-d4d1b690ae5c')\"\n",
              "            title=\"Suggest charts\"\n",
              "            style=\"display:none;\">\n",
              "\n",
              "<svg xmlns=\"http://www.w3.org/2000/svg\" height=\"24px\"viewBox=\"0 0 24 24\"\n",
              "     width=\"24px\">\n",
              "    <g>\n",
              "        <path d=\"M19 3H5c-1.1 0-2 .9-2 2v14c0 1.1.9 2 2 2h14c1.1 0 2-.9 2-2V5c0-1.1-.9-2-2-2zM9 17H7v-7h2v7zm4 0h-2V7h2v10zm4 0h-2v-4h2v4z\"/>\n",
              "    </g>\n",
              "</svg>\n",
              "  </button>\n",
              "\n",
              "<style>\n",
              "  .colab-df-quickchart {\n",
              "      --bg-color: #E8F0FE;\n",
              "      --fill-color: #1967D2;\n",
              "      --hover-bg-color: #E2EBFA;\n",
              "      --hover-fill-color: #174EA6;\n",
              "      --disabled-fill-color: #AAA;\n",
              "      --disabled-bg-color: #DDD;\n",
              "  }\n",
              "\n",
              "  [theme=dark] .colab-df-quickchart {\n",
              "      --bg-color: #3B4455;\n",
              "      --fill-color: #D2E3FC;\n",
              "      --hover-bg-color: #434B5C;\n",
              "      --hover-fill-color: #FFFFFF;\n",
              "      --disabled-bg-color: #3B4455;\n",
              "      --disabled-fill-color: #666;\n",
              "  }\n",
              "\n",
              "  .colab-df-quickchart {\n",
              "    background-color: var(--bg-color);\n",
              "    border: none;\n",
              "    border-radius: 50%;\n",
              "    cursor: pointer;\n",
              "    display: none;\n",
              "    fill: var(--fill-color);\n",
              "    height: 32px;\n",
              "    padding: 0;\n",
              "    width: 32px;\n",
              "  }\n",
              "\n",
              "  .colab-df-quickchart:hover {\n",
              "    background-color: var(--hover-bg-color);\n",
              "    box-shadow: 0 1px 2px rgba(60, 64, 67, 0.3), 0 1px 3px 1px rgba(60, 64, 67, 0.15);\n",
              "    fill: var(--button-hover-fill-color);\n",
              "  }\n",
              "\n",
              "  .colab-df-quickchart-complete:disabled,\n",
              "  .colab-df-quickchart-complete:disabled:hover {\n",
              "    background-color: var(--disabled-bg-color);\n",
              "    fill: var(--disabled-fill-color);\n",
              "    box-shadow: none;\n",
              "  }\n",
              "\n",
              "  .colab-df-spinner {\n",
              "    border: 2px solid var(--fill-color);\n",
              "    border-color: transparent;\n",
              "    border-bottom-color: var(--fill-color);\n",
              "    animation:\n",
              "      spin 1s steps(1) infinite;\n",
              "  }\n",
              "\n",
              "  @keyframes spin {\n",
              "    0% {\n",
              "      border-color: transparent;\n",
              "      border-bottom-color: var(--fill-color);\n",
              "      border-left-color: var(--fill-color);\n",
              "    }\n",
              "    20% {\n",
              "      border-color: transparent;\n",
              "      border-left-color: var(--fill-color);\n",
              "      border-top-color: var(--fill-color);\n",
              "    }\n",
              "    30% {\n",
              "      border-color: transparent;\n",
              "      border-left-color: var(--fill-color);\n",
              "      border-top-color: var(--fill-color);\n",
              "      border-right-color: var(--fill-color);\n",
              "    }\n",
              "    40% {\n",
              "      border-color: transparent;\n",
              "      border-right-color: var(--fill-color);\n",
              "      border-top-color: var(--fill-color);\n",
              "    }\n",
              "    60% {\n",
              "      border-color: transparent;\n",
              "      border-right-color: var(--fill-color);\n",
              "    }\n",
              "    80% {\n",
              "      border-color: transparent;\n",
              "      border-right-color: var(--fill-color);\n",
              "      border-bottom-color: var(--fill-color);\n",
              "    }\n",
              "    90% {\n",
              "      border-color: transparent;\n",
              "      border-bottom-color: var(--fill-color);\n",
              "    }\n",
              "  }\n",
              "</style>\n",
              "\n",
              "  <script>\n",
              "    async function quickchart(key) {\n",
              "      const quickchartButtonEl =\n",
              "        document.querySelector('#' + key + ' button');\n",
              "      quickchartButtonEl.disabled = true;  // To prevent multiple clicks.\n",
              "      quickchartButtonEl.classList.add('colab-df-spinner');\n",
              "      try {\n",
              "        const charts = await google.colab.kernel.invokeFunction(\n",
              "            'suggestCharts', [key], {});\n",
              "      } catch (error) {\n",
              "        console.error('Error during call to suggestCharts:', error);\n",
              "      }\n",
              "      quickchartButtonEl.classList.remove('colab-df-spinner');\n",
              "      quickchartButtonEl.classList.add('colab-df-quickchart-complete');\n",
              "    }\n",
              "    (() => {\n",
              "      let quickchartButtonEl =\n",
              "        document.querySelector('#df-6b965b98-803d-4bfa-884e-d4d1b690ae5c button');\n",
              "      quickchartButtonEl.style.display =\n",
              "        google.colab.kernel.accessAllowed ? 'block' : 'none';\n",
              "    })();\n",
              "  </script>\n",
              "</div>\n",
              "\n",
              "  <div id=\"id_0a9f3f07-6129-4131-ac11-0696c5dea3cd\">\n",
              "    <style>\n",
              "      .colab-df-generate {\n",
              "        background-color: #E8F0FE;\n",
              "        border: none;\n",
              "        border-radius: 50%;\n",
              "        cursor: pointer;\n",
              "        display: none;\n",
              "        fill: #1967D2;\n",
              "        height: 32px;\n",
              "        padding: 0 0 0 0;\n",
              "        width: 32px;\n",
              "      }\n",
              "\n",
              "      .colab-df-generate:hover {\n",
              "        background-color: #E2EBFA;\n",
              "        box-shadow: 0px 1px 2px rgba(60, 64, 67, 0.3), 0px 1px 3px 1px rgba(60, 64, 67, 0.15);\n",
              "        fill: #174EA6;\n",
              "      }\n",
              "\n",
              "      [theme=dark] .colab-df-generate {\n",
              "        background-color: #3B4455;\n",
              "        fill: #D2E3FC;\n",
              "      }\n",
              "\n",
              "      [theme=dark] .colab-df-generate:hover {\n",
              "        background-color: #434B5C;\n",
              "        box-shadow: 0px 1px 3px 1px rgba(0, 0, 0, 0.15);\n",
              "        filter: drop-shadow(0px 1px 2px rgba(0, 0, 0, 0.3));\n",
              "        fill: #FFFFFF;\n",
              "      }\n",
              "    </style>\n",
              "    <button class=\"colab-df-generate\" onclick=\"generateWithVariable('data')\"\n",
              "            title=\"Generate code using this dataframe.\"\n",
              "            style=\"display:none;\">\n",
              "\n",
              "  <svg xmlns=\"http://www.w3.org/2000/svg\" height=\"24px\"viewBox=\"0 0 24 24\"\n",
              "       width=\"24px\">\n",
              "    <path d=\"M7,19H8.4L18.45,9,17,7.55,7,17.6ZM5,21V16.75L18.45,3.32a2,2,0,0,1,2.83,0l1.4,1.43a1.91,1.91,0,0,1,.58,1.4,1.91,1.91,0,0,1-.58,1.4L9.25,21ZM18.45,9,17,7.55Zm-12,3A5.31,5.31,0,0,0,4.9,8.1,5.31,5.31,0,0,0,1,6.5,5.31,5.31,0,0,0,4.9,4.9,5.31,5.31,0,0,0,6.5,1,5.31,5.31,0,0,0,8.1,4.9,5.31,5.31,0,0,0,12,6.5,5.46,5.46,0,0,0,6.5,12Z\"/>\n",
              "  </svg>\n",
              "    </button>\n",
              "    <script>\n",
              "      (() => {\n",
              "      const buttonEl =\n",
              "        document.querySelector('#id_0a9f3f07-6129-4131-ac11-0696c5dea3cd button.colab-df-generate');\n",
              "      buttonEl.style.display =\n",
              "        google.colab.kernel.accessAllowed ? 'block' : 'none';\n",
              "\n",
              "      buttonEl.onclick = () => {\n",
              "        google.colab.notebook.generateWithVariable('data');\n",
              "      }\n",
              "      })();\n",
              "    </script>\n",
              "  </div>\n",
              "\n",
              "    </div>\n",
              "  </div>\n"
            ],
            "application/vnd.google.colaboratory.intrinsic+json": {
              "type": "dataframe",
              "variable_name": "data",
              "summary": "{\n  \"name\": \"data\",\n  \"rows\": 43226,\n  \"fields\": [\n    {\n      \"column\": \"Unnamed: 0.1\",\n      \"properties\": {\n        \"dtype\": \"number\",\n        \"std\": 12478,\n        \"min\": 0,\n        \"max\": 43225,\n        \"num_unique_values\": 43226,\n        \"samples\": [\n          465,\n          1278,\n          15320\n        ],\n        \"semantic_type\": \"\",\n        \"description\": \"\"\n      }\n    },\n    {\n      \"column\": \"Unnamed: 0\",\n      \"properties\": {\n        \"dtype\": \"number\",\n        \"std\": 12478,\n        \"min\": 0,\n        \"max\": 43225,\n        \"num_unique_values\": 43226,\n        \"samples\": [\n          465,\n          1278,\n          15320\n        ],\n        \"semantic_type\": \"\",\n        \"description\": \"\"\n      }\n    },\n    {\n      \"column\": \"address\",\n      \"properties\": {\n        \"dtype\": \"category\",\n        \"num_unique_values\": 100,\n        \"samples\": [\n          \"WG69+M82, Tongging, Kec. Merek, Kabupaten Karo, Sumatera Utara 22173, Indonesia\",\n          \"83M7+RJ4, Napitupulu Bagasan, Kec. Balige, Toba, Sumatera Utara, Indonesia\",\n          \"Taman Eden, Ps. Lumban Julu, Kec. Lumban Julu, Toba, Sumatera Utara 22386, Indonesia\"\n        ],\n        \"semantic_type\": \"\",\n        \"description\": \"\"\n      }\n    },\n    {\n      \"column\": \"PlaceID\",\n      \"properties\": {\n        \"dtype\": \"number\",\n        \"std\": 28,\n        \"min\": 0,\n        \"max\": 101,\n        \"num_unique_values\": 102,\n        \"samples\": [\n          30,\n          67,\n          62\n        ],\n        \"semantic_type\": \"\",\n        \"description\": \"\"\n      }\n    },\n    {\n      \"column\": \"Nama_tempat_wisata\",\n      \"properties\": {\n        \"dtype\": \"category\",\n        \"num_unique_values\": 102,\n        \"samples\": [\n          \"Panatapan Tara Bunga\",\n          \"Pantai Indah Situngkir (PIS)\",\n          \"Pasar Tomok\"\n        ],\n        \"semantic_type\": \"\",\n        \"description\": \"\"\n      }\n    },\n    {\n      \"column\": \"Category\",\n      \"properties\": {\n        \"dtype\": \"category\",\n        \"num_unique_values\": 8,\n        \"samples\": [\n          \"Wisata Rohani\",\n          \"Wisata Sejarah\",\n          \"Wisata Bahari\"\n        ],\n        \"semantic_type\": \"\",\n        \"description\": \"\"\n      }\n    },\n    {\n      \"column\": \"ReviewerId\",\n      \"properties\": {\n        \"dtype\": \"number\",\n        \"std\": 5.343909672784782e+18,\n        \"min\": 1.00001e+20,\n        \"max\": 1.18446e+20,\n        \"num_unique_values\": 15011,\n        \"samples\": [\n          1.07312e+20,\n          1.03124e+20,\n          1.03245e+20\n        ],\n        \"semantic_type\": \"\",\n        \"description\": \"\"\n      }\n    },\n    {\n      \"column\": \"Rating\",\n      \"properties\": {\n        \"dtype\": \"number\",\n        \"std\": 0.9277599389462311,\n        \"min\": 1.0,\n        \"max\": 5.0,\n        \"num_unique_values\": 5,\n        \"samples\": [\n          2.0,\n          1.0,\n          3.0\n        ],\n        \"semantic_type\": \"\",\n        \"description\": \"\"\n      }\n    },\n    {\n      \"column\": \"Reviews\",\n      \"properties\": {\n        \"dtype\": \"category\",\n        \"num_unique_values\": 17992,\n        \"samples\": [\n          \"tidak ramah disabilitas tidak ada fasilitas pengguna kursi roda tidak ramah anak track berbatu cukup berbahaya\\narea parkir tidak bagus dengan biaya parkir rp10rb sangat tidak masuk akal\\nuntuk spot foto lumayan tidak lebih istimewa dibanding tempat lain di sekitar danau toba\",\n          \"keren kali buat nembak si polan cuy\\ud83d\\ude01\",\n          \"diterjemahkan oleh google bagus\\n\\nasli\\nnice\"\n        ],\n        \"semantic_type\": \"\",\n        \"description\": \"\"\n      }\n    }\n  ]\n}"
            }
          },
          "metadata": {},
          "execution_count": 3
        }
      ]
    },
    {
      "cell_type": "code",
      "source": [
        "# Rename relevant columns\n",
        "data = data.rename(columns={\n",
        "    'ReviewerId': 'userId',\n",
        "    'PlaceID': 'itemId',\n",
        "    'Rating': 'rating'\n",
        "})\n",
        "data = data[['userId', 'itemId', 'rating']].dropna()"
      ],
      "metadata": {
        "id": "5d1tEZ23eABP"
      },
      "execution_count": 4,
      "outputs": []
    },
    {
      "cell_type": "code",
      "source": [
        "# Encode userId and itemId\n",
        "data['userId'] = data['userId'].astype('category').cat.codes\n",
        "data['itemId'] = data['itemId'].astype('category').cat.codes"
      ],
      "metadata": {
        "id": "rqNEhcUweEti"
      },
      "execution_count": 5,
      "outputs": []
    },
    {
      "cell_type": "code",
      "source": [
        "# Handle duplicates by averaging ratings\n",
        "data = data.groupby(['userId', 'itemId']).rating.mean().reset_index()"
      ],
      "metadata": {
        "id": "NK1Cq40zgZoH"
      },
      "execution_count": 6,
      "outputs": []
    },
    {
      "cell_type": "code",
      "source": [
        "# Train-test split\n",
        "train_data, test_data = train_test_split(data, test_size=0.2, random_state=42)"
      ],
      "metadata": {
        "id": "b0pQsMP5gb1V"
      },
      "execution_count": 7,
      "outputs": []
    },
    {
      "cell_type": "markdown",
      "source": [
        "Proses memuat dan membersihkan data dimulai dengan memuat dataset ulasan wisata, diikuti dengan pengubahan nama kolom menjadi lebih sederhana (**userId**, **itemId**, dan **rating**) untuk memudahkan manipulasi. Data yang tidak relevan seperti nilai kosong (**NaN**) dihapus, sementara ID pengguna dan tempat wisata di-encode menjadi nilai numerik agar kompatibel dengan model. Duplikasi data ditangani dengan menghitung rata-rata rating untuk pasangan **userId-itemId** yang sama, memastikan representasi data lebih akurat. Terakhir, data dibagi menjadi data pelatihan dan pengujian menggunakan train-test split, dengan 20% data digunakan untuk evaluasi. Proses ini bertujuan memastikan data bersih, terstruktur, dan siap digunakan dalam model, sehingga mendukung hasil prediksi yang akurat dan dapat diandalkan."
      ],
      "metadata": {
        "id": "Akd7nS8zG6Ef"
      }
    },
    {
      "cell_type": "markdown",
      "source": [
        "3. Membangun Model Collaborative Filtering"
      ],
      "metadata": {
        "id": "uGNPGC6rg1JX"
      }
    },
    {
      "cell_type": "code",
      "source": [
        "# Get the number of unique users and items\n",
        "num_users = data['userId'].nunique()\n",
        "num_items = data['itemId'].nunique()"
      ],
      "metadata": {
        "id": "IjgZik76geiv"
      },
      "execution_count": 8,
      "outputs": []
    },
    {
      "cell_type": "markdown",
      "source": [
        "Kode ini digunakan untuk menghitung jumlah pengguna dan item unik dalam dataset yang akan digunakan untuk membangun model Collaborative Filtering. Variabel **`num_users`** menghitung jumlah pengguna unik dalam data dengan menggunakan metode `nunique()` pada kolom `userId`, sementara **`num_items`** menghitung jumlah item unik dengan metode yang sama pada kolom `itemId`. Nilai ini penting karena dalam Collaborative Filtering, jumlah pengguna dan item akan digunakan untuk menentukan ukuran embedding layer pada model yang dibangun. Informasi ini juga memberikan gambaran tentang kompleksitas model yang akan dibuat, di mana semakin banyak pengguna dan item, semakin besar model yang diperlukan. Dengan memahami jumlah pengguna dan item ini, kita dapat merancang arsitektur jaringan saraf dengan lebih efektif untuk memprediksi preferensi pengguna dalam sistem rekomendasi."
      ],
      "metadata": {
        "id": "XnN3arJwG-wx"
      }
    },
    {
      "cell_type": "code",
      "source": [
        "# Model architecture with improvements\n",
        "user_input = Input(shape=(1,), name='user_input')\n",
        "item_input = Input(shape=(1,), name='item_input')\n",
        "\n",
        "user_embedding = Embedding(num_users, 100, name='user_embedding', embeddings_regularizer=tf.keras.regularizers.l2(0.01))(user_input)\n",
        "item_embedding = Embedding(num_items, 100, name='item_embedding', embeddings_regularizer=tf.keras.regularizers.l2(0.01))(item_input)\n",
        "\n",
        "user_flatten = Flatten()(user_embedding)\n",
        "item_flatten = Flatten()(item_embedding)"
      ],
      "metadata": {
        "id": "aKsAPuvVg5U_"
      },
      "execution_count": 9,
      "outputs": []
    },
    {
      "cell_type": "markdown",
      "source": [
        "Arsitektur ini menggunakan metode Collaborative Filtering dengan pendekatan matrix factorization yang didukung oleh embedding layer. Embedding ini memungkinkan model untuk mempelajari representasi yang semantik dari pengguna dan item berdasarkan pola interaksi mereka dalam data. Penggunaan regularisasi L2 membantu mencegah model menjadi terlalu kompleks atau overfit dengan memberikan penalti pada bobot yang memiliki nilai besar. Model ini dirancang agar dapat memprediksi interaksi antara pengguna dan item melalui operasi yang akan dilakukan setelah tahap embedding ini, seperti operasi dot product atau lapisan tambahan dalam model."
      ],
      "metadata": {
        "id": "xuowExCXHBml"
      }
    },
    {
      "cell_type": "code",
      "source": [
        "# Concatenate user and item embeddings\n",
        "concat = Concatenate()([user_flatten, item_flatten])"
      ],
      "metadata": {
        "id": "jMCOpJV8g7iz"
      },
      "execution_count": 10,
      "outputs": []
    },
    {
      "cell_type": "code",
      "source": [
        "# Dense layer for learning non-linear interactions\n",
        "dense_1 = Dense(128, activation='relu')(concat)\n",
        "dropout_1 = tf.keras.layers.Dropout(0.2)(dense_1)\n",
        "dense_2 = Dense(64, activation='relu')(dropout_1)\n",
        "dropout_2 = tf.keras.layers.Dropout(0.2)(dense_2)\n",
        "output = Dense(1, activation='linear')(dropout_2)\n",
        "\n",
        "model = Model(inputs=[user_input, item_input], outputs=output)\n",
        "model.compile(optimizer=Adam(learning_rate=0.001), loss='mse')\n",
        "\n",
        "# Summary\n",
        "model.summary()"
      ],
      "metadata": {
        "colab": {
          "base_uri": "https://localhost:8080/",
          "height": 561
        },
        "id": "4RlM7jGpg98j",
        "outputId": "1aaba138-0988-42c6-febf-efc13e30fd7c"
      },
      "execution_count": 11,
      "outputs": [
        {
          "output_type": "display_data",
          "data": {
            "text/plain": [
              "\u001b[1mModel: \"functional\"\u001b[0m\n"
            ],
            "text/html": [
              "<pre style=\"white-space:pre;overflow-x:auto;line-height:normal;font-family:Menlo,'DejaVu Sans Mono',consolas,'Courier New',monospace\"><span style=\"font-weight: bold\">Model: \"functional\"</span>\n",
              "</pre>\n"
            ]
          },
          "metadata": {}
        },
        {
          "output_type": "display_data",
          "data": {
            "text/plain": [
              "┏━━━━━━━━━━━━━━━━━━━━━━━━━━━┳━━━━━━━━━━━━━━━━━━━━━━━━┳━━━━━━━━━━━━━━━━┳━━━━━━━━━━━━━━━━━━━━━━━━┓\n",
              "┃\u001b[1m \u001b[0m\u001b[1mLayer (type)             \u001b[0m\u001b[1m \u001b[0m┃\u001b[1m \u001b[0m\u001b[1mOutput Shape          \u001b[0m\u001b[1m \u001b[0m┃\u001b[1m \u001b[0m\u001b[1m       Param #\u001b[0m\u001b[1m \u001b[0m┃\u001b[1m \u001b[0m\u001b[1mConnected to          \u001b[0m\u001b[1m \u001b[0m┃\n",
              "┡━━━━━━━━━━━━━━━━━━━━━━━━━━━╇━━━━━━━━━━━━━━━━━━━━━━━━╇━━━━━━━━━━━━━━━━╇━━━━━━━━━━━━━━━━━━━━━━━━┩\n",
              "│ user_input (\u001b[38;5;33mInputLayer\u001b[0m)   │ (\u001b[38;5;45mNone\u001b[0m, \u001b[38;5;34m1\u001b[0m)              │              \u001b[38;5;34m0\u001b[0m │ -                      │\n",
              "├───────────────────────────┼────────────────────────┼────────────────┼────────────────────────┤\n",
              "│ item_input (\u001b[38;5;33mInputLayer\u001b[0m)   │ (\u001b[38;5;45mNone\u001b[0m, \u001b[38;5;34m1\u001b[0m)              │              \u001b[38;5;34m0\u001b[0m │ -                      │\n",
              "├───────────────────────────┼────────────────────────┼────────────────┼────────────────────────┤\n",
              "│ user_embedding            │ (\u001b[38;5;45mNone\u001b[0m, \u001b[38;5;34m1\u001b[0m, \u001b[38;5;34m100\u001b[0m)         │      \u001b[38;5;34m1,501,100\u001b[0m │ user_input[\u001b[38;5;34m0\u001b[0m][\u001b[38;5;34m0\u001b[0m]       │\n",
              "│ (\u001b[38;5;33mEmbedding\u001b[0m)               │                        │                │                        │\n",
              "├───────────────────────────┼────────────────────────┼────────────────┼────────────────────────┤\n",
              "│ item_embedding            │ (\u001b[38;5;45mNone\u001b[0m, \u001b[38;5;34m1\u001b[0m, \u001b[38;5;34m100\u001b[0m)         │         \u001b[38;5;34m10,100\u001b[0m │ item_input[\u001b[38;5;34m0\u001b[0m][\u001b[38;5;34m0\u001b[0m]       │\n",
              "│ (\u001b[38;5;33mEmbedding\u001b[0m)               │                        │                │                        │\n",
              "├───────────────────────────┼────────────────────────┼────────────────┼────────────────────────┤\n",
              "│ flatten (\u001b[38;5;33mFlatten\u001b[0m)         │ (\u001b[38;5;45mNone\u001b[0m, \u001b[38;5;34m100\u001b[0m)            │              \u001b[38;5;34m0\u001b[0m │ user_embedding[\u001b[38;5;34m0\u001b[0m][\u001b[38;5;34m0\u001b[0m]   │\n",
              "├───────────────────────────┼────────────────────────┼────────────────┼────────────────────────┤\n",
              "│ flatten_1 (\u001b[38;5;33mFlatten\u001b[0m)       │ (\u001b[38;5;45mNone\u001b[0m, \u001b[38;5;34m100\u001b[0m)            │              \u001b[38;5;34m0\u001b[0m │ item_embedding[\u001b[38;5;34m0\u001b[0m][\u001b[38;5;34m0\u001b[0m]   │\n",
              "├───────────────────────────┼────────────────────────┼────────────────┼────────────────────────┤\n",
              "│ concatenate (\u001b[38;5;33mConcatenate\u001b[0m) │ (\u001b[38;5;45mNone\u001b[0m, \u001b[38;5;34m200\u001b[0m)            │              \u001b[38;5;34m0\u001b[0m │ flatten[\u001b[38;5;34m0\u001b[0m][\u001b[38;5;34m0\u001b[0m],         │\n",
              "│                           │                        │                │ flatten_1[\u001b[38;5;34m0\u001b[0m][\u001b[38;5;34m0\u001b[0m]        │\n",
              "├───────────────────────────┼────────────────────────┼────────────────┼────────────────────────┤\n",
              "│ dense (\u001b[38;5;33mDense\u001b[0m)             │ (\u001b[38;5;45mNone\u001b[0m, \u001b[38;5;34m128\u001b[0m)            │         \u001b[38;5;34m25,728\u001b[0m │ concatenate[\u001b[38;5;34m0\u001b[0m][\u001b[38;5;34m0\u001b[0m]      │\n",
              "├───────────────────────────┼────────────────────────┼────────────────┼────────────────────────┤\n",
              "│ dropout (\u001b[38;5;33mDropout\u001b[0m)         │ (\u001b[38;5;45mNone\u001b[0m, \u001b[38;5;34m128\u001b[0m)            │              \u001b[38;5;34m0\u001b[0m │ dense[\u001b[38;5;34m0\u001b[0m][\u001b[38;5;34m0\u001b[0m]            │\n",
              "├───────────────────────────┼────────────────────────┼────────────────┼────────────────────────┤\n",
              "│ dense_1 (\u001b[38;5;33mDense\u001b[0m)           │ (\u001b[38;5;45mNone\u001b[0m, \u001b[38;5;34m64\u001b[0m)             │          \u001b[38;5;34m8,256\u001b[0m │ dropout[\u001b[38;5;34m0\u001b[0m][\u001b[38;5;34m0\u001b[0m]          │\n",
              "├───────────────────────────┼────────────────────────┼────────────────┼────────────────────────┤\n",
              "│ dropout_1 (\u001b[38;5;33mDropout\u001b[0m)       │ (\u001b[38;5;45mNone\u001b[0m, \u001b[38;5;34m64\u001b[0m)             │              \u001b[38;5;34m0\u001b[0m │ dense_1[\u001b[38;5;34m0\u001b[0m][\u001b[38;5;34m0\u001b[0m]          │\n",
              "├───────────────────────────┼────────────────────────┼────────────────┼────────────────────────┤\n",
              "│ dense_2 (\u001b[38;5;33mDense\u001b[0m)           │ (\u001b[38;5;45mNone\u001b[0m, \u001b[38;5;34m1\u001b[0m)              │             \u001b[38;5;34m65\u001b[0m │ dropout_1[\u001b[38;5;34m0\u001b[0m][\u001b[38;5;34m0\u001b[0m]        │\n",
              "└───────────────────────────┴────────────────────────┴────────────────┴────────────────────────┘\n"
            ],
            "text/html": [
              "<pre style=\"white-space:pre;overflow-x:auto;line-height:normal;font-family:Menlo,'DejaVu Sans Mono',consolas,'Courier New',monospace\">┏━━━━━━━━━━━━━━━━━━━━━━━━━━━┳━━━━━━━━━━━━━━━━━━━━━━━━┳━━━━━━━━━━━━━━━━┳━━━━━━━━━━━━━━━━━━━━━━━━┓\n",
              "┃<span style=\"font-weight: bold\"> Layer (type)              </span>┃<span style=\"font-weight: bold\"> Output Shape           </span>┃<span style=\"font-weight: bold\">        Param # </span>┃<span style=\"font-weight: bold\"> Connected to           </span>┃\n",
              "┡━━━━━━━━━━━━━━━━━━━━━━━━━━━╇━━━━━━━━━━━━━━━━━━━━━━━━╇━━━━━━━━━━━━━━━━╇━━━━━━━━━━━━━━━━━━━━━━━━┩\n",
              "│ user_input (<span style=\"color: #0087ff; text-decoration-color: #0087ff\">InputLayer</span>)   │ (<span style=\"color: #00d7ff; text-decoration-color: #00d7ff\">None</span>, <span style=\"color: #00af00; text-decoration-color: #00af00\">1</span>)              │              <span style=\"color: #00af00; text-decoration-color: #00af00\">0</span> │ -                      │\n",
              "├───────────────────────────┼────────────────────────┼────────────────┼────────────────────────┤\n",
              "│ item_input (<span style=\"color: #0087ff; text-decoration-color: #0087ff\">InputLayer</span>)   │ (<span style=\"color: #00d7ff; text-decoration-color: #00d7ff\">None</span>, <span style=\"color: #00af00; text-decoration-color: #00af00\">1</span>)              │              <span style=\"color: #00af00; text-decoration-color: #00af00\">0</span> │ -                      │\n",
              "├───────────────────────────┼────────────────────────┼────────────────┼────────────────────────┤\n",
              "│ user_embedding            │ (<span style=\"color: #00d7ff; text-decoration-color: #00d7ff\">None</span>, <span style=\"color: #00af00; text-decoration-color: #00af00\">1</span>, <span style=\"color: #00af00; text-decoration-color: #00af00\">100</span>)         │      <span style=\"color: #00af00; text-decoration-color: #00af00\">1,501,100</span> │ user_input[<span style=\"color: #00af00; text-decoration-color: #00af00\">0</span>][<span style=\"color: #00af00; text-decoration-color: #00af00\">0</span>]       │\n",
              "│ (<span style=\"color: #0087ff; text-decoration-color: #0087ff\">Embedding</span>)               │                        │                │                        │\n",
              "├───────────────────────────┼────────────────────────┼────────────────┼────────────────────────┤\n",
              "│ item_embedding            │ (<span style=\"color: #00d7ff; text-decoration-color: #00d7ff\">None</span>, <span style=\"color: #00af00; text-decoration-color: #00af00\">1</span>, <span style=\"color: #00af00; text-decoration-color: #00af00\">100</span>)         │         <span style=\"color: #00af00; text-decoration-color: #00af00\">10,100</span> │ item_input[<span style=\"color: #00af00; text-decoration-color: #00af00\">0</span>][<span style=\"color: #00af00; text-decoration-color: #00af00\">0</span>]       │\n",
              "│ (<span style=\"color: #0087ff; text-decoration-color: #0087ff\">Embedding</span>)               │                        │                │                        │\n",
              "├───────────────────────────┼────────────────────────┼────────────────┼────────────────────────┤\n",
              "│ flatten (<span style=\"color: #0087ff; text-decoration-color: #0087ff\">Flatten</span>)         │ (<span style=\"color: #00d7ff; text-decoration-color: #00d7ff\">None</span>, <span style=\"color: #00af00; text-decoration-color: #00af00\">100</span>)            │              <span style=\"color: #00af00; text-decoration-color: #00af00\">0</span> │ user_embedding[<span style=\"color: #00af00; text-decoration-color: #00af00\">0</span>][<span style=\"color: #00af00; text-decoration-color: #00af00\">0</span>]   │\n",
              "├───────────────────────────┼────────────────────────┼────────────────┼────────────────────────┤\n",
              "│ flatten_1 (<span style=\"color: #0087ff; text-decoration-color: #0087ff\">Flatten</span>)       │ (<span style=\"color: #00d7ff; text-decoration-color: #00d7ff\">None</span>, <span style=\"color: #00af00; text-decoration-color: #00af00\">100</span>)            │              <span style=\"color: #00af00; text-decoration-color: #00af00\">0</span> │ item_embedding[<span style=\"color: #00af00; text-decoration-color: #00af00\">0</span>][<span style=\"color: #00af00; text-decoration-color: #00af00\">0</span>]   │\n",
              "├───────────────────────────┼────────────────────────┼────────────────┼────────────────────────┤\n",
              "│ concatenate (<span style=\"color: #0087ff; text-decoration-color: #0087ff\">Concatenate</span>) │ (<span style=\"color: #00d7ff; text-decoration-color: #00d7ff\">None</span>, <span style=\"color: #00af00; text-decoration-color: #00af00\">200</span>)            │              <span style=\"color: #00af00; text-decoration-color: #00af00\">0</span> │ flatten[<span style=\"color: #00af00; text-decoration-color: #00af00\">0</span>][<span style=\"color: #00af00; text-decoration-color: #00af00\">0</span>],         │\n",
              "│                           │                        │                │ flatten_1[<span style=\"color: #00af00; text-decoration-color: #00af00\">0</span>][<span style=\"color: #00af00; text-decoration-color: #00af00\">0</span>]        │\n",
              "├───────────────────────────┼────────────────────────┼────────────────┼────────────────────────┤\n",
              "│ dense (<span style=\"color: #0087ff; text-decoration-color: #0087ff\">Dense</span>)             │ (<span style=\"color: #00d7ff; text-decoration-color: #00d7ff\">None</span>, <span style=\"color: #00af00; text-decoration-color: #00af00\">128</span>)            │         <span style=\"color: #00af00; text-decoration-color: #00af00\">25,728</span> │ concatenate[<span style=\"color: #00af00; text-decoration-color: #00af00\">0</span>][<span style=\"color: #00af00; text-decoration-color: #00af00\">0</span>]      │\n",
              "├───────────────────────────┼────────────────────────┼────────────────┼────────────────────────┤\n",
              "│ dropout (<span style=\"color: #0087ff; text-decoration-color: #0087ff\">Dropout</span>)         │ (<span style=\"color: #00d7ff; text-decoration-color: #00d7ff\">None</span>, <span style=\"color: #00af00; text-decoration-color: #00af00\">128</span>)            │              <span style=\"color: #00af00; text-decoration-color: #00af00\">0</span> │ dense[<span style=\"color: #00af00; text-decoration-color: #00af00\">0</span>][<span style=\"color: #00af00; text-decoration-color: #00af00\">0</span>]            │\n",
              "├───────────────────────────┼────────────────────────┼────────────────┼────────────────────────┤\n",
              "│ dense_1 (<span style=\"color: #0087ff; text-decoration-color: #0087ff\">Dense</span>)           │ (<span style=\"color: #00d7ff; text-decoration-color: #00d7ff\">None</span>, <span style=\"color: #00af00; text-decoration-color: #00af00\">64</span>)             │          <span style=\"color: #00af00; text-decoration-color: #00af00\">8,256</span> │ dropout[<span style=\"color: #00af00; text-decoration-color: #00af00\">0</span>][<span style=\"color: #00af00; text-decoration-color: #00af00\">0</span>]          │\n",
              "├───────────────────────────┼────────────────────────┼────────────────┼────────────────────────┤\n",
              "│ dropout_1 (<span style=\"color: #0087ff; text-decoration-color: #0087ff\">Dropout</span>)       │ (<span style=\"color: #00d7ff; text-decoration-color: #00d7ff\">None</span>, <span style=\"color: #00af00; text-decoration-color: #00af00\">64</span>)             │              <span style=\"color: #00af00; text-decoration-color: #00af00\">0</span> │ dense_1[<span style=\"color: #00af00; text-decoration-color: #00af00\">0</span>][<span style=\"color: #00af00; text-decoration-color: #00af00\">0</span>]          │\n",
              "├───────────────────────────┼────────────────────────┼────────────────┼────────────────────────┤\n",
              "│ dense_2 (<span style=\"color: #0087ff; text-decoration-color: #0087ff\">Dense</span>)           │ (<span style=\"color: #00d7ff; text-decoration-color: #00d7ff\">None</span>, <span style=\"color: #00af00; text-decoration-color: #00af00\">1</span>)              │             <span style=\"color: #00af00; text-decoration-color: #00af00\">65</span> │ dropout_1[<span style=\"color: #00af00; text-decoration-color: #00af00\">0</span>][<span style=\"color: #00af00; text-decoration-color: #00af00\">0</span>]        │\n",
              "└───────────────────────────┴────────────────────────┴────────────────┴────────────────────────┘\n",
              "</pre>\n"
            ]
          },
          "metadata": {}
        },
        {
          "output_type": "display_data",
          "data": {
            "text/plain": [
              "\u001b[1m Total params: \u001b[0m\u001b[38;5;34m1,545,249\u001b[0m (5.89 MB)\n"
            ],
            "text/html": [
              "<pre style=\"white-space:pre;overflow-x:auto;line-height:normal;font-family:Menlo,'DejaVu Sans Mono',consolas,'Courier New',monospace\"><span style=\"font-weight: bold\"> Total params: </span><span style=\"color: #00af00; text-decoration-color: #00af00\">1,545,249</span> (5.89 MB)\n",
              "</pre>\n"
            ]
          },
          "metadata": {}
        },
        {
          "output_type": "display_data",
          "data": {
            "text/plain": [
              "\u001b[1m Trainable params: \u001b[0m\u001b[38;5;34m1,545,249\u001b[0m (5.89 MB)\n"
            ],
            "text/html": [
              "<pre style=\"white-space:pre;overflow-x:auto;line-height:normal;font-family:Menlo,'DejaVu Sans Mono',consolas,'Courier New',monospace\"><span style=\"font-weight: bold\"> Trainable params: </span><span style=\"color: #00af00; text-decoration-color: #00af00\">1,545,249</span> (5.89 MB)\n",
              "</pre>\n"
            ]
          },
          "metadata": {}
        },
        {
          "output_type": "display_data",
          "data": {
            "text/plain": [
              "\u001b[1m Non-trainable params: \u001b[0m\u001b[38;5;34m0\u001b[0m (0.00 B)\n"
            ],
            "text/html": [
              "<pre style=\"white-space:pre;overflow-x:auto;line-height:normal;font-family:Menlo,'DejaVu Sans Mono',consolas,'Courier New',monospace\"><span style=\"font-weight: bold\"> Non-trainable params: </span><span style=\"color: #00af00; text-decoration-color: #00af00\">0</span> (0.00 B)\n",
              "</pre>\n"
            ]
          },
          "metadata": {}
        }
      ]
    },
    {
      "cell_type": "markdown",
      "source": [
        "Arsitektur model ini dirancang untuk mempelajari interaksi non-linear antara pengguna dan item dalam sistem rekomendasi menggunakan pendekatan Collaborative Filtering berbasis neural network. Model ini diawali dengan menggabungkan vektor embedding pengguna dan item, lalu diteruskan melalui beberapa lapisan **Dense** untuk mempelajari pola yang kompleks. Lapisan pertama memiliki 128 unit dengan fungsi aktivasi **ReLU**, yang memungkinkan model menangkap hubungan non-linear antara pengguna dan item berdasarkan representasi embedding yang digabungkan sebelumnya. Selanjutnya, **Dropout** dengan tingkat 20% diterapkan untuk mengurangi risiko overfitting dengan mematikan sebagian unit selama pelatihan, sehingga model dapat lebih mudah menggeneralisasi pola pada data baru.\n",
        "\n",
        "Lapisan kedua memiliki 64 unit dengan fungsi aktivasi **ReLU** dan lagi diberi **Dropout** sebesar 20% untuk menjaga kemampuan model agar tetap fleksibel dan tidak bergantung pada fitur tertentu dalam data. Di bagian akhir, lapisan output memiliki satu unit dengan fungsi aktivasi **linear** yang dirancang untuk memprediksi nilai rating dalam skala kontinu. Model ini dikompilasi menggunakan optimizer **Adam** dengan laju pembelajaran 0.001 dan fungsi kerugian **Mean Squared Error (MSE)**, yang cocok untuk tugas prediksi rating karena mengukur seberapa jauh perbedaan antara nilai prediksi dan nilai aktual.\n",
        "\n",
        "Melalui arsitektur ini, model memiliki kapasitas untuk mempelajari hubungan kompleks antara pengguna dan item serta memprediksi rating dengan akurasi yang optimal. Regularisasi dengan dropout memastikan model dapat menghindari overfitting dan tetap dapat bekerja dengan baik saat diuji dengan data baru. Model ini diharapkan mampu memprediksi rating dengan performa yang memuaskan pada berbagai pengguna dan item yang ada dalam dataset."
      ],
      "metadata": {
        "id": "BlFrznVIHF4A"
      }
    },
    {
      "cell_type": "code",
      "source": [
        "# Prepare training data\n",
        "train_users = train_data['userId'].values\n",
        "train_items = train_data['itemId'].values\n",
        "train_ratings = train_data['rating'].values\n",
        "\n",
        "# Train the model\n",
        "history = model.fit(\n",
        "    x=[train_users, train_items],\n",
        "    y=train_ratings,\n",
        "    batch_size=64,\n",
        "    epochs=10,\n",
        "    validation_split=0.1\n",
        ")\n"
      ],
      "metadata": {
        "colab": {
          "base_uri": "https://localhost:8080/"
        },
        "id": "Mn-JOhJ-rvvB",
        "outputId": "4a48b4ab-4f3f-44d3-bad8-e5c52adc7b64"
      },
      "execution_count": 12,
      "outputs": [
        {
          "output_type": "stream",
          "name": "stdout",
          "text": [
            "Epoch 1/10\n",
            "\u001b[1m472/472\u001b[0m \u001b[32m━━━━━━━━━━━━━━━━━━━━\u001b[0m\u001b[37m\u001b[0m \u001b[1m13s\u001b[0m 25ms/step - loss: 6.8893 - val_loss: 1.0445\n",
            "Epoch 2/10\n",
            "\u001b[1m472/472\u001b[0m \u001b[32m━━━━━━━━━━━━━━━━━━━━\u001b[0m\u001b[37m\u001b[0m \u001b[1m11s\u001b[0m 23ms/step - loss: 1.2456 - val_loss: 1.0346\n",
            "Epoch 3/10\n",
            "\u001b[1m472/472\u001b[0m \u001b[32m━━━━━━━━━━━━━━━━━━━━\u001b[0m\u001b[37m\u001b[0m \u001b[1m22s\u001b[0m 27ms/step - loss: 1.1884 - val_loss: 1.0204\n",
            "Epoch 4/10\n",
            "\u001b[1m472/472\u001b[0m \u001b[32m━━━━━━━━━━━━━━━━━━━━\u001b[0m\u001b[37m\u001b[0m \u001b[1m19s\u001b[0m 24ms/step - loss: 1.0812 - val_loss: 1.0765\n",
            "Epoch 5/10\n",
            "\u001b[1m472/472\u001b[0m \u001b[32m━━━━━━━━━━━━━━━━━━━━\u001b[0m\u001b[37m\u001b[0m \u001b[1m12s\u001b[0m 26ms/step - loss: 0.9887 - val_loss: 1.1704\n",
            "Epoch 6/10\n",
            "\u001b[1m472/472\u001b[0m \u001b[32m━━━━━━━━━━━━━━━━━━━━\u001b[0m\u001b[37m\u001b[0m \u001b[1m12s\u001b[0m 25ms/step - loss: 0.9504 - val_loss: 1.1370\n",
            "Epoch 7/10\n",
            "\u001b[1m472/472\u001b[0m \u001b[32m━━━━━━━━━━━━━━━━━━━━\u001b[0m\u001b[37m\u001b[0m \u001b[1m12s\u001b[0m 24ms/step - loss: 0.8972 - val_loss: 1.1276\n",
            "Epoch 8/10\n",
            "\u001b[1m472/472\u001b[0m \u001b[32m━━━━━━━━━━━━━━━━━━━━\u001b[0m\u001b[37m\u001b[0m \u001b[1m21s\u001b[0m 26ms/step - loss: 0.9217 - val_loss: 1.0843\n",
            "Epoch 9/10\n",
            "\u001b[1m472/472\u001b[0m \u001b[32m━━━━━━━━━━━━━━━━━━━━\u001b[0m\u001b[37m\u001b[0m \u001b[1m12s\u001b[0m 26ms/step - loss: 0.8681 - val_loss: 1.1341\n",
            "Epoch 10/10\n",
            "\u001b[1m472/472\u001b[0m \u001b[32m━━━━━━━━━━━━━━━━━━━━\u001b[0m\u001b[37m\u001b[0m \u001b[1m20s\u001b[0m 25ms/step - loss: 0.8884 - val_loss: 1.1784\n"
          ]
        }
      ]
    },
    {
      "cell_type": "markdown",
      "source": [
        "####**Membagi data menjadi Train, Validation, dan Test**"
      ],
      "metadata": {
        "id": "ZPw9qYKVHMVH"
      }
    },
    {
      "cell_type": "markdown",
      "source": [
        "Pada kode diatas digunaka untuk membagi dataset menjadi tiga subset, yaitu data **Training**, **Validation**, dan **Testing** dengan proporsi tertentu. Pertama, ditentukan ukuran dari masing-masing subset berdasarkan persentase: 70% data akan digunakan untuk training, 15% untuk validation, dan sisa 15% untuk testing. Variabel `train_size` dihitung sebagai 70% dari total data, `val_size` dihitung sebagai 15% dari total data, dan `test_size` dihitung sebagai sisa dari total data setelah dikurangi `train_size` dan `val_size`.\n",
        "\n",
        "Setelah menentukan ukuran untuk setiap subset, data kemudian dibagi sesuai indeks. Data **Training** (`train_df`) diambil dari baris awal hingga `train_size`, sedangkan data **Validation** (`val_df`) diambil mulai dari `train_size` hingga `train_size + val_size`. Data **Testing** (`test_df`) mencakup sisa data mulai dari `train_size + val_size` hingga baris terakhir dataset.\n",
        "\n",
        "Selanjutnya, kode ini menampilkan jumlah data dalam setiap subset untuk memastikan pembagian telah dilakukan sesuai persentase yang ditentukan. Hasil output menunjukkan bahwa data training memiliki 30.258 baris, data validation memiliki 6.483 baris, dan data testing memiliki 6.485 baris. Dengan pembagian ini, dataset kini siap digunakan untuk melatih model (training), mengoptimasi hyperparameter (validation), dan menguji performa model (testing)."
      ],
      "metadata": {
        "id": "3zqPLmpVHN2o"
      }
    },
    {
      "cell_type": "markdown",
      "source": [
        "5. Evaluasi Model\n",
        "\n"
      ],
      "metadata": {
        "id": "HhhMRIEdhs2o"
      }
    },
    {
      "cell_type": "code",
      "source": [
        "# Prepare test data\n",
        "test_users = test_data['userId'].values\n",
        "test_items = test_data['itemId'].values\n",
        "test_ratings = test_data['rating'].values"
      ],
      "metadata": {
        "id": "Fk2EXQ9qhHJg"
      },
      "execution_count": 13,
      "outputs": []
    },
    {
      "cell_type": "markdown",
      "source": [
        "Pada tahap prediksi, model menghasilkan nilai rating berdasarkan pasangan pengguna dan item dari data pengujian. **`model.predict([test_users, test_items])`** menggunakan model yang telah dilatih untuk memprediksi preferensi pengguna terhadap tempat wisata tertentu, di mana inputnya adalah array ID pengguna (**`test_users`**) dan ID tempat wisata (**`test_items`**). Hasil prediksi berupa array dua dimensi yang kemudian diratakan menggunakan **`.flatten()`** untuk mendapatkan array satu dimensi. Langkah ini mempermudah perbandingan langsung antara prediksi dan rating aktual dalam evaluasi kinerja model. Prediksi ini memberikan wawasan tentang kemampuan model memahami pola data dan menghasilkan rekomendasi yang relevan."
      ],
      "metadata": {
        "id": "zj_8pirVHSNc"
      }
    },
    {
      "cell_type": "code",
      "source": [
        "# Predict ratings\n",
        "predictions = model.predict([test_users, test_items])\n",
        "predictions = predictions.flatten()"
      ],
      "metadata": {
        "colab": {
          "base_uri": "https://localhost:8080/"
        },
        "id": "KX-En98ihyLH",
        "outputId": "156585d0-f81c-4409-8539-d8c883d2075f"
      },
      "execution_count": 14,
      "outputs": [
        {
          "output_type": "stream",
          "name": "stdout",
          "text": [
            "\u001b[1m263/263\u001b[0m \u001b[32m━━━━━━━━━━━━━━━━━━━━\u001b[0m\u001b[37m\u001b[0m \u001b[1m1s\u001b[0m 2ms/step\n"
          ]
        }
      ]
    },
    {
      "cell_type": "code",
      "source": [
        "# Calculate metrics\n",
        "rmse = np.sqrt(mean_squared_error(test_ratings, predictions))\n",
        "mae = mean_absolute_error(test_ratings, predictions)\n",
        "\n",
        "print(f'RMSE: {rmse:.4f}')\n",
        "print(f'MAE: {mae:.4f}')"
      ],
      "metadata": {
        "colab": {
          "base_uri": "https://localhost:8080/"
        },
        "id": "b5ldxWYTh0ph",
        "outputId": "d5deeba2-73ba-4ade-f789-675311d355cb"
      },
      "execution_count": 15,
      "outputs": [
        {
          "output_type": "stream",
          "name": "stdout",
          "text": [
            "RMSE: 0.9627\n",
            "MAE: 0.6874\n"
          ]
        }
      ]
    },
    {
      "cell_type": "markdown",
      "source": [
        "Pada tahap ini, kinerja model dievaluasi menggunakan metrik **Root Mean Squared Error (RMSE)** dan **Mean Absolute Error (MAE)**.\n",
        "\n",
        "- **`mean_squared_error(test_ratings, predictions)`** menghitung rata-rata kuadrat selisih antara rating aktual (**`test_ratings`**) dan rating prediksi (**`predictions`**). Nilai ini diakarkan menggunakan **`np.sqrt`** untuk mendapatkan RMSE, yang mengukur sejauh mana prediksi model menyimpang dari nilai aktual. RMSE sensitif terhadap error besar, sehingga lebih menekankan prediksi yang jauh meleset.\n",
        "\n",
        "- **`mean_absolute_error(test_ratings, predictions)`** menghitung rata-rata nilai absolut selisih antara prediksi dan nilai aktual. MAE memberikan gambaran sederhana tentang rata-rata error tanpa membedakan ukuran error besar atau kecil.\n",
        "\n",
        "- **Output**: Nilai RMSE dan MAE dicetak dengan format desimal empat angka untuk menunjukkan tingkat akurasi model. Nilai RMSE dan MAE yang rendah menunjukkan bahwa model dapat memprediksi rating dengan baik, sedangkan nilai yang lebih tinggi mengindikasikan bahwa model masih perlu diperbaiki. Analisis ini memberikan indikasi seberapa baik model menangkap pola preferensi pengguna."
      ],
      "metadata": {
        "id": "s0RoU87ZHVdW"
      }
    },
    {
      "cell_type": "markdown",
      "source": [
        "6. Metrik Precision, Recall, dan MAP"
      ],
      "metadata": {
        "id": "-QNfx2t2scan"
      }
    },
    {
      "cell_type": "code",
      "source": [
        "def precision_at_k(predictions, test_data, k=10):\n",
        "    test_data = pd.DataFrame({'userId': test_data['userId'], 'itemId': test_data['itemId'], 'rating': test_data['rating']})\n",
        "    test_data['prediction'] = predictions\n",
        "    test_data = test_data.sort_values(['userId', 'prediction'], ascending=[True, False])\n",
        "\n",
        "    precision_list = []\n",
        "    for user in test_data['userId'].unique():\n",
        "        user_data = test_data[test_data['userId'] == user]\n",
        "        top_k = user_data.head(k)\n",
        "        relevant_items = (top_k['rating'] >= 4).sum()\n",
        "        precision_list.append(relevant_items / k)\n",
        "    return np.mean(precision_list)\n",
        "\n",
        "precision = precision_at_k(predictions, test_data, k=10)\n",
        "print(f'Precision@10: {precision:.4f}')"
      ],
      "metadata": {
        "colab": {
          "base_uri": "https://localhost:8080/"
        },
        "id": "HS3bK8KasV0m",
        "outputId": "7aebccf3-1624-482f-9e01-2131173d69ec"
      },
      "execution_count": 16,
      "outputs": [
        {
          "output_type": "stream",
          "name": "stdout",
          "text": [
            "Precision@10: 0.1169\n"
          ]
        }
      ]
    },
    {
      "cell_type": "markdown",
      "source": [
        "Kode ini menghitung metrik **Precision@k** untuk mengevaluasi seberapa baik model merekomendasikan tempat wisata yang relevan bagi pengguna. Fungsi **`precision_at_k`** mengurutkan data pengujian berdasarkan ID pengguna dan prediksi rating dalam urutan menurun, untuk mendapatkan 10 item teratas (**top-k**) yang diprediksi paling relevan untuk setiap pengguna. Kemudian, fungsi menghitung jumlah item dalam **top-k** yang memiliki rating aktual ≥ 4 (dianggap relevan) dan membaginya dengan nilai **k** (jumlah item yang dipertimbangkan, dalam hal ini 10). Precision untuk setiap pengguna dihitung, dan rata-ratanya diambil sebagai nilai akhir. Metrik ini memberikan gambaran tentang akurasi rekomendasi model pada level pengguna, menunjukkan proporsi rekomendasi yang relevan dalam daftar teratas yang diberikan model. Precision@10 yang tinggi menunjukkan bahwa model berhasil merekomendasikan tempat wisata yang relevan dengan preferensi pengguna."
      ],
      "metadata": {
        "id": "FL2t_2c4HZdY"
      }
    },
    {
      "cell_type": "code",
      "source": [
        "def recall_at_k(predictions, test_data, k=10):\n",
        "    \"\"\"\n",
        "    Calculates Recall@K.\n",
        "    \"\"\"\n",
        "    test_data = pd.DataFrame({'userId': test_data['userId'], 'itemId': test_data['itemId'], 'rating': test_data['rating']})\n",
        "    test_data['prediction'] = predictions\n",
        "    test_data = test_data.sort_values(['userId', 'prediction'], ascending=[True, False])\n",
        "\n",
        "    recall_list = []\n",
        "    for user in test_data['userId'].unique():\n",
        "        user_data = test_data[test_data['userId'] == user]\n",
        "        top_k = user_data.head(k)\n",
        "        relevant_items = (user_data['rating'] >= 4).sum()\n",
        "        relevant_items_in_top_k = (top_k['rating'] >= 4).sum()\n",
        "        recall = relevant_items_in_top_k / relevant_items if relevant_items > 0 else 0\n",
        "        recall_list.append(recall)\n",
        "    return np.mean(recall_list)\n",
        "\n",
        "# Hitung Recall@K\n",
        "\n",
        "recall = recall_at_k(predictions, test_data, k=10)\n",
        "\n",
        "print(f'Recall@10: {recall:.4f}')"
      ],
      "metadata": {
        "colab": {
          "base_uri": "https://localhost:8080/"
        },
        "id": "dyKNTdZRti8C",
        "outputId": "5b6634f0-8ffc-48e9-ca07-df2a3881ee87"
      },
      "execution_count": 17,
      "outputs": [
        {
          "output_type": "stream",
          "name": "stdout",
          "text": [
            "Recall@10: 0.8969\n"
          ]
        }
      ]
    },
    {
      "cell_type": "markdown",
      "source": [
        "Fungsi ini menghitung metrik **Recall@k** untuk mengevaluasi sejauh mana model berhasil merekomendasikan item relevan dari total item relevan yang tersedia untuk setiap pengguna. Pertama, data pengujian diurutkan berdasarkan ID pengguna dan prediksi rating dalam urutan menurun agar daftar rekomendasi memprioritaskan item dengan rating tertinggi. Untuk setiap pengguna, jumlah item relevan (rating ≥ 4) dihitung dari seluruh data pengujian, sementara jumlah item relevan dalam daftar **top-k** dihitung berdasarkan rekomendasi yang dihasilkan model. Recall dihitung sebagai rasio antara jumlah item relevan dalam **top-k** dengan jumlah total item relevan untuk pengguna tersebut, dengan nilai nol jika pengguna tidak memiliki item relevan. Selanjutnya, nilai recall ini dihitung untuk semua pengguna dalam dataset, dan rata-ratanya diambil sebagai nilai akhir **Recall@k**. Output ini memberikan gambaran tentang seberapa efektif model dalam merekomendasikan item yang relevan, di mana nilai Recall@10 yang tinggi menunjukkan bahwa model mampu menangkap banyak item relevan dari total yang tersedia, sehingga hasil rekomendasinya lebih komprehensif."
      ],
      "metadata": {
        "id": "mi9xhQ-lHcEy"
      }
    },
    {
      "cell_type": "code",
      "source": [
        "def map_at_k(predictions, test_data, k=10):\n",
        "    \"\"\"\n",
        "    Calculates Mean Average Precision (MAP@K).\n",
        "    \"\"\"\n",
        "    test_data = pd.DataFrame({'userId': test_data['userId'], 'itemId': test_data['itemId'], 'rating': test_data['rating']})\n",
        "    test_data['prediction'] = predictions\n",
        "    test_data = test_data.sort_values(['userId', 'prediction'], ascending=[True, False])\n",
        "\n",
        "    ap_list = []\n",
        "    for user in test_data['userId'].unique():\n",
        "        user_data = test_data[test_data['userId'] == user]\n",
        "        top_k = user_data.head(k)\n",
        "        relevant_items = (top_k['rating'] >= 4)\n",
        "\n",
        "        # Average precision calculation\n",
        "        precision_accumulated = 0\n",
        "        relevant_count = 0\n",
        "        for i, is_relevant in enumerate(relevant_items, start=1):\n",
        "            if is_relevant:\n",
        "                relevant_count += 1\n",
        "                precision_accumulated += relevant_count / i\n",
        "\n",
        "        if relevant_items.sum() > 0:\n",
        "            ap_list.append(precision_accumulated / relevant_items.sum())\n",
        "        else:\n",
        "            ap_list.append(0)\n",
        "    return np.mean(ap_list)\n",
        "\n",
        "# Hitung MAP@K\n",
        "\n",
        "map_k = map_at_k(predictions, test_data, k=10)\n",
        "\n",
        "print(f'MAP@10: {map_k:.4f}')"
      ],
      "metadata": {
        "colab": {
          "base_uri": "https://localhost:8080/"
        },
        "id": "btPyocjRuE2Z",
        "outputId": "0c71a34d-fa27-4d96-a194-866726083216"
      },
      "execution_count": 18,
      "outputs": [
        {
          "output_type": "stream",
          "name": "stdout",
          "text": [
            "MAP@10: 0.8863\n"
          ]
        }
      ]
    },
    {
      "cell_type": "markdown",
      "source": [
        "Fungsi ini menghitung **Mean Average Precision (MAP@K)**, sebuah metrik yang sering digunakan untuk mengevaluasi kualitas rekomendasi dengan mempertahankan relevansi item yang muncul dalam daftar rekomendasi berdasarkan peringkatnya. Pertama, data pengujian diurutkan berdasarkan ID pengguna dan prediksi rating dalam urutan menurun agar memprioritaskan item dengan prediksi rating tertinggi. Untuk setiap pengguna, fungsi menghitung **relevant_items** dalam daftar rekomendasi **top-k** (item dengan rating ≥ 4).\n",
        "\n",
        "Selanjutnya, untuk setiap pengguna, MAP dihitung dengan menghitung rata-rata **precision** pada setiap posisi dalam daftar rekomendasi yang relevan. Ini dilakukan dengan menjumlahkan rasio relevansi yang terkumpul pada setiap posisi hingga ditemukan item yang relevan. Jika tidak ada item relevan, nilai MAP dihitung sebagai nol. Akhirnya, rata-rata nilai MAP dihitung untuk semua pengguna dalam dataset untuk mendapatkan nilai **MAP@K**. Nilai MAP yang tinggi menunjukkan bahwa model mampu memprediksi dan memprioritaskan item relevan dengan akurasi yang tinggi pada daftar rekomendasinya."
      ],
      "metadata": {
        "id": "LVfR3-QTHfQF"
      }
    },
    {
      "cell_type": "code",
      "source": [
        "import matplotlib.pyplot as plt\n",
        "import numpy as np\n",
        "\n",
        "# Nilai metrik dari output yang ada\n",
        "metrics = {\n",
        "    \"RMSE\": 0.9408,\n",
        "    \"MAE\": 0.6687,\n",
        "    \"Precision@10\": 0.1169,\n",
        "    \"Recall@10\": 0.8969,\n",
        "    \"MAP@10\": 0.8861\n",
        "}\n",
        "\n",
        "# Membuat bar chart\n",
        "plt.figure(figsize=(10, 6))\n",
        "plt.bar(metrics.keys(), metrics.values(), color=['blue', 'green', 'orange', 'red', 'purple'])\n",
        "\n",
        "# Menambahkan nilai pada setiap bar\n",
        "for i, v in enumerate(metrics.values()):\n",
        "    plt.text(i, v + 0.02, f\"{v:.4f}\", ha='center', fontsize=10)\n",
        "\n",
        "# Labeling grafik\n",
        "plt.title(\"Evaluation Metrics for Recommendation System\", fontsize=14)\n",
        "plt.ylabel(\"Value\", fontsize=12)\n",
        "plt.xlabel(\"Metrics\", fontsize=12)\n",
        "plt.ylim(0, 1.2)  # Menyesuaikan skala grafik\n",
        "plt.grid(axis='y', linestyle='--', alpha=0.7)\n",
        "\n",
        "# Tampilkan grafik\n",
        "plt.tight_layout()\n",
        "plt.show()"
      ],
      "metadata": {
        "colab": {
          "base_uri": "https://localhost:8080/",
          "height": 607
        },
        "id": "4XlxQ1OivLxx",
        "outputId": "fe811983-d8f0-4728-ee5a-fb30a9e5aa57"
      },
      "execution_count": 19,
      "outputs": [
        {
          "output_type": "display_data",
          "data": {
            "text/plain": [
              "<Figure size 1000x600 with 1 Axes>"
            ],
            "image/png": "[encoded data removed]"
          },
          "metadata": {}
        }
      ]
    },
    {
      "cell_type": "markdown",
      "source": [
        "Visualisasi ini memberikan gambaran yang jelas tentang performa model berdasarkan lima metrik evaluasi yang dihitung sebelumnya. Dari hasil grafik bar chart, kita dapat melihat nilai **RMSE (0.9408)** dan **MAE (0.6687)** sebagai ukuran kesalahan model. Nilai ini menunjukkan seberapa jauh prediksi yang dihasilkan model berbeda dengan nilai aktual, dengan nilai yang lebih kecil menunjukkan performa yang lebih baik. Selanjutnya, **Precision@10 (0.1169)** menunjukkan bahwa hanya sekitar 11,69% dari rekomendasi yang diberikan oleh model yang relevan dari daftar 10 rekomendasi teratas. Di sisi lain, **Recall@10 (0.8969)** menunjukkan bahwa sekitar 89,69% dari item relevan berhasil direkomendasikan dalam daftar 10 rekomendasi, yang menandakan model memiliki kemampuan yang baik untuk menangkap item yang relevan meskipun presisinya masih dapat ditingkatkan. Terakhir, nilai **MAP@10 (0.8861)** menunjukkan bahwa model memiliki performa yang baik dalam memprediksi relevansi dengan mempertahankan urutan peringkat rekomendasi berdasarkan akurasi. Visualisasi ini membantu dalam mengevaluasi kekuatan dan kelemahan model, menunjukkan bahwa meskipun recall dan akurasi dalam rekomendasi relevansi cukup baik, precision masih menjadi aspek yang perlu ditingkatkan untuk meningkatkan kualitas rekomendasi yang dihasilkan."
      ],
      "metadata": {
        "id": "KD9jLYseHiYF"
      }
    },
    {
      "cell_type": "markdown",
      "source": [
        "7. Visualisasi"
      ],
      "metadata": {
        "id": "T6NR_UM_so8v"
      }
    },
    {
      "cell_type": "code",
      "source": [
        "import matplotlib.pyplot as plt\n",
        "\n",
        "# Plot training loss\n",
        "plt.plot(history.history['loss'], label='Train Loss')\n",
        "plt.plot(history.history['val_loss'], label='Validation Loss')\n",
        "plt.xlabel('Epochs')\n",
        "plt.ylabel('MSE Loss')\n",
        "plt.legend()\n",
        "plt.show()"
      ],
      "metadata": {
        "colab": {
          "base_uri": "https://localhost:8080/",
          "height": 449
        },
        "id": "BfNDWAb4h2m5",
        "outputId": "acb70ecf-f5d8-4e05-b7e8-09c5bc94eacd"
      },
      "execution_count": 20,
      "outputs": [
        {
          "output_type": "display_data",
          "data": {
            "text/plain": [
              "<Figure size 640x480 with 1 Axes>"
            ],
            "image/png": "[encoded data removed]"
          },
          "metadata": {}
        }
      ]
    },
    {
      "cell_type": "markdown",
      "source": [
        "Visualisasi ini digunakan untuk memantau dan mengevaluasi performa model selama proses pelatihan dengan melihat **training loss** dan **validation loss** dari setiap epoch. Grafik ini menampilkan dua garis, yaitu **Train Loss** yang menggambarkan kesalahan model pada data pelatihan, dan **Validation Loss** yang menunjukkan kesalahan pada data validasi. Sumbu x merepresentasikan jumlah epoch (iterasi pelatihan), sementara sumbu y menunjukkan nilai **Mean Squared Error (MSE)** yang digunakan sebagai fungsi kerugian. Jika model bekerja dengan baik, kedua garis tersebut akan menunjukkan penurunan nilai loss seiring dengan bertambahnya epoch. Jika terjadi **overfitting**, kita bisa melihat bahwa **validation loss** mulai meningkat sementara **train loss** terus menurun. Melalui visualisasi ini, kita dapat mengevaluasi sejauh mana model sudah belajar dari data dan mendeteksi potensi masalah seperti overfitting atau underfitting selama pelatihan."
      ],
      "metadata": {
        "id": "wa4__7KvHlLS"
      }
    },
    {
      "cell_type": "markdown",
      "source": [
        "8. Membuat Rekomendasi"
      ],
      "metadata": {
        "id": "9XArTiYDubqL"
      }
    },
    {
      "cell_type": "code",
      "source": [
        "import numpy as np\n",
        "\n",
        "# Fungsi untuk mendapatkan rekomendasi top-N untuk setiap user\n",
        "def get_top_recommendations(user_id, model, num_users, num_items, top_n=10):\n",
        "    # Buat array untuk menampung prediksi rating untuk setiap item\n",
        "    item_ids = np.arange(num_items)  # Semua item yang tersedia\n",
        "    user_ids = np.full_like(item_ids, user_id)  # Setiap prediksi untuk user tertentu\n",
        "\n",
        "    # Prediksi rating untuk semua item oleh user tertentu\n",
        "    predictions = model.predict([user_ids, item_ids]).flatten()\n",
        "\n",
        "    # Ambil top-N item berdasarkan prediksi rating tertinggi\n",
        "    top_items = np.argsort(predictions)[-top_n:][::-1]  # Indeks top-N item dengan rating tertinggi\n",
        "\n",
        "    return top_items, predictions[top_items]\n",
        "\n",
        "# Contoh rekomendasi untuk User ID 1\n",
        "user_id = 1\n",
        "top_items, predicted_ratings = get_top_recommendations(user_id, model, num_users, num_items, top_n=10)\n",
        "\n",
        "# Menampilkan top rekomendasi\n",
        "print(f\"Top recommendations for User {user_id}:\")\n",
        "\n",
        "# Menampilkan ID item yang direkomendasikan bersama prediksi ratingnya\n",
        "for i, item in enumerate(top_items):\n",
        "    print(f\"Rank {i+1}: Item ID {item}, Predicted Rating: {predicted_ratings[i]:.4f}\")\n"
      ],
      "metadata": {
        "colab": {
          "base_uri": "https://localhost:8080/"
        },
        "id": "VqG6MtOsxVkL",
        "outputId": "ae28b812-08e3-4c41-f1db-7299b4ceab3a"
      },
      "execution_count": 24,
      "outputs": [
        {
          "output_type": "stream",
          "name": "stdout",
          "text": [
            "\u001b[1m4/4\u001b[0m \u001b[32m━━━━━━━━━━━━━━━━━━━━\u001b[0m\u001b[37m\u001b[0m \u001b[1m0s\u001b[0m 7ms/step \n",
            "Top recommendations for User 1:\n",
            "Rank 1: Item ID 100, Predicted Rating: 4.6638\n",
            "Rank 2: Item ID 51, Predicted Rating: 4.6215\n",
            "Rank 3: Item ID 90, Predicted Rating: 4.5589\n",
            "Rank 4: Item ID 75, Predicted Rating: 4.5461\n",
            "Rank 5: Item ID 11, Predicted Rating: 4.5440\n",
            "Rank 6: Item ID 21, Predicted Rating: 4.5392\n",
            "Rank 7: Item ID 89, Predicted Rating: 4.5337\n",
            "Rank 8: Item ID 69, Predicted Rating: 4.5325\n",
            "Rank 9: Item ID 45, Predicted Rating: 4.5226\n",
            "Rank 10: Item ID 59, Predicted Rating: 4.5207\n"
          ]
        }
      ]
    },
    {
      "cell_type": "markdown",
      "source": [
        "Model Collaborative Filtering dengan Deep Learning pada kode di atas digunakan untuk merekomendasikan item terbaik kepada pengguna berdasarkan pola interaksi mereka dengan item sebelumnya. Dalam analisis ini, prediksi dilakukan untuk *User ID 1*, dan sistem berhasil menghasilkan daftar 10 item yang direkomendasikan dengan prediksi rating tertinggi.\n",
        "\n",
        "Proses ini dimulai dengan model yang mempelajari hubungan laten antara pengguna dan item dari data pelatihan. Untuk pengguna tertentu, model memprediksi semua item yang mungkin, terlepas dari apakah pengguna tersebut telah memberikan rating sebelumnya. Prediksi ini menghasilkan skor relevansi atau nilai preferensi untuk setiap item. Setelah semua skor dihitung, sistem mengurutkan item berdasarkan nilai prediksi tertinggi. Dalam kasus ini, *Item ID 100* mendapatkan prediksi tertinggi dengan nilai 4.6574, menjadikannya item yang paling direkomendasikan untuk pengguna tersebut.\n",
        "\n",
        "Hasil prediksi menunjukkan bahwa sistem memiliki kemampuan untuk mengidentifikasi item yang kemungkinan besar diminati oleh pengguna. Skor prediksi dalam rentang tinggi (4.5 hingga 4.7) mencerminkan keyakinan model terhadap relevansi rekomendasi yang diberikan. Meskipun begitu, penting untuk memvalidasi keakuratan sistem ini dengan data uji untuk memastikan bahwa rekomendasi tersebut benar-benar relevan dengan preferensi pengguna di dunia nyata.\n",
        "\n",
        "Selain itu, hasil ini dapat dievaluasi lebih lanjut untuk menilai keberagaman rekomendasi. Jika semua item yang direkomendasikan berasal dari kategori atau kelompok yang sama, maka mungkin ada kebutuhan untuk menyeimbangkan eksplorasi dan eksploitasi dalam sistem rekomendasi. Dengan kata lain, memastikan bahwa pengguna tidak hanya direkomendasikan item yang serupa tetapi juga memiliki akses ke pilihan yang lebih bervariasi.\n",
        "\n",
        "Secara keseluruhan, sistem ini tampaknya bekerja cukup baik dalam memberikan rekomendasi yang relevan, tetapi evaluasi tambahan menggunakan data uji atau metrik performa seperti *Precision@K* dan *Recall@K* sangat diperlukan untuk memahami efektivitas sebenarnya dalam skenario dunia nyata."
      ],
      "metadata": {
        "id": "SlN_acutH_t4"
      }
    }
  ]
}