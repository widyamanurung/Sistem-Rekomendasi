{
  "nbformat": 4,
  "nbformat_minor": 0,
  "metadata": {
    "colab": {
      "provenance": []
    },
    "kernelspec": {
      "name": "python3",
      "display_name": "Python 3"
    },
    "language_info": {
      "name": "python"
    }
  },
  "cells": [
    {
      "cell_type": "markdown",
      "source": [
        "<a id=\"5\"></a>\n",
        "\n",
        "\n",
        "<font color=\"black\" size=+1><b> SISTEM REKOMENDASII TEMPAT PARIWISATA TOBA </b></font>\n",
        "\n",
        "<a id=\"4\"></a>\n",
        "\n",
        "---\n",
        "<font color=\"BLUE\" size=+1><b>  Kelompok 7  </b></font>\n",
        "\n",
        "---\n",
        "    Nama Anggota\n",
        "    1. 12S21039 Widya Indah Sari Manurung\n",
        "    2. 12S21056 Endang Siregar\n",
        "    3. 12S21060 Glory Natasya Hutahaean\n"
      ],
      "metadata": {
        "id": "yP2hLiOyguA0"
      }
    },
    {
      "cell_type": "markdown",
      "source": [
        "**1. Data Understanding & Preprocessing**"
      ],
      "metadata": {
        "id": "oK3ZTg05g04W"
      }
    },
    {
      "cell_type": "markdown",
      "source": [
        "pada understanding dan preprocessing memuat menginportan library dan memuat datset yang digunakan.\n",
        "data understanding dan processing juga memuat pengenalan dataset atau memberikan informasi seputar dataset, pengecheckan nilai null pada dataset dan process lainnya sebelum mengolah data"
      ],
      "metadata": {
        "id": "1wSUBANIBMq4"
      }
    },
    {
      "cell_type": "code",
      "source": [
        "# Import library yang diperlukan\n",
        "import pandas as pd\n",
        "import numpy as np\n",
        "from sklearn.model_selection import train_test_split\n",
        "from sklearn.preprocessing import LabelEncoder\n",
        "from tensorflow.keras.models import Model\n",
        "from tensorflow.keras.layers import Input, Embedding, Dense, Flatten, Concatenate, Dropout\n",
        "from tensorflow.keras.optimizers import Adam\n",
        "from tensorflow.keras.callbacks import EarlyStopping, ReduceLROnPlateau\n",
        "from tensorflow.keras.regularizers import l2\n",
        "import matplotlib.pyplot as plt"
      ],
      "metadata": {
        "id": "fKK9fjGe8INB"
      },
      "execution_count": null,
      "outputs": []
    },
    {
      "cell_type": "code",
      "source": [
        "# Memuat data\n",
        "file_path = '/content/Tempat-Wisata-Toba-Preprocessing.csv'\n",
        "data = pd.read_csv(file_path)\n",
        "\n",
        "# Tampilkan 5 baris pertama untuk memeriksa data\n",
        "print(\"Data yang dimuat:\")\n",
        "print(data.head())"
      ],
      "metadata": {
        "colab": {
          "base_uri": "https://localhost:8080/"
        },
        "id": "4JCtq1Ap8Rew",
        "outputId": "341e2254-17fe-4d1d-f41b-dc7d9a9e5cac"
      },
      "execution_count": null,
      "outputs": [
        {
          "output_type": "stream",
          "name": "stdout",
          "text": [
            "Data yang dimuat:\n",
            "   Unnamed: 0.1  Unnamed: 0  \\\n",
            "0             0           0   \n",
            "1             1           1   \n",
            "2             2           2   \n",
            "3             3           3   \n",
            "4             4           4   \n",
            "\n",
            "                                             address  PlaceID  \\\n",
            "0  Jl. Sibola Hotang, Sibola Hotangsas, Kec. Bali...        0   \n",
            "1  Jl. Sibola Hotang, Sibola Hotangsas, Kec. Bali...        0   \n",
            "2  Jl. Sibola Hotang, Sibola Hotangsas, Kec. Bali...        0   \n",
            "3  Jl. Sibola Hotang, Sibola Hotangsas, Kec. Bali...        0   \n",
            "4  Jl. Sibola Hotang, Sibola Hotangsas, Kec. Bali...        0   \n",
            "\n",
            "          Nama_tempat_wisata       Category    ReviewerId  Rating  \\\n",
            "0  PASIR PUTIH LUMBAN BULBUL  Wisata Bahari  1.126030e+20     5.0   \n",
            "1  PASIR PUTIH LUMBAN BULBUL  Wisata Bahari  1.119090e+20     5.0   \n",
            "2  PASIR PUTIH LUMBAN BULBUL  Wisata Bahari  1.078860e+20     5.0   \n",
            "3  PASIR PUTIH LUMBAN BULBUL  Wisata Bahari  1.130720e+20     5.0   \n",
            "4  PASIR PUTIH LUMBAN BULBUL  Wisata Bahari  1.061730e+20     5.0   \n",
            "\n",
            "                         Reviews  \n",
            "0                            NaN  \n",
            "1                          bagus  \n",
            "2                            NaN  \n",
            "3             sangat menyenagkan  \n",
            "4  bebas foto dimana aja cuma 2k  \n"
          ]
        }
      ]
    },
    {
      "cell_type": "code",
      "source": [
        "# Informasi data\n",
        "print(\"\\nInformasi data:\")\n",
        "print(data.info())"
      ],
      "metadata": {
        "colab": {
          "base_uri": "https://localhost:8080/"
        },
        "id": "DJ12Ni6n8Ryl",
        "outputId": "2c6e79a9-3cfe-469c-8ae4-2cac5301f9a4"
      },
      "execution_count": null,
      "outputs": [
        {
          "output_type": "stream",
          "name": "stdout",
          "text": [
            "\n",
            "Informasi data:\n",
            "<class 'pandas.core.frame.DataFrame'>\n",
            "RangeIndex: 43226 entries, 0 to 43225\n",
            "Data columns (total 9 columns):\n",
            " #   Column              Non-Null Count  Dtype  \n",
            "---  ------              --------------  -----  \n",
            " 0   Unnamed: 0.1        43226 non-null  int64  \n",
            " 1   Unnamed: 0          43226 non-null  int64  \n",
            " 2   address             43226 non-null  object \n",
            " 3   PlaceID             43226 non-null  int64  \n",
            " 4   Nama_tempat_wisata  43226 non-null  object \n",
            " 5   Category            43226 non-null  object \n",
            " 6   ReviewerId          43225 non-null  float64\n",
            " 7   Rating              43225 non-null  float64\n",
            " 8   Reviews             22166 non-null  object \n",
            "dtypes: float64(2), int64(3), object(4)\n",
            "memory usage: 3.0+ MB\n",
            "None\n"
          ]
        }
      ]
    },
    {
      "cell_type": "code",
      "source": [
        "# Informasi data\n",
        "print(\"\\nInformasi data:\")\n",
        "print(data.info())"
      ],
      "metadata": {
        "colab": {
          "base_uri": "https://localhost:8080/"
        },
        "id": "7SEok7IP8R2M",
        "outputId": "e7b195e1-1a4f-4450-d9a0-34cdc9e76036"
      },
      "execution_count": null,
      "outputs": [
        {
          "output_type": "stream",
          "name": "stdout",
          "text": [
            "\n",
            "Informasi data:\n",
            "<class 'pandas.core.frame.DataFrame'>\n",
            "RangeIndex: 43226 entries, 0 to 43225\n",
            "Data columns (total 9 columns):\n",
            " #   Column              Non-Null Count  Dtype  \n",
            "---  ------              --------------  -----  \n",
            " 0   Unnamed: 0.1        43226 non-null  int64  \n",
            " 1   Unnamed: 0          43226 non-null  int64  \n",
            " 2   address             43226 non-null  object \n",
            " 3   PlaceID             43226 non-null  int64  \n",
            " 4   Nama_tempat_wisata  43226 non-null  object \n",
            " 5   Category            43226 non-null  object \n",
            " 6   ReviewerId          43225 non-null  float64\n",
            " 7   Rating              43225 non-null  float64\n",
            " 8   Reviews             22166 non-null  object \n",
            "dtypes: float64(2), int64(3), object(4)\n",
            "memory usage: 3.0+ MB\n",
            "None\n"
          ]
        }
      ]
    },
    {
      "cell_type": "code",
      "source": [
        "# Mengecek distribusi rating\n",
        "print(\"\\nDistribusi Rating:\")\n",
        "print(data['Rating'].describe())"
      ],
      "metadata": {
        "colab": {
          "base_uri": "https://localhost:8080/"
        },
        "id": "9WdeoOek9E2s",
        "outputId": "c8eff6da-c577-4607-aa8c-447c3435d115"
      },
      "execution_count": null,
      "outputs": [
        {
          "output_type": "stream",
          "name": "stdout",
          "text": [
            "\n",
            "Distribusi Rating:\n",
            "count    43225.000000\n",
            "mean         4.480949\n",
            "std          0.927760\n",
            "min          1.000000\n",
            "25%          4.000000\n",
            "50%          5.000000\n",
            "75%          5.000000\n",
            "max          5.000000\n",
            "Name: Rating, dtype: float64\n"
          ]
        }
      ]
    },
    {
      "cell_type": "code",
      "source": [
        "# Periksa nilai null di data\n",
        "print(\"\\nJumlah Missing Values:\")\n",
        "print(data.isna().sum())"
      ],
      "metadata": {
        "colab": {
          "base_uri": "https://localhost:8080/"
        },
        "id": "Qrd4avLO-v46",
        "outputId": "c782e3d0-f0ea-4203-f85e-a873370e9077"
      },
      "execution_count": null,
      "outputs": [
        {
          "output_type": "stream",
          "name": "stdout",
          "text": [
            "\n",
            "Jumlah Missing Values:\n",
            "Unnamed: 0.1              0\n",
            "Unnamed: 0                0\n",
            "address                   0\n",
            "PlaceID                   0\n",
            "Nama_tempat_wisata        0\n",
            "Category                  0\n",
            "ReviewerId                1\n",
            "Rating                    1\n",
            "Reviews               21060\n",
            "dtype: int64\n"
          ]
        }
      ]
    },
    {
      "cell_type": "code",
      "source": [
        "# Hapus baris dengan missing values pada ReviewerId dan Rating\n",
        "data_cleaned = data.dropna(subset=['ReviewerId', 'Rating'])\n",
        "\n",
        "# Konfirmasi hasil\n",
        "print(\"Jumlah Missing Values setelah pembersihan:\")\n",
        "print(data_cleaned[['ReviewerId', 'Rating']].isna().sum())\n"
      ],
      "metadata": {
        "colab": {
          "base_uri": "https://localhost:8080/"
        },
        "id": "f8bRy0Av_IV2",
        "outputId": "b50931d6-2c2c-4703-92df-7848ead94763"
      },
      "execution_count": null,
      "outputs": [
        {
          "output_type": "stream",
          "name": "stdout",
          "text": [
            "Jumlah Missing Values setelah pembersihan:\n",
            "ReviewerId    0\n",
            "Rating        0\n",
            "dtype: int64\n"
          ]
        }
      ]
    },
    {
      "cell_type": "code",
      "source": [
        "# Hapus kolom Reviews karena tidak digunakan\n",
        "data_cleaned = data_cleaned.drop(columns=['Reviews'])\n",
        "\n",
        "# Konfirmasi data\n",
        "print(\"\\nData setelah kolom Reviews dihapus:\")\n",
        "print(data_cleaned.info())\n"
      ],
      "metadata": {
        "colab": {
          "base_uri": "https://localhost:8080/"
        },
        "id": "Ok9EuWMF_Kjf",
        "outputId": "59de45d0-1120-417a-ff8e-e402c7f4252e"
      },
      "execution_count": null,
      "outputs": [
        {
          "output_type": "stream",
          "name": "stdout",
          "text": [
            "\n",
            "Data setelah kolom Reviews dihapus:\n",
            "<class 'pandas.core.frame.DataFrame'>\n",
            "Index: 43225 entries, 0 to 43225\n",
            "Data columns (total 8 columns):\n",
            " #   Column              Non-Null Count  Dtype  \n",
            "---  ------              --------------  -----  \n",
            " 0   Unnamed: 0.1        43225 non-null  int64  \n",
            " 1   Unnamed: 0          43225 non-null  int64  \n",
            " 2   address             43225 non-null  object \n",
            " 3   PlaceID             43225 non-null  int64  \n",
            " 4   Nama_tempat_wisata  43225 non-null  object \n",
            " 5   Category            43225 non-null  object \n",
            " 6   ReviewerId          43225 non-null  float64\n",
            " 7   Rating              43225 non-null  float64\n",
            "dtypes: float64(2), int64(3), object(3)\n",
            "memory usage: 3.0+ MB\n",
            "None\n"
          ]
        }
      ]
    },
    {
      "cell_type": "code",
      "source": [
        "# Encode PlaceID dan ReviewerId menjadi numerik\n",
        "place_encoder = LabelEncoder()\n",
        "reviewer_encoder = LabelEncoder()\n",
        "\n",
        "data_cleaned['PlaceID_encoded'] = place_encoder.fit_transform(data_cleaned['PlaceID'])\n",
        "data_cleaned['ReviewerId_encoded'] = reviewer_encoder.fit_transform(data_cleaned['ReviewerId'])\n",
        "\n",
        "# Konfirmasi hasil encoding\n",
        "print(data_cleaned[['PlaceID', 'PlaceID_encoded']].head())"
      ],
      "metadata": {
        "colab": {
          "base_uri": "https://localhost:8080/"
        },
        "id": "tKGGT5HUCKYq",
        "outputId": "2eb0874f-01c8-4987-c52d-57fd05fe0ef6"
      },
      "execution_count": null,
      "outputs": [
        {
          "output_type": "stream",
          "name": "stdout",
          "text": [
            "   PlaceID  PlaceID_encoded\n",
            "0        0                0\n",
            "1        0                0\n",
            "2        0                0\n",
            "3        0                0\n",
            "4        0                0\n"
          ]
        }
      ]
    },
    {
      "cell_type": "markdown",
      "source": [
        "**2. Pembagian Data**"
      ],
      "metadata": {
        "id": "QScTAh_B9JNV"
      }
    },
    {
      "cell_type": "markdown",
      "source": [
        "pembagian data digunakan untuk membagi dataset menjadi tiga subset, yaitu data Training, Validation, dan Testing dengan proporsi tertentu. Pertama, ditentukan ukuran dari masing-masing subset berdasarkan persentase: 70% data akan digunakan untuk training, 15% untuk validation, dan sisa 15% untuk testing. Variabel train_size dihitung sebagai 70% dari total data, val_size dihitung sebagai 15% dari total data, dan test_size dihitung sebagai sisa dari total data setelah dikurangi train_size dan val_size.\n",
        "\n",
        "Setelah menentukan ukuran untuk setiap subset, data kemudian dibagi sesuai indeks. Data Training (train_df) diambil dari baris awal hingga train_size, sedangkan data Validation (val_df) diambil mulai dari train_size hingga train_size + val_size. Data Testing (test_df) mencakup sisa data mulai dari train_size + val_size hingga baris terakhir dataset."
      ],
      "metadata": {
        "id": "Y9yyVYkivp3F"
      }
    },
    {
      "cell_type": "code",
      "source": [
        "from sklearn.model_selection import train_test_split\n",
        "\n",
        "# Pilih fitur dan label\n",
        "X = data_cleaned[['PlaceID_encoded', 'ReviewerId_encoded']]\n",
        "y = data_cleaned['Rating']\n",
        "\n",
        "# Split data: Train, Validation, Test\n",
        "X_train, X_temp, y_train, y_temp = train_test_split(X, y, test_size=0.3, random_state=42)\n",
        "X_val, X_test, y_val, y_test = train_test_split(X_temp, y_temp, test_size=0.5, random_state=42)\n",
        "\n",
        "print(f\"Train: {len(X_train)}, Validation: {len(X_val)}, Test: {len(X_test)}\")\n"
      ],
      "metadata": {
        "colab": {
          "base_uri": "https://localhost:8080/"
        },
        "id": "NmyarMlv_V2n",
        "outputId": "1410baeb-b1ea-4003-dc77-bc27e1461508"
      },
      "execution_count": null,
      "outputs": [
        {
          "output_type": "stream",
          "name": "stdout",
          "text": [
            "Train: 30257, Validation: 6484, Test: 6484\n"
          ]
        }
      ]
    },
    {
      "cell_type": "code",
      "source": [
        "# Normalisasi target (Rating) ke skala 1-5\n",
        "y_train_normalized = (y_train - 1) / 4.0  # Normalisasi ke rentang [1,5]\n",
        "y_val_normalized = (y_val - 1) / 4.0\n",
        "y_test_normalized = (y_test - 1) / 4.0\n"
      ],
      "metadata": {
        "id": "IEgqYFgd9IAA"
      },
      "execution_count": null,
      "outputs": []
    },
    {
      "cell_type": "markdown",
      "source": [
        "**3. Model Recommendation System**"
      ],
      "metadata": {
        "id": "GZOrUdey9Xkn"
      }
    },
    {
      "cell_type": "markdown",
      "source": [
        "**Alternating Least Squares (ALS)**\n",
        "\n",
        "Alternating Least Squares (ALS) merupakan sebuah algoritma yang digunakan untuk memecahkan masalah dalam sistem rekomendasi, khususnya pada Collaborative Filtering. ALS banyak digunakan dalam aplikasi rekomendasi, seperti Netflix, Amazon, dan Spotify, untuk memprediksi item apa yang mungkin disukai oleh pengguna berdasarkan preferensi yang telah ada. Alternating Least Squares (ALS) adalah teknik model-based Collaborative Filtering yang menggunakan optimasi berbasis least squares untuk melakukan matrix factorization dan membuat rekomendasi Dalam konteks ini, ALS digunakan untuk menemukan latent factors yang mewakili preferensi pengguna dan karakteristik item."
      ],
      "metadata": {
        "id": "zGd4IRr6wf1l"
      }
    },
    {
      "cell_type": "code",
      "source": [
        "# Model Recommendation System dengan regularization dan output linear\n",
        "place_input = Input(shape=(1,), name='place_input')\n",
        "reviewer_input = Input(shape=(1,), name='reviewer_input')\n",
        "\n",
        "# Embedding layers\n",
        "place_embedding = Embedding(input_dim=X['PlaceID_encoded'].nunique() + 1, output_dim=8)(place_input)\n",
        "reviewer_embedding = Embedding(input_dim=X['ReviewerId_encoded'].nunique() + 1, output_dim=8)(reviewer_input)\n",
        "\n",
        "# Flatten embedding\n",
        "place_flatten = Flatten()(place_embedding)\n",
        "reviewer_flatten = Flatten()(reviewer_embedding)\n",
        "\n",
        "# Gabungkan kedua embedding\n",
        "concat = Concatenate()([place_flatten, reviewer_flatten])\n",
        "\n",
        "# Fully connected layers dengan regularisasi, dropout, dan batch normalization\n",
        "dense1 = Dense(64, activation='relu', kernel_regularizer=l2(0.001))(concat)\n",
        "dropout1 = Dropout(0.3)(dense1)\n",
        "\n",
        "dense2 = Dense(32, activation='relu', kernel_regularizer=l2(0.001))(dropout1)\n",
        "dropout2 = Dropout(0.3)(dense2)\n",
        "\n",
        "output = Dense(1, activation='linear')(dropout2)  # Prediksi dalam rentang [1-5]\n",
        "\n",
        "# Definisi model\n",
        "model = Model(inputs=[place_input, reviewer_input], outputs=output)\n",
        "model.compile(optimizer=Adam(learning_rate=0.0005), loss='mse', metrics=['mae'])\n",
        "\n",
        "# Callbacks\n",
        "early_stopping = EarlyStopping(monitor='val_loss', patience=5, restore_best_weights=True)\n",
        "reduce_lr = ReduceLROnPlateau(monitor='val_loss', factor=0.5, patience=3)\n",
        "\n",
        "# Summary\n",
        "model.summary()"
      ],
      "metadata": {
        "colab": {
          "base_uri": "https://localhost:8080/",
          "height": 578
        },
        "id": "DdqwfgrT9bYK",
        "outputId": "c0b8dd61-23b7-4450-dd98-a646fc1afedd"
      },
      "execution_count": null,
      "outputs": [
        {
          "output_type": "display_data",
          "data": {
            "text/plain": [
              "\u001b[1mModel: \"functional_8\"\u001b[0m\n"
            ],
            "text/html": [
              "<pre style=\"white-space:pre;overflow-x:auto;line-height:normal;font-family:Menlo,'DejaVu Sans Mono',consolas,'Courier New',monospace\"><span style=\"font-weight: bold\">Model: \"functional_8\"</span>\n",
              "</pre>\n"
            ]
          },
          "metadata": {}
        },
        {
          "output_type": "display_data",
          "data": {
            "text/plain": [
              "┏━━━━━━━━━━━━━━━━━━━━━━━━━━━┳━━━━━━━━━━━━━━━━━━━━━━━━┳━━━━━━━━━━━━━━━━┳━━━━━━━━━━━━━━━━━━━━━━━━┓\n",
              "┃\u001b[1m \u001b[0m\u001b[1mLayer (type)             \u001b[0m\u001b[1m \u001b[0m┃\u001b[1m \u001b[0m\u001b[1mOutput Shape          \u001b[0m\u001b[1m \u001b[0m┃\u001b[1m \u001b[0m\u001b[1m       Param #\u001b[0m\u001b[1m \u001b[0m┃\u001b[1m \u001b[0m\u001b[1mConnected to          \u001b[0m\u001b[1m \u001b[0m┃\n",
              "┡━━━━━━━━━━━━━━━━━━━━━━━━━━━╇━━━━━━━━━━━━━━━━━━━━━━━━╇━━━━━━━━━━━━━━━━╇━━━━━━━━━━━━━━━━━━━━━━━━┩\n",
              "│ place_input (\u001b[38;5;33mInputLayer\u001b[0m)  │ (\u001b[38;5;45mNone\u001b[0m, \u001b[38;5;34m1\u001b[0m)              │              \u001b[38;5;34m0\u001b[0m │ -                      │\n",
              "├───────────────────────────┼────────────────────────┼────────────────┼────────────────────────┤\n",
              "│ reviewer_input            │ (\u001b[38;5;45mNone\u001b[0m, \u001b[38;5;34m1\u001b[0m)              │              \u001b[38;5;34m0\u001b[0m │ -                      │\n",
              "│ (\u001b[38;5;33mInputLayer\u001b[0m)              │                        │                │                        │\n",
              "├───────────────────────────┼────────────────────────┼────────────────┼────────────────────────┤\n",
              "│ embedding_18 (\u001b[38;5;33mEmbedding\u001b[0m)  │ (\u001b[38;5;45mNone\u001b[0m, \u001b[38;5;34m1\u001b[0m, \u001b[38;5;34m8\u001b[0m)           │            \u001b[38;5;34m816\u001b[0m │ place_input[\u001b[38;5;34m0\u001b[0m][\u001b[38;5;34m0\u001b[0m]      │\n",
              "├───────────────────────────┼────────────────────────┼────────────────┼────────────────────────┤\n",
              "│ embedding_19 (\u001b[38;5;33mEmbedding\u001b[0m)  │ (\u001b[38;5;45mNone\u001b[0m, \u001b[38;5;34m1\u001b[0m, \u001b[38;5;34m8\u001b[0m)           │        \u001b[38;5;34m120,096\u001b[0m │ reviewer_input[\u001b[38;5;34m0\u001b[0m][\u001b[38;5;34m0\u001b[0m]   │\n",
              "├───────────────────────────┼────────────────────────┼────────────────┼────────────────────────┤\n",
              "│ flatten_18 (\u001b[38;5;33mFlatten\u001b[0m)      │ (\u001b[38;5;45mNone\u001b[0m, \u001b[38;5;34m8\u001b[0m)              │              \u001b[38;5;34m0\u001b[0m │ embedding_18[\u001b[38;5;34m0\u001b[0m][\u001b[38;5;34m0\u001b[0m]     │\n",
              "├───────────────────────────┼────────────────────────┼────────────────┼────────────────────────┤\n",
              "│ flatten_19 (\u001b[38;5;33mFlatten\u001b[0m)      │ (\u001b[38;5;45mNone\u001b[0m, \u001b[38;5;34m8\u001b[0m)              │              \u001b[38;5;34m0\u001b[0m │ embedding_19[\u001b[38;5;34m0\u001b[0m][\u001b[38;5;34m0\u001b[0m]     │\n",
              "├───────────────────────────┼────────────────────────┼────────────────┼────────────────────────┤\n",
              "│ concatenate_9             │ (\u001b[38;5;45mNone\u001b[0m, \u001b[38;5;34m16\u001b[0m)             │              \u001b[38;5;34m0\u001b[0m │ flatten_18[\u001b[38;5;34m0\u001b[0m][\u001b[38;5;34m0\u001b[0m],      │\n",
              "│ (\u001b[38;5;33mConcatenate\u001b[0m)             │                        │                │ flatten_19[\u001b[38;5;34m0\u001b[0m][\u001b[38;5;34m0\u001b[0m]       │\n",
              "├───────────────────────────┼────────────────────────┼────────────────┼────────────────────────┤\n",
              "│ dense_25 (\u001b[38;5;33mDense\u001b[0m)          │ (\u001b[38;5;45mNone\u001b[0m, \u001b[38;5;34m64\u001b[0m)             │          \u001b[38;5;34m1,088\u001b[0m │ concatenate_9[\u001b[38;5;34m0\u001b[0m][\u001b[38;5;34m0\u001b[0m]    │\n",
              "├───────────────────────────┼────────────────────────┼────────────────┼────────────────────────┤\n",
              "│ dropout_14 (\u001b[38;5;33mDropout\u001b[0m)      │ (\u001b[38;5;45mNone\u001b[0m, \u001b[38;5;34m64\u001b[0m)             │              \u001b[38;5;34m0\u001b[0m │ dense_25[\u001b[38;5;34m0\u001b[0m][\u001b[38;5;34m0\u001b[0m]         │\n",
              "├───────────────────────────┼────────────────────────┼────────────────┼────────────────────────┤\n",
              "│ dense_26 (\u001b[38;5;33mDense\u001b[0m)          │ (\u001b[38;5;45mNone\u001b[0m, \u001b[38;5;34m32\u001b[0m)             │          \u001b[38;5;34m2,080\u001b[0m │ dropout_14[\u001b[38;5;34m0\u001b[0m][\u001b[38;5;34m0\u001b[0m]       │\n",
              "├───────────────────────────┼────────────────────────┼────────────────┼────────────────────────┤\n",
              "│ dropout_15 (\u001b[38;5;33mDropout\u001b[0m)      │ (\u001b[38;5;45mNone\u001b[0m, \u001b[38;5;34m32\u001b[0m)             │              \u001b[38;5;34m0\u001b[0m │ dense_26[\u001b[38;5;34m0\u001b[0m][\u001b[38;5;34m0\u001b[0m]         │\n",
              "├───────────────────────────┼────────────────────────┼────────────────┼────────────────────────┤\n",
              "│ dense_27 (\u001b[38;5;33mDense\u001b[0m)          │ (\u001b[38;5;45mNone\u001b[0m, \u001b[38;5;34m1\u001b[0m)              │             \u001b[38;5;34m33\u001b[0m │ dropout_15[\u001b[38;5;34m0\u001b[0m][\u001b[38;5;34m0\u001b[0m]       │\n",
              "└───────────────────────────┴────────────────────────┴────────────────┴────────────────────────┘\n"
            ],
            "text/html": [
              "<pre style=\"white-space:pre;overflow-x:auto;line-height:normal;font-family:Menlo,'DejaVu Sans Mono',consolas,'Courier New',monospace\">┏━━━━━━━━━━━━━━━━━━━━━━━━━━━┳━━━━━━━━━━━━━━━━━━━━━━━━┳━━━━━━━━━━━━━━━━┳━━━━━━━━━━━━━━━━━━━━━━━━┓\n",
              "┃<span style=\"font-weight: bold\"> Layer (type)              </span>┃<span style=\"font-weight: bold\"> Output Shape           </span>┃<span style=\"font-weight: bold\">        Param # </span>┃<span style=\"font-weight: bold\"> Connected to           </span>┃\n",
              "┡━━━━━━━━━━━━━━━━━━━━━━━━━━━╇━━━━━━━━━━━━━━━━━━━━━━━━╇━━━━━━━━━━━━━━━━╇━━━━━━━━━━━━━━━━━━━━━━━━┩\n",
              "│ place_input (<span style=\"color: #0087ff; text-decoration-color: #0087ff\">InputLayer</span>)  │ (<span style=\"color: #00d7ff; text-decoration-color: #00d7ff\">None</span>, <span style=\"color: #00af00; text-decoration-color: #00af00\">1</span>)              │              <span style=\"color: #00af00; text-decoration-color: #00af00\">0</span> │ -                      │\n",
              "├───────────────────────────┼────────────────────────┼────────────────┼────────────────────────┤\n",
              "│ reviewer_input            │ (<span style=\"color: #00d7ff; text-decoration-color: #00d7ff\">None</span>, <span style=\"color: #00af00; text-decoration-color: #00af00\">1</span>)              │              <span style=\"color: #00af00; text-decoration-color: #00af00\">0</span> │ -                      │\n",
              "│ (<span style=\"color: #0087ff; text-decoration-color: #0087ff\">InputLayer</span>)              │                        │                │                        │\n",
              "├───────────────────────────┼────────────────────────┼────────────────┼────────────────────────┤\n",
              "│ embedding_18 (<span style=\"color: #0087ff; text-decoration-color: #0087ff\">Embedding</span>)  │ (<span style=\"color: #00d7ff; text-decoration-color: #00d7ff\">None</span>, <span style=\"color: #00af00; text-decoration-color: #00af00\">1</span>, <span style=\"color: #00af00; text-decoration-color: #00af00\">8</span>)           │            <span style=\"color: #00af00; text-decoration-color: #00af00\">816</span> │ place_input[<span style=\"color: #00af00; text-decoration-color: #00af00\">0</span>][<span style=\"color: #00af00; text-decoration-color: #00af00\">0</span>]      │\n",
              "├───────────────────────────┼────────────────────────┼────────────────┼────────────────────────┤\n",
              "│ embedding_19 (<span style=\"color: #0087ff; text-decoration-color: #0087ff\">Embedding</span>)  │ (<span style=\"color: #00d7ff; text-decoration-color: #00d7ff\">None</span>, <span style=\"color: #00af00; text-decoration-color: #00af00\">1</span>, <span style=\"color: #00af00; text-decoration-color: #00af00\">8</span>)           │        <span style=\"color: #00af00; text-decoration-color: #00af00\">120,096</span> │ reviewer_input[<span style=\"color: #00af00; text-decoration-color: #00af00\">0</span>][<span style=\"color: #00af00; text-decoration-color: #00af00\">0</span>]   │\n",
              "├───────────────────────────┼────────────────────────┼────────────────┼────────────────────────┤\n",
              "│ flatten_18 (<span style=\"color: #0087ff; text-decoration-color: #0087ff\">Flatten</span>)      │ (<span style=\"color: #00d7ff; text-decoration-color: #00d7ff\">None</span>, <span style=\"color: #00af00; text-decoration-color: #00af00\">8</span>)              │              <span style=\"color: #00af00; text-decoration-color: #00af00\">0</span> │ embedding_18[<span style=\"color: #00af00; text-decoration-color: #00af00\">0</span>][<span style=\"color: #00af00; text-decoration-color: #00af00\">0</span>]     │\n",
              "├───────────────────────────┼────────────────────────┼────────────────┼────────────────────────┤\n",
              "│ flatten_19 (<span style=\"color: #0087ff; text-decoration-color: #0087ff\">Flatten</span>)      │ (<span style=\"color: #00d7ff; text-decoration-color: #00d7ff\">None</span>, <span style=\"color: #00af00; text-decoration-color: #00af00\">8</span>)              │              <span style=\"color: #00af00; text-decoration-color: #00af00\">0</span> │ embedding_19[<span style=\"color: #00af00; text-decoration-color: #00af00\">0</span>][<span style=\"color: #00af00; text-decoration-color: #00af00\">0</span>]     │\n",
              "├───────────────────────────┼────────────────────────┼────────────────┼────────────────────────┤\n",
              "│ concatenate_9             │ (<span style=\"color: #00d7ff; text-decoration-color: #00d7ff\">None</span>, <span style=\"color: #00af00; text-decoration-color: #00af00\">16</span>)             │              <span style=\"color: #00af00; text-decoration-color: #00af00\">0</span> │ flatten_18[<span style=\"color: #00af00; text-decoration-color: #00af00\">0</span>][<span style=\"color: #00af00; text-decoration-color: #00af00\">0</span>],      │\n",
              "│ (<span style=\"color: #0087ff; text-decoration-color: #0087ff\">Concatenate</span>)             │                        │                │ flatten_19[<span style=\"color: #00af00; text-decoration-color: #00af00\">0</span>][<span style=\"color: #00af00; text-decoration-color: #00af00\">0</span>]       │\n",
              "├───────────────────────────┼────────────────────────┼────────────────┼────────────────────────┤\n",
              "│ dense_25 (<span style=\"color: #0087ff; text-decoration-color: #0087ff\">Dense</span>)          │ (<span style=\"color: #00d7ff; text-decoration-color: #00d7ff\">None</span>, <span style=\"color: #00af00; text-decoration-color: #00af00\">64</span>)             │          <span style=\"color: #00af00; text-decoration-color: #00af00\">1,088</span> │ concatenate_9[<span style=\"color: #00af00; text-decoration-color: #00af00\">0</span>][<span style=\"color: #00af00; text-decoration-color: #00af00\">0</span>]    │\n",
              "├───────────────────────────┼────────────────────────┼────────────────┼────────────────────────┤\n",
              "│ dropout_14 (<span style=\"color: #0087ff; text-decoration-color: #0087ff\">Dropout</span>)      │ (<span style=\"color: #00d7ff; text-decoration-color: #00d7ff\">None</span>, <span style=\"color: #00af00; text-decoration-color: #00af00\">64</span>)             │              <span style=\"color: #00af00; text-decoration-color: #00af00\">0</span> │ dense_25[<span style=\"color: #00af00; text-decoration-color: #00af00\">0</span>][<span style=\"color: #00af00; text-decoration-color: #00af00\">0</span>]         │\n",
              "├───────────────────────────┼────────────────────────┼────────────────┼────────────────────────┤\n",
              "│ dense_26 (<span style=\"color: #0087ff; text-decoration-color: #0087ff\">Dense</span>)          │ (<span style=\"color: #00d7ff; text-decoration-color: #00d7ff\">None</span>, <span style=\"color: #00af00; text-decoration-color: #00af00\">32</span>)             │          <span style=\"color: #00af00; text-decoration-color: #00af00\">2,080</span> │ dropout_14[<span style=\"color: #00af00; text-decoration-color: #00af00\">0</span>][<span style=\"color: #00af00; text-decoration-color: #00af00\">0</span>]       │\n",
              "├───────────────────────────┼────────────────────────┼────────────────┼────────────────────────┤\n",
              "│ dropout_15 (<span style=\"color: #0087ff; text-decoration-color: #0087ff\">Dropout</span>)      │ (<span style=\"color: #00d7ff; text-decoration-color: #00d7ff\">None</span>, <span style=\"color: #00af00; text-decoration-color: #00af00\">32</span>)             │              <span style=\"color: #00af00; text-decoration-color: #00af00\">0</span> │ dense_26[<span style=\"color: #00af00; text-decoration-color: #00af00\">0</span>][<span style=\"color: #00af00; text-decoration-color: #00af00\">0</span>]         │\n",
              "├───────────────────────────┼────────────────────────┼────────────────┼────────────────────────┤\n",
              "│ dense_27 (<span style=\"color: #0087ff; text-decoration-color: #0087ff\">Dense</span>)          │ (<span style=\"color: #00d7ff; text-decoration-color: #00d7ff\">None</span>, <span style=\"color: #00af00; text-decoration-color: #00af00\">1</span>)              │             <span style=\"color: #00af00; text-decoration-color: #00af00\">33</span> │ dropout_15[<span style=\"color: #00af00; text-decoration-color: #00af00\">0</span>][<span style=\"color: #00af00; text-decoration-color: #00af00\">0</span>]       │\n",
              "└───────────────────────────┴────────────────────────┴────────────────┴────────────────────────┘\n",
              "</pre>\n"
            ]
          },
          "metadata": {}
        },
        {
          "output_type": "display_data",
          "data": {
            "text/plain": [
              "\u001b[1m Total params: \u001b[0m\u001b[38;5;34m124,113\u001b[0m (484.82 KB)\n"
            ],
            "text/html": [
              "<pre style=\"white-space:pre;overflow-x:auto;line-height:normal;font-family:Menlo,'DejaVu Sans Mono',consolas,'Courier New',monospace\"><span style=\"font-weight: bold\"> Total params: </span><span style=\"color: #00af00; text-decoration-color: #00af00\">124,113</span> (484.82 KB)\n",
              "</pre>\n"
            ]
          },
          "metadata": {}
        },
        {
          "output_type": "display_data",
          "data": {
            "text/plain": [
              "\u001b[1m Trainable params: \u001b[0m\u001b[38;5;34m124,113\u001b[0m (484.82 KB)\n"
            ],
            "text/html": [
              "<pre style=\"white-space:pre;overflow-x:auto;line-height:normal;font-family:Menlo,'DejaVu Sans Mono',consolas,'Courier New',monospace\"><span style=\"font-weight: bold\"> Trainable params: </span><span style=\"color: #00af00; text-decoration-color: #00af00\">124,113</span> (484.82 KB)\n",
              "</pre>\n"
            ]
          },
          "metadata": {}
        },
        {
          "output_type": "display_data",
          "data": {
            "text/plain": [
              "\u001b[1m Non-trainable params: \u001b[0m\u001b[38;5;34m0\u001b[0m (0.00 B)\n"
            ],
            "text/html": [
              "<pre style=\"white-space:pre;overflow-x:auto;line-height:normal;font-family:Menlo,'DejaVu Sans Mono',consolas,'Courier New',monospace\"><span style=\"font-weight: bold\"> Non-trainable params: </span><span style=\"color: #00af00; text-decoration-color: #00af00\">0</span> (0.00 B)\n",
              "</pre>\n"
            ]
          },
          "metadata": {}
        }
      ]
    },
    {
      "cell_type": "markdown",
      "source": [
        "Hasil pelatihan model menunjukkan perkembangan performa yang signifikan selama beberapa epoch awal, namun mulai mengalami stagnasi dan fluktuasi di tengah hingga akhir pelatihan. Pada epoch pertama, nilai **loss** sebesar 0.3829 dan **val_loss** sebesar 0.0526 menunjukkan bahwa model belum sepenuhnya belajar pola dari data, yang tercermin pula dari nilai **mae** sebesar 0.2611 dan **val_mae** sebesar 0.1754. Seiring pelatihan, model secara bertahap meningkatkan akurasi prediksinya, ditandai dengan penurunan nilai **loss** dan **mae** hingga sekitar epoch ke-6. Pada titik ini, nilai **val_loss** mencapai 0.0649, sedangkan **val_mae** berada di angka 0.1736, yang menunjukkan performa validasi masih cukup baik.\n",
        "\n",
        "Namun, setelah epoch ke-6, terlihat indikasi **overfitting**, di mana nilai **loss** pada data pelatihan terus menurun, tetapi **val_loss** dan **val_mae** mulai menunjukkan fluktuasi dan bahkan sedikit meningkat pada beberapa epoch berikutnya. Fenomena ini menunjukkan bahwa model terlalu \"terlatih\" pada data pelatihan, sehingga tidak mampu menangkap pola umum pada data validasi. Pada akhir pelatihan (epoch ke-20), model mencapai nilai **loss** sebesar 0.0328 dan **mae** sebesar 0.1164 pada data pelatihan, sementara performa validasi berada pada nilai **val_loss** sebesar 0.0620 dan **val_mae** sebesar 0.1686.\n",
        "\n",
        "Secara keseluruhan, model memiliki akurasi prediksi yang cukup baik, tetapi masih perlu dilakukan beberapa penyesuaian untuk mencegah overfitting. Solusi seperti penerapan **regularisasi** (misalnya, dropout atau L1/L2 regularization), **early stopping**, atau penambahan data pelatihan dapat meningkatkan generalisasi model. Meskipun begitu, nilai **mae** pada data validasi menunjukkan bahwa model cukup mampu menangani prediksi dengan tingkat kesalahan yang relatif kecil, menjadikannya solusi yang potensial untuk masalah yang sedang dihadapi."
      ],
      "metadata": {
        "id": "4ARiOJnqwqT_"
      }
    },
    {
      "cell_type": "code",
      "source": [
        "# Training\n",
        "history = model.fit(\n",
        "    [X_train['PlaceID_encoded'], X_train['ReviewerId_encoded']], (y_train - 1) / 4.0,  # Normalisasi ke [0,1]\n",
        "    validation_data=([X_val['PlaceID_encoded'], X_val['ReviewerId_encoded']], (y_val - 1) / 4.0),\n",
        "    epochs=20,\n",
        "    batch_size=32,\n",
        "    callbacks=[EarlyStopping(monitor='val_loss', patience=5, restore_best_weights=True),\n",
        "               ReduceLROnPlateau(monitor='val_loss', factor=0.5, patience=3)]\n",
        ")"
      ],
      "metadata": {
        "colab": {
          "base_uri": "https://localhost:8080/"
        },
        "id": "zd-u1a_NI2IC",
        "outputId": "d55c3c3a-d2aa-4e45-a021-5711122abfa1"
      },
      "execution_count": null,
      "outputs": [
        {
          "output_type": "stream",
          "name": "stdout",
          "text": [
            "Epoch 1/20\n",
            "\u001b[1m946/946\u001b[0m \u001b[32m━━━━━━━━━━━━━━━━━━━━\u001b[0m\u001b[37m\u001b[0m \u001b[1m6s\u001b[0m 4ms/step - loss: 0.2598 - mae: 0.3555 - val_loss: 0.0643 - val_mae: 0.1784 - learning_rate: 5.0000e-04\n",
            "Epoch 2/20\n",
            "\u001b[1m946/946\u001b[0m \u001b[32m━━━━━━━━━━━━━━━━━━━━\u001b[0m\u001b[37m\u001b[0m \u001b[1m5s\u001b[0m 5ms/step - loss: 0.0782 - mae: 0.1976 - val_loss: 0.0556 - val_mae: 0.1744 - learning_rate: 5.0000e-04\n",
            "Epoch 3/20\n",
            "\u001b[1m946/946\u001b[0m \u001b[32m━━━━━━━━━━━━━━━━━━━━\u001b[0m\u001b[37m\u001b[0m \u001b[1m3s\u001b[0m 3ms/step - loss: 0.0610 - mae: 0.1768 - val_loss: 0.0543 - val_mae: 0.1670 - learning_rate: 5.0000e-04\n",
            "Epoch 4/20\n",
            "\u001b[1m946/946\u001b[0m \u001b[32m━━━━━━━━━━━━━━━━━━━━\u001b[0m\u001b[37m\u001b[0m \u001b[1m6s\u001b[0m 4ms/step - loss: 0.0507 - mae: 0.1620 - val_loss: 0.0561 - val_mae: 0.1658 - learning_rate: 5.0000e-04\n",
            "Epoch 5/20\n",
            "\u001b[1m946/946\u001b[0m \u001b[32m━━━━━━━━━━━━━━━━━━━━\u001b[0m\u001b[37m\u001b[0m \u001b[1m5s\u001b[0m 5ms/step - loss: 0.0452 - mae: 0.1523 - val_loss: 0.0585 - val_mae: 0.1689 - learning_rate: 5.0000e-04\n",
            "Epoch 6/20\n",
            "\u001b[1m946/946\u001b[0m \u001b[32m━━━━━━━━━━━━━━━━━━━━\u001b[0m\u001b[37m\u001b[0m \u001b[1m4s\u001b[0m 4ms/step - loss: 0.0416 - mae: 0.1440 - val_loss: 0.0574 - val_mae: 0.1677 - learning_rate: 5.0000e-04\n",
            "Epoch 7/20\n",
            "\u001b[1m946/946\u001b[0m \u001b[32m━━━━━━━━━━━━━━━━━━━━\u001b[0m\u001b[37m\u001b[0m \u001b[1m6s\u001b[0m 4ms/step - loss: 0.0396 - mae: 0.1386 - val_loss: 0.0592 - val_mae: 0.1717 - learning_rate: 2.5000e-04\n",
            "Epoch 8/20\n",
            "\u001b[1m946/946\u001b[0m \u001b[32m━━━━━━━━━━━━━━━━━━━━\u001b[0m\u001b[37m\u001b[0m \u001b[1m7s\u001b[0m 7ms/step - loss: 0.0383 - mae: 0.1352 - val_loss: 0.0595 - val_mae: 0.1719 - learning_rate: 2.5000e-04\n"
          ]
        }
      ]
    },
    {
      "cell_type": "code",
      "source": [
        "import matplotlib.pyplot as plt\n",
        "\n",
        "# Mengambil data dari history\n",
        "loss = history.history['loss']\n",
        "val_loss = history.history['val_loss']\n",
        "mae = history.history['mae']  # Ganti dengan 'mae'\n",
        "val_mae = history.history['val_mae']  # Ganti dengan 'val_mae'\n",
        "\n",
        "# Membuat grafik untuk loss dan mae dengan layout atas bawah\n",
        "plt.figure(figsize=(8, 12))\n",
        "\n",
        "# Subplot untuk Loss\n",
        "plt.subplot(2, 1, 1)\n",
        "plt.plot(loss, label='Train Loss', linestyle='-', linewidth=3, markersize=8, marker='*')  # Train loss dengan pattern '*' dan tebal\n",
        "plt.plot(val_loss, label='Validation Loss', linestyle='-', linewidth=3, markersize=8, marker='D')  # Validation loss dengan pattern 'D' dan tebal\n",
        "plt.title('Loss vs Epochs')\n",
        "plt.xlabel('Epochs')\n",
        "plt.ylabel('Loss')\n",
        "plt.legend()\n",
        "\n",
        "# Subplot untuk MAE\n",
        "plt.subplot(2, 1, 2)\n",
        "plt.plot(mae, label='Train MAE', linestyle='-', linewidth=3, markersize=8, marker='x')  # Train MAE dengan pattern 'x' dan tebal\n",
        "plt.plot(val_mae, label='Validation MAE', linestyle='-', linewidth=3, markersize=8, marker='o')  # Validation MAE dengan pattern 'o' dan tebal\n",
        "plt.title('Mean Absolute Error vs Epochs')\n",
        "plt.xlabel('Epochs')\n",
        "plt.ylabel('Mean Absolute Error')\n",
        "plt.legend()\n",
        "\n",
        "# Menambahkan keterangan di kiri bawah, di luar grafik\n",
        "plt.figtext(0.01, 0.05, 'Patterns:\\n* - Train Loss\\nD - Validation Loss\\nx - Train MAE\\no - Validation MAE',\n",
        "            wrap=True, horizontalalignment='left', fontsize=12, verticalalignment='top')\n",
        "\n",
        "# Menampilkan grafik\n",
        "plt.tight_layout()\n",
        "plt.show()\n"
      ],
      "metadata": {
        "colab": {
          "base_uri": "https://localhost:8080/",
          "height": 1000
        },
        "id": "nA58-lD3Q4UM",
        "outputId": "ab8be911-97cd-4bf6-9dcd-d6083d0b3d67"
      },
      "execution_count": null,
      "outputs": [
        {
          "output_type": "display_data",
          "data": {
            "text/plain": [
              "<Figure size 800x1200 with 2 Axes>"
            ],
            "image/png": "[encoded data removed]"
          },
          "metadata": {}
        }
      ]
    },
    {
      "cell_type": "markdown",
      "source": [
        "Grafik ini menggambarkan perkembangan performa model selama pelatihan dalam 20 epoch dengan dua metrik evaluasi, yaitu Loss dan Mean Absolute Error (MAE), untuk data pelatihan (train) dan validasi (validation). Pada grafik Loss vs Epochs, terlihat bahwa train loss (garis biru) menurun tajam pada awal pelatihan hingga epoch ke-3, lalu secara bertahap menurun hingga stabil di sekitar nilai 0.03. Sebaliknya, validation loss (garis oranye) menunjukkan tren yang stagnan di sekitar 0.06 dengan sedikit fluktuasi, yang mengindikasikan bahwa model mulai mengalami overfitting. Model tampaknya belajar dengan baik pada data pelatihan, tetapi tidak menunjukkan peningkatan yang berarti pada data validasi.\n",
        "\n",
        "Sementara itu, pada grafik Mean Absolute Error vs Epochs, train MAE (garis biru) mengalami penurunan signifikan di awal pelatihan dan stabil pada nilai sekitar 0.12, mencerminkan performa yang baik pada data pelatihan. Di sisi lain, validation MAE (garis oranye) berfluktuasi cukup tajam di sepanjang epoch, berada di kisaran 0.16 hingga 0.18. Pola fluktuasi ini memperkuat indikasi bahwa model tidak mampu melakukan generalisasi dengan baik pada data validasi, meskipun performa pada data pelatihan cukup baik.\n",
        "\n"
      ],
      "metadata": {
        "id": "3fCLkbI5x34a"
      }
    },
    {
      "cell_type": "code",
      "source": [
        "# Tampilkan prediksi rating yang dikembalikan dalam skala 1-5\n",
        "X_test['Predicted_Rating'] = y_pred\n",
        "X_test['Nama_tempat_wisata'] = data_cleaned['Nama_tempat_wisata']\n",
        "\n",
        "# Urutkan berdasarkan rating tertinggi dan ambil Top 10\n",
        "top_10_recommendations = X_test.sort_values(by='Predicted_Rating', ascending=False).head(10)\n",
        "\n",
        "# Menampilkan Top-10 Rekomendasi Tempat Wisata\n",
        "print(\"Top-10 Rekomendasi Tempat Wisata:\")\n",
        "print(top_10_recommendations[['Nama_tempat_wisata', 'Predicted_Rating']])\n"
      ],
      "metadata": {
        "colab": {
          "base_uri": "https://localhost:8080/"
        },
        "id": "oOa6hdAZamEK",
        "outputId": "7efe9c9a-afa7-4b7c-9259-aa8273eef645"
      },
      "execution_count": null,
      "outputs": [
        {
          "output_type": "stream",
          "name": "stdout",
          "text": [
            "Top-10 Rekomendasi Tempat Wisata:\n",
            "                     Nama_tempat_wisata  Predicted_Rating\n",
            "41388  Pantai Bebas Parapat, Danau Toba          4.879973\n",
            "30166             Bukit Holbung Samosir          4.861481\n",
            "35769   Museum Batak Tb Silalahi Center          4.860972\n",
            "42366                Danau Toba Parapat          4.844048\n",
            "40464  Pantai Bebas Parapat, Danau Toba          4.843195\n",
            "30018             Bukit Holbung Samosir          4.838997\n",
            "14596                     Bukit Sipolha          4.834539\n",
            "42285                Danau Toba Parapat          4.834496\n",
            "29877             Bukit Holbung Samosir          4.826170\n",
            "29865             Bukit Holbung Samosir          4.821013\n"
          ]
        }
      ]
    },
    {
      "cell_type": "code",
      "source": [
        "# Menentukan 5 user unik\n",
        "top_5_user_ids = user_ratings['ReviewerId_encoded'].unique()[:5]\n",
        "\n",
        "# Rekomendasi untuk setiap user\n",
        "recommendations = []\n",
        "\n",
        "# Mendapatkan daftar tempat wisata yang paling populer untuk fallback\n",
        "popular_places = data_cleaned.groupby('Nama_tempat_wisata').size().sort_values(ascending=False).index.tolist()\n",
        "\n",
        "for user_id in top_5_user_ids:\n",
        "    # Filter data untuk user tertentu\n",
        "    user_recommendation = user_recommendations[user_recommendations['ReviewerId_encoded'] == user_id]\n",
        "\n",
        "    # Ambil 3 rekomendasi berbeda (tanpa duplikat) berdasarkan skor akhir\n",
        "    top_3 = user_recommendation[['Nama_tempat_wisata', 'Final_Score']].drop_duplicates().sort_values(by='Final_Score', ascending=False)\n",
        "\n",
        "    # Jika kurang dari 3 rekomendasi yang tersedia, tambahkan dari tempat yang paling populer\n",
        "    if len(top_3) < 3:\n",
        "        existing_places = top_3['Nama_tempat_wisata'].tolist()\n",
        "        remaining_places = user_recommendation[~user_recommendation['Nama_tempat_wisata'].isin(existing_places)]\n",
        "        additional_recommendations = remaining_places[['Nama_tempat_wisata', 'Final_Score']].drop_duplicates().sort_values(by='Final_Score', ascending=False).head(3 - len(top_3))\n",
        "\n",
        "        # Gabungkan top_3 dengan rekomendasi tambahan dari tempat populer\n",
        "        top_3 = pd.concat([top_3, additional_recommendations[['Nama_tempat_wisata']]], ignore_index=True)\n",
        "\n",
        "    # Jika setelah penggabungan masih kurang dari 3 rekomendasi, tambah tempat populer\n",
        "    while len(top_3) < 3:\n",
        "        top_3 = pd.concat([top_3, pd.DataFrame({'Nama_tempat_wisata': [popular_places[len(top_3)]]})], ignore_index=True)\n",
        "\n",
        "    # Tambahkan hasil rekomendasi untuk user\n",
        "    recommendations.append({\n",
        "        'User ID': user_id,\n",
        "        'Recommendation 1': top_3.iloc[0]['Nama_tempat_wisata'],\n",
        "        'Recommendation 2': top_3.iloc[1]['Nama_tempat_wisata'] if len(top_3) > 1 else None,\n",
        "        'Recommendation 3': top_3.iloc[2]['Nama_tempat_wisata'] if len(top_3) > 2 else None\n",
        "    })\n",
        "\n",
        "# Convert to DataFrame for easier viewing\n",
        "recommendations_df = pd.DataFrame(recommendations)\n",
        "\n",
        "# Pastikan ada 5 user, jika kurang, tambahkan user yang belum ada\n",
        "while len(recommendations_df) < 5:\n",
        "    # Cari user yang belum ada dalam rekomendasi\n",
        "    missing_users = set(top_5_user_ids) - set(recommendations_df['User ID'])\n",
        "    for missing_user in missing_users:\n",
        "        new_row = pd.DataFrame({\n",
        "            'User ID': [missing_user],\n",
        "            'Recommendation 1': [popular_places[0]],\n",
        "            'Recommendation 2': [popular_places[1]] if len(popular_places) > 1 else None,\n",
        "            'Recommendation 3': [popular_places[2]] if len(popular_places) > 2 else None\n",
        "        })\n",
        "        recommendations_df = pd.concat([recommendations_df, new_row], ignore_index=True)\n",
        "\n",
        "# Tampilkan rekomendasi\n",
        "print(\"Rekomendasi Tempat Wisata untuk Setiap User:\")\n",
        "print(recommendations_df)\n"
      ],
      "metadata": {
        "colab": {
          "base_uri": "https://localhost:8080/"
        },
        "id": "ypyxliSNLLZu",
        "outputId": "bbf2dfcc-a25d-493b-f34f-4b0453edc437"
      },
      "execution_count": null,
      "outputs": [
        {
          "output_type": "stream",
          "name": "stdout",
          "text": [
            "Rekomendasi Tempat Wisata untuk Setiap User:\n",
            "   User ID              Recommendation 1              Recommendation 2  \\\n",
            "0    10261  Pantai Lumban Bul-bul Balige  Pertunjukan Tari Sigale Gale   \n",
            "1     9698  Pantai Lumban Bul-bul Balige  Pertunjukan Tari Sigale Gale   \n",
            "2     6433               WF Coffee&Resto               WF Coffee&Resto   \n",
            "3    10643            Tao Silalahi Hotel            Tao Silalahi Hotel   \n",
            "4     5078              Geosite Sipinsur     PASIR PUTIH LUMBAN BULBUL   \n",
            "\n",
            "     Recommendation 3  \n",
            "0         The Kaldera  \n",
            "1         The Kaldera  \n",
            "2     WF Coffee&Resto  \n",
            "3  Tao Silalahi Hotel  \n",
            "4    Geosite Sipinsur  \n"
          ]
        }
      ]
    },
    {
      "cell_type": "code",
      "source": [
        "# Menentukan 10 user unik\n",
        "top_10_user_ids = user_ratings['ReviewerId_encoded'].unique()[:10]\n",
        "\n",
        "# Rekomendasi untuk setiap user\n",
        "recommendations = []\n",
        "\n",
        "# Mendapatkan daftar tempat wisata yang paling populer untuk fallback\n",
        "popular_places = data_cleaned.groupby('Nama_tempat_wisata').size().sort_values(ascending=False).index.tolist()\n",
        "\n",
        "for user_id in top_10_user_ids:\n",
        "    # Filter data untuk user tertentu\n",
        "    user_recommendation = user_recommendations[user_recommendations['ReviewerId_encoded'] == user_id]\n",
        "\n",
        "    # Ambil 3 rekomendasi berbeda (tanpa duplikat) berdasarkan skor akhir\n",
        "    top_3 = user_recommendation[['Nama_tempat_wisata', 'Final_Score']].drop_duplicates().sort_values(by='Final_Score', ascending=False)\n",
        "\n",
        "    # Jika kurang dari 3 rekomendasi yang tersedia, tambahkan dari tempat yang paling populer\n",
        "    if len(top_3) < 3:\n",
        "        existing_places = top_3['Nama_tempat_wisata'].tolist()\n",
        "        remaining_places = user_recommendation[~user_recommendation['Nama_tempat_wisata'].isin(existing_places)]\n",
        "        additional_recommendations = remaining_places[['Nama_tempat_wisata', 'Final_Score']].drop_duplicates().sort_values(by='Final_Score', ascending=False).head(3 - len(top_3))\n",
        "\n",
        "        # Gabungkan top_3 dengan rekomendasi tambahan dari tempat populer\n",
        "        top_3 = pd.concat([top_3, additional_recommendations[['Nama_tempat_wisata']]], ignore_index=True)\n",
        "\n",
        "    # Jika setelah penggabungan masih kurang dari 3 rekomendasi, tambah tempat populer\n",
        "    while len(top_3) < 3:\n",
        "        top_3 = pd.concat([top_3, pd.DataFrame({'Nama_tempat_wisata': [popular_places[len(top_3)]]})], ignore_index=True)\n",
        "\n",
        "    # Tambahkan hasil rekomendasi untuk user\n",
        "    recommendations.append({\n",
        "        'User ID': user_id,\n",
        "        'Recommendation 1': top_3.iloc[0]['Nama_tempat_wisata'],\n",
        "        'Recommendation 2': top_3.iloc[1]['Nama_tempat_wisata'] if len(top_3) > 1 else None,\n",
        "        'Recommendation 3': top_3.iloc[2]['Nama_tempat_wisata'] if len(top_3) > 2 else None\n",
        "    })\n",
        "\n",
        "# Convert to DataFrame for easier viewing\n",
        "recommendations_df = pd.DataFrame(recommendations)\n",
        "\n",
        "# Pastikan ada 10 user, jika kurang, tambahkan user yang belum ada\n",
        "while len(recommendations_df) < 10:\n",
        "    # Cari user yang belum ada dalam rekomendasi\n",
        "    missing_users = set(top_10_user_ids) - set(recommendations_df['User ID'])\n",
        "    for missing_user in missing_users:\n",
        "        new_row = pd.DataFrame({\n",
        "            'User ID': [missing_user],\n",
        "            'Recommendation 1': [popular_places[0]],\n",
        "            'Recommendation 2': [popular_places[1]] if len(popular_places) > 1 else None,\n",
        "            'Recommendation 3': [popular_places[2]] if len(popular_places) > 2 else None\n",
        "        })\n",
        "        recommendations_df = pd.concat([recommendations_df, new_row], ignore_index=True)\n",
        "\n",
        "# Tampilkan rekomendasi\n",
        "print(\"Rekomendasi Tempat Wisata untuk Setiap User:\")\n",
        "print(recommendations_df)\n"
      ],
      "metadata": {
        "colab": {
          "base_uri": "https://localhost:8080/"
        },
        "id": "XD7qXBXpMLFv",
        "outputId": "9cd4a894-f74c-47ef-e403-d198e717bfd0"
      },
      "execution_count": null,
      "outputs": [
        {
          "output_type": "stream",
          "name": "stdout",
          "text": [
            "Rekomendasi Tempat Wisata untuk Setiap User:\n",
            "   User ID                                   Recommendation 1  \\\n",
            "0    10261                       Pantai Lumban Bul-bul Balige   \n",
            "1     9698                       Pantai Lumban Bul-bul Balige   \n",
            "2     6433                                    WF Coffee&Resto   \n",
            "3    10643                                 Tao Silalahi Hotel   \n",
            "4     5078                                   Geosite Sipinsur   \n",
            "5     9431  Batu Kursi Raja Siallagan ( Stone Chair of Kin...   \n",
            "6    11597                          PASIR PUTIH LUMBAN BULBUL   \n",
            "7     8433                       Pantai Lumban Bul-bul Balige   \n",
            "8     3861                                   Air Terjun Janji   \n",
            "9    10225                                    Pantai Batuhoda   \n",
            "\n",
            "                                    Recommendation 2  \\\n",
            "0                       Pertunjukan Tari Sigale Gale   \n",
            "1                       Pertunjukan Tari Sigale Gale   \n",
            "2                                    WF Coffee&Resto   \n",
            "3                                 Tao Silalahi Hotel   \n",
            "4                          PASIR PUTIH LUMBAN BULBUL   \n",
            "5  Batu Kursi Raja Siallagan ( Stone Chair of Kin...   \n",
            "6                          PASIR PUTIH LUMBAN BULBUL   \n",
            "7                       Pertunjukan Tari Sigale Gale   \n",
            "8                                   Air Terjun Janji   \n",
            "9                                    Pantai Batuhoda   \n",
            "\n",
            "                                    Recommendation 3  \n",
            "0                                        The Kaldera  \n",
            "1                                        The Kaldera  \n",
            "2                                    WF Coffee&Resto  \n",
            "3                                 Tao Silalahi Hotel  \n",
            "4                                   Geosite Sipinsur  \n",
            "5  Batu Kursi Raja Siallagan ( Stone Chair of Kin...  \n",
            "6                          PASIR PUTIH LUMBAN BULBUL  \n",
            "7                                        The Kaldera  \n",
            "8                                   Air Terjun Janji  \n",
            "9                                    Pantai Batuhoda  \n"
          ]
        }
      ]
    },
    {
      "cell_type": "markdown",
      "source": [
        "**4. Evaluasi Model**"
      ],
      "metadata": {
        "id": "YGolFw0o9wzb"
      }
    },
    {
      "cell_type": "code",
      "source": [
        "# Prediksi untuk Test set\n",
        "y_pred_normalized = model.predict([X_test['PlaceID_encoded'], X_test['ReviewerId_encoded']]).flatten()\n",
        "\n",
        "# Kembalikan prediksi ke skala 1-5\n",
        "y_pred = (y_pred_normalized * 4) + 1  # Kembali ke rentang 1-5\n",
        "\n",
        "# Hitung RMSE dan MAE\n",
        "rmse = np.sqrt(mean_squared_error(y_test, y_pred))\n",
        "mae = mean_absolute_error(y_test, y_pred)\n",
        "print(f\"RMSE: {rmse:.4f}\")\n",
        "print(f\"MAE: {mae:.4f}\")\n",
        "\n",
        "\n"
      ],
      "metadata": {
        "colab": {
          "base_uri": "https://localhost:8080/"
        },
        "id": "_3pf98f69vxP",
        "outputId": "12c13fad-8454-4446-e93b-385cc4e47c65"
      },
      "execution_count": null,
      "outputs": [
        {
          "output_type": "stream",
          "name": "stdout",
          "text": [
            "\u001b[1m203/203\u001b[0m \u001b[32m━━━━━━━━━━━━━━━━━━━━\u001b[0m\u001b[37m\u001b[0m \u001b[1m1s\u001b[0m 2ms/step\n",
            "RMSE: 0.9092\n",
            "MAE: 0.6669\n"
          ]
        }
      ]
    },
    {
      "cell_type": "markdown",
      "source": [
        "nilai evaluasi dari\n",
        "RMSE: 0.9893\n",
        "MAE: 0.6807\n",
        "menunjukkan model telah bekerja dengan baik"
      ],
      "metadata": {
        "id": "VhvsaUOMyg4e"
      }
    },
    {
      "cell_type": "code",
      "source": [
        "from sklearn.metrics import precision_score, recall_score\n",
        "import numpy as np\n",
        "\n",
        "# Menetapkan threshold untuk rating \"positif\"\n",
        "threshold = 3.0\n",
        "\n",
        "# Fungsi untuk menghitung Precision@k dan Recall@k\n",
        "def precision_at_k(recommended_items, relevant_items, k):\n",
        "    \"\"\" Menghitung Precision@k \"\"\"\n",
        "    recommended_at_k = recommended_items[:k]\n",
        "    relevant_at_k = [item for item in recommended_at_k if item in relevant_items]\n",
        "    return len(relevant_at_k) / k if k > 0 else 0\n",
        "\n",
        "def recall_at_k(recommended_items, relevant_items, k):\n",
        "    \"\"\" Menghitung Recall@k \"\"\"\n",
        "    recommended_at_k = recommended_items[:k]\n",
        "    relevant_at_k = [item for item in recommended_at_k if item in relevant_items]\n",
        "    return len(relevant_at_k) / len(relevant_items) if len(relevant_items) > 0 else 0\n",
        "\n",
        "# Prediksi rating untuk X_test\n",
        "y_pred = model.predict([X_test['PlaceID_encoded'], X_test['ReviewerId_encoded']])\n",
        "\n",
        "# Ambil rekomendasi untuk setiap user\n",
        "def evaluate_recommendations(X_test, y_test, y_pred, k=10):\n",
        "    \"\"\"Evaluates recommendations using Precision@k and Recall@k.\"\"\"\n",
        "    precision_at_k_results = []\n",
        "    recall_at_k_results = []\n",
        "\n",
        "    # Create a temporary DataFrame with Rating and Predicted_Rating\n",
        "    temp_df = X_test.copy()  # Create a copy of X_test\n",
        "    temp_df['Rating'] = y_test.values  # Add the 'Rating' column from y_test\n",
        "    temp_df['Predicted_Rating'] = y_pred  # Add the 'Predicted_Rating' column\n",
        "\n",
        "    for reviewer_id in temp_df['ReviewerId_encoded'].unique():\n",
        "        user_data = temp_df[temp_df['ReviewerId_encoded'] == reviewer_id]\n",
        "\n",
        "        # Ambil item relevan untuk user tersebut (misalnya, rating > threshold dianggap relevan)\n",
        "        relevant_items = user_data[user_data['Rating'] > threshold]['PlaceID_encoded'].values\n",
        "\n",
        "        # Urutkan berdasarkan prediksi rating (mengambil item teratas)\n",
        "        recommended_items = user_data.sort_values(by='Predicted_Rating', ascending=False)['PlaceID_encoded'].values\n",
        "\n",
        "        # Menghitung Precision@k dan Recall@k\n",
        "        precision = precision_at_k(recommended_items, relevant_items, k)\n",
        "        recall = recall_at_k(recommended_items, relevant_items, k)\n",
        "\n",
        "        precision_at_k_results.append(precision)\n",
        "        recall_at_k_results.append(recall)\n",
        "\n",
        "    # Menghitung rata-rata untuk setiap metrik\n",
        "    avg_precision_at_k = np.mean(precision_at_k_results)\n",
        "    avg_recall_at_k = np.mean(recall_at_k_results)\n",
        "\n",
        "    return avg_precision_at_k, avg_recall_at_k\n",
        "\n",
        "    # Evaluasi sistem rekomendasi\n",
        "avg_precision_at_k, avg_recall_at_k = evaluate_recommendations(X_test, y_test, y_pred, k=10)\n",
        "\n",
        "# Tampilkan hasil evaluasi\n",
        "print(f\"Precision@10: {avg_precision_at_k:.4f}\")\n",
        "print(f\"Recall@10: {avg_recall_at_k:.4f}\")"
      ],
      "metadata": {
        "colab": {
          "base_uri": "https://localhost:8080/"
        },
        "id": "z3Wc0nZmQLdI",
        "outputId": "e3cad944-5700-48e3-c72e-b7ee91cd3ba6"
      },
      "execution_count": null,
      "outputs": [
        {
          "output_type": "stream",
          "name": "stdout",
          "text": [
            "\u001b[1m203/203\u001b[0m \u001b[32m━━━━━━━━━━━━━━━━━━━━\u001b[0m\u001b[37m\u001b[0m \u001b[1m0s\u001b[0m 2ms/step\n",
            "Precision@10: 0.1119\n",
            "Recall@10: 0.8945\n"
          ]
        }
      ]
    },
    {
      "cell_type": "code",
      "source": [
        "from sklearn.metrics import precision_score, recall_score\n",
        "import numpy as np\n",
        "\n",
        "# Menetapkan threshold untuk rating \"positif\"\n",
        "threshold = 3.0\n",
        "\n",
        "# Konversi prediksi dan nilai asli menjadi \"positif\" atau \"negatif\" untuk Precision & Recall\n",
        "y_test_binary = (y_test.values > threshold).astype(int)  # 1 jika rating asli > threshold, 0 jika tidak\n",
        "y_pred_binary = (y_pred > threshold).astype(int)  # 1 jika rating prediksi > threshold, 0 jika tidak\n",
        "\n",
        "\n",
        "# Mean Average Precision at K (MAP@K)\n",
        "def mean_average_precision_at_k(y_true, y_pred, k=10):\n",
        "    \"\"\"\n",
        "    Menghitung Mean Average Precision at K (MAP@K)\n",
        "    y_true: array of true labels (binary relevances)\n",
        "    y_pred: array of predicted scores (skor kontinu)\n",
        "    k: number of top recommendations to consider\n",
        "    \"\"\"\n",
        "    # Urutkan prediksi berdasarkan nilai prediksi (untuk setiap pengguna)\n",
        "    top_k_preds = np.argsort(y_pred)[::-1][:k]  # Menyortir prediksi dari yang terbesar\n",
        "    y_true_top_k = np.take(y_true, top_k_preds)  # Mengambil nilai y_true yang sesuai dengan top_k_preds\n",
        "\n",
        "    # Hitung presisi rata-rata untuk top-k\n",
        "    average_precision = 0\n",
        "    for i in range(1, k+1):\n",
        "        if y_true_top_k[i-1] == 1:  # Menghitung presisi untuk setiap item relevan\n",
        "            average_precision += 1  # Jika relevan, hitung presisi 1 (karena kita hanya memeriksa relevansi)\n",
        "\n",
        "    return average_precision / k\n",
        "\n",
        "# Menghitung MAP untuk top 10 rekomendasi\n",
        "map_score = mean_average_precision_at_k(y_test_binary, y_pred, k=10)\n",
        "print(f\"MAP@10: {map_score:.4f}\")\n",
        "\n",
        "\n"
      ],
      "metadata": {
        "colab": {
          "base_uri": "https://localhost:8080/"
        },
        "id": "dus2YjqkAihO",
        "outputId": "2c43d075-2b62-4f72-df1b-fbdf4550dbf7"
      },
      "execution_count": null,
      "outputs": [
        {
          "output_type": "stream",
          "name": "stdout",
          "text": [
            "MAP@10: 1.0000\n"
          ]
        }
      ]
    },
    {
      "cell_type": "code",
      "source": [
        "# Menampilkan hasil evaluasi dalam bentuk diagram batang\n",
        "evaluation_metrics = {\n",
        "    \"RMSE\": rmse,\n",
        "    \"MAE\": mae,\n",
        "    \"Precision@10\": avg_precision_at_k,\n",
        "    \"Recall@10\": avg_recall_at_k,\n",
        "    \"MAP@10\": map_score\n",
        "}\n",
        "\n",
        "# Membuat plot diagram batang\n",
        "plt.figure(figsize=(10, 6))\n",
        "plt.bar(evaluation_metrics.keys(), evaluation_metrics.values(), color='blue', edgecolor='black')\n",
        "\n",
        "# Menambahkan anotasi nilai di atas batang\n",
        "for i, v in enumerate(evaluation_metrics.values()):\n",
        "    plt.text(i, v + 0.01, f\"{v:.4f}\", ha='center', fontsize=12)\n",
        "\n",
        "# Konfigurasi plot\n",
        "plt.title(\"Hasil Evaluasi Model Rekomendasi\", fontsize=16)\n",
        "plt.ylabel(\"Skor\", fontsize=14)\n",
        "plt.ylim(0, max(evaluation_metrics.values()) + 0.1)  # Menyesuaikan batas atas agar nilai anotasi tidak terpotong\n",
        "plt.xticks(fontsize=12)\n",
        "plt.grid(axis='y', linestyle='--', alpha=0.7)\n",
        "\n",
        "# Tampilkan plot\n",
        "plt.tight_layout()\n",
        "plt.show()"
      ],
      "metadata": {
        "colab": {
          "base_uri": "https://localhost:8080/",
          "height": 607
        },
        "id": "RCuyRwqJNy_P",
        "outputId": "76307fc7-c803-42c2-fab5-cb84310416a6"
      },
      "execution_count": null,
      "outputs": [
        {
          "output_type": "display_data",
          "data": {
            "text/plain": [
              "<Figure size 1000x600 with 1 Axes>"
            ],
            "image/png": "[encoded data removed]"
          },
          "metadata": {}
        }
      ]
    }
  ]
}