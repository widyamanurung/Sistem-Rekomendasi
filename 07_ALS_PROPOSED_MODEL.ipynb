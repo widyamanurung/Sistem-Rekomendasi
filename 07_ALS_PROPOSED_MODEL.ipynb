{
  "nbformat": 4,
  "nbformat_minor": 0,
  "metadata": {
    "colab": {
      "provenance": []
    },
    "kernelspec": {
      "name": "python3",
      "display_name": "Python 3"
    },
    "language_info": {
      "name": "python"
    }
  },
  "cells": [
    {
      "cell_type": "markdown",
      "source": [
        "**1. Data Understanding & Preprocessing**"
      ],
      "metadata": {
        "id": "sthgwUP18FAI"
      }
    },
    {
      "cell_type": "markdown",
      "source": [
        "pada understanding dan preprocessing memuat menginportan library dan memuat datset yang digunakan.\n",
        "data understanding dan processing juga memuat pengenalan dataset atau memberikan informasi seputar dataset, pengecheckan nilai null pada dataset dan process lainnya sebelum mengolah data"
      ],
      "metadata": {
        "id": "1wSUBANIBMq4"
      }
    },
    {
      "cell_type": "code",
      "source": [
        "# Import library\n",
        "import pandas as pd\n",
        "import numpy as np\n",
        "from sklearn.model_selection import train_test_split\n",
        "from sklearn.metrics import mean_squared_error, mean_absolute_error\n",
        "from tensorflow.keras.models import Sequential\n",
        "from tensorflow.keras.layers import Embedding, Dense, Flatten\n",
        "from sklearn.preprocessing import LabelEncoder"
      ],
      "metadata": {
        "id": "fKK9fjGe8INB"
      },
      "execution_count": null,
      "outputs": []
    },
    {
      "cell_type": "code",
      "source": [
        "# Memuat data\n",
        "file_path = '/content/Tempat-Wisata-Toba-Preprocessing.csv'\n",
        "data = pd.read_csv(file_path)\n",
        "\n",
        "# Tampilkan 5 baris pertama untuk memeriksa data\n",
        "print(\"Data yang dimuat:\")\n",
        "print(data.head())"
      ],
      "metadata": {
        "colab": {
          "base_uri": "https://localhost:8080/"
        },
        "id": "4JCtq1Ap8Rew",
        "outputId": "1b375238-e162-4327-902b-db4481062025"
      },
      "execution_count": null,
      "outputs": [
        {
          "output_type": "stream",
          "name": "stdout",
          "text": [
            "Data yang dimuat:\n",
            "   Unnamed: 0.1  Unnamed: 0  \\\n",
            "0             0           0   \n",
            "1             1           1   \n",
            "2             2           2   \n",
            "3             3           3   \n",
            "4             4           4   \n",
            "\n",
            "                                             address  PlaceID  \\\n",
            "0  Jl. Sibola Hotang, Sibola Hotangsas, Kec. Bali...        0   \n",
            "1  Jl. Sibola Hotang, Sibola Hotangsas, Kec. Bali...        0   \n",
            "2  Jl. Sibola Hotang, Sibola Hotangsas, Kec. Bali...        0   \n",
            "3  Jl. Sibola Hotang, Sibola Hotangsas, Kec. Bali...        0   \n",
            "4  Jl. Sibola Hotang, Sibola Hotangsas, Kec. Bali...        0   \n",
            "\n",
            "          Nama_tempat_wisata       Category    ReviewerId  Rating  \\\n",
            "0  PASIR PUTIH LUMBAN BULBUL  Wisata Bahari  1.126030e+20     5.0   \n",
            "1  PASIR PUTIH LUMBAN BULBUL  Wisata Bahari  1.119090e+20     5.0   \n",
            "2  PASIR PUTIH LUMBAN BULBUL  Wisata Bahari  1.078860e+20     5.0   \n",
            "3  PASIR PUTIH LUMBAN BULBUL  Wisata Bahari  1.130720e+20     5.0   \n",
            "4  PASIR PUTIH LUMBAN BULBUL  Wisata Bahari  1.061730e+20     5.0   \n",
            "\n",
            "                         Reviews  \n",
            "0                            NaN  \n",
            "1                          bagus  \n",
            "2                            NaN  \n",
            "3             sangat menyenagkan  \n",
            "4  bebas foto dimana aja cuma 2k  \n"
          ]
        }
      ]
    },
    {
      "cell_type": "code",
      "source": [
        "# Informasi data\n",
        "print(\"\\nInformasi data:\")\n",
        "print(data.info())"
      ],
      "metadata": {
        "colab": {
          "base_uri": "https://localhost:8080/"
        },
        "id": "DJ12Ni6n8Ryl",
        "outputId": "9734cf8d-a102-425c-e050-1551f5cd454c"
      },
      "execution_count": null,
      "outputs": [
        {
          "output_type": "stream",
          "name": "stdout",
          "text": [
            "\n",
            "Informasi data:\n",
            "<class 'pandas.core.frame.DataFrame'>\n",
            "RangeIndex: 43226 entries, 0 to 43225\n",
            "Data columns (total 9 columns):\n",
            " #   Column              Non-Null Count  Dtype  \n",
            "---  ------              --------------  -----  \n",
            " 0   Unnamed: 0.1        43226 non-null  int64  \n",
            " 1   Unnamed: 0          43226 non-null  int64  \n",
            " 2   address             43226 non-null  object \n",
            " 3   PlaceID             43226 non-null  int64  \n",
            " 4   Nama_tempat_wisata  43226 non-null  object \n",
            " 5   Category            43226 non-null  object \n",
            " 6   ReviewerId          43225 non-null  float64\n",
            " 7   Rating              43225 non-null  float64\n",
            " 8   Reviews             22166 non-null  object \n",
            "dtypes: float64(2), int64(3), object(4)\n",
            "memory usage: 3.0+ MB\n",
            "None\n"
          ]
        }
      ]
    },
    {
      "cell_type": "code",
      "source": [
        "# Informasi data\n",
        "print(\"\\nInformasi data:\")\n",
        "print(data.info())"
      ],
      "metadata": {
        "colab": {
          "base_uri": "https://localhost:8080/"
        },
        "id": "7SEok7IP8R2M",
        "outputId": "1c7cfc3b-2138-40d1-8d11-9666f667cc63"
      },
      "execution_count": null,
      "outputs": [
        {
          "output_type": "stream",
          "name": "stdout",
          "text": [
            "\n",
            "Informasi data:\n",
            "<class 'pandas.core.frame.DataFrame'>\n",
            "RangeIndex: 43226 entries, 0 to 43225\n",
            "Data columns (total 9 columns):\n",
            " #   Column              Non-Null Count  Dtype  \n",
            "---  ------              --------------  -----  \n",
            " 0   Unnamed: 0.1        43226 non-null  int64  \n",
            " 1   Unnamed: 0          43226 non-null  int64  \n",
            " 2   address             43226 non-null  object \n",
            " 3   PlaceID             43226 non-null  int64  \n",
            " 4   Nama_tempat_wisata  43226 non-null  object \n",
            " 5   Category            43226 non-null  object \n",
            " 6   ReviewerId          43225 non-null  float64\n",
            " 7   Rating              43225 non-null  float64\n",
            " 8   Reviews             22166 non-null  object \n",
            "dtypes: float64(2), int64(3), object(4)\n",
            "memory usage: 3.0+ MB\n",
            "None\n"
          ]
        }
      ]
    },
    {
      "cell_type": "code",
      "source": [
        "# Mengecek distribusi rating\n",
        "print(\"\\nDistribusi Rating:\")\n",
        "print(data['Rating'].describe())"
      ],
      "metadata": {
        "colab": {
          "base_uri": "https://localhost:8080/"
        },
        "id": "9WdeoOek9E2s",
        "outputId": "03f0e8b8-c5a5-4402-8bb8-2064c352910f"
      },
      "execution_count": null,
      "outputs": [
        {
          "output_type": "stream",
          "name": "stdout",
          "text": [
            "\n",
            "Distribusi Rating:\n",
            "count    43225.000000\n",
            "mean         4.480949\n",
            "std          0.927760\n",
            "min          1.000000\n",
            "25%          4.000000\n",
            "50%          5.000000\n",
            "75%          5.000000\n",
            "max          5.000000\n",
            "Name: Rating, dtype: float64\n"
          ]
        }
      ]
    },
    {
      "cell_type": "code",
      "source": [
        "# Periksa nilai null di data\n",
        "print(\"\\nJumlah Missing Values:\")\n",
        "print(data.isna().sum())"
      ],
      "metadata": {
        "colab": {
          "base_uri": "https://localhost:8080/"
        },
        "id": "Qrd4avLO-v46",
        "outputId": "6490e19d-b9c0-4798-b2a2-d57e401bbad0"
      },
      "execution_count": null,
      "outputs": [
        {
          "output_type": "stream",
          "name": "stdout",
          "text": [
            "\n",
            "Jumlah Missing Values:\n",
            "Unnamed: 0.1              0\n",
            "Unnamed: 0                0\n",
            "address                   0\n",
            "PlaceID                   0\n",
            "Nama_tempat_wisata        0\n",
            "Category                  0\n",
            "ReviewerId                1\n",
            "Rating                    1\n",
            "Reviews               21060\n",
            "dtype: int64\n"
          ]
        }
      ]
    },
    {
      "cell_type": "code",
      "source": [
        "# Hapus baris dengan missing values pada ReviewerId dan Rating\n",
        "data_cleaned = data.dropna(subset=['ReviewerId', 'Rating'])\n",
        "\n",
        "# Konfirmasi hasil\n",
        "print(\"Jumlah Missing Values setelah pembersihan:\")\n",
        "print(data_cleaned[['ReviewerId', 'Rating']].isna().sum())\n"
      ],
      "metadata": {
        "colab": {
          "base_uri": "https://localhost:8080/"
        },
        "id": "f8bRy0Av_IV2",
        "outputId": "1f0c7cdd-843b-428f-caf6-4ef61d1c56e9"
      },
      "execution_count": null,
      "outputs": [
        {
          "output_type": "stream",
          "name": "stdout",
          "text": [
            "Jumlah Missing Values setelah pembersihan:\n",
            "ReviewerId    0\n",
            "Rating        0\n",
            "dtype: int64\n"
          ]
        }
      ]
    },
    {
      "cell_type": "code",
      "source": [
        "# Hapus kolom Reviews karena tidak digunakan\n",
        "data_cleaned = data_cleaned.drop(columns=['Reviews'])\n",
        "\n",
        "# Konfirmasi data\n",
        "print(\"\\nData setelah kolom Reviews dihapus:\")\n",
        "print(data_cleaned.info())\n"
      ],
      "metadata": {
        "colab": {
          "base_uri": "https://localhost:8080/"
        },
        "id": "Ok9EuWMF_Kjf",
        "outputId": "c3cf02b5-2ca4-4e93-9ae2-b98216fb1462"
      },
      "execution_count": null,
      "outputs": [
        {
          "output_type": "stream",
          "name": "stdout",
          "text": [
            "\n",
            "Data setelah kolom Reviews dihapus:\n",
            "<class 'pandas.core.frame.DataFrame'>\n",
            "Index: 43225 entries, 0 to 43225\n",
            "Data columns (total 8 columns):\n",
            " #   Column              Non-Null Count  Dtype  \n",
            "---  ------              --------------  -----  \n",
            " 0   Unnamed: 0.1        43225 non-null  int64  \n",
            " 1   Unnamed: 0          43225 non-null  int64  \n",
            " 2   address             43225 non-null  object \n",
            " 3   PlaceID             43225 non-null  int64  \n",
            " 4   Nama_tempat_wisata  43225 non-null  object \n",
            " 5   Category            43225 non-null  object \n",
            " 6   ReviewerId          43225 non-null  float64\n",
            " 7   Rating              43225 non-null  float64\n",
            "dtypes: float64(2), int64(3), object(3)\n",
            "memory usage: 3.0+ MB\n",
            "None\n"
          ]
        }
      ]
    },
    {
      "cell_type": "code",
      "source": [
        "# Encode PlaceID dan ReviewerId menjadi numerik\n",
        "place_encoder = LabelEncoder()\n",
        "reviewer_encoder = LabelEncoder()\n",
        "\n",
        "data_cleaned['PlaceID_encoded'] = place_encoder.fit_transform(data_cleaned['PlaceID'])\n",
        "data_cleaned['ReviewerId_encoded'] = reviewer_encoder.fit_transform(data_cleaned['ReviewerId'])\n",
        "\n",
        "# Konfirmasi hasil encoding\n",
        "print(data_cleaned[['PlaceID', 'PlaceID_encoded']].head())"
      ],
      "metadata": {
        "colab": {
          "base_uri": "https://localhost:8080/"
        },
        "id": "tKGGT5HUCKYq",
        "outputId": "06ae779e-9292-4770-e7e6-aaf4c74cd0e2"
      },
      "execution_count": null,
      "outputs": [
        {
          "output_type": "stream",
          "name": "stdout",
          "text": [
            "   PlaceID  PlaceID_encoded\n",
            "0        0                0\n",
            "1        0                0\n",
            "2        0                0\n",
            "3        0                0\n",
            "4        0                0\n"
          ]
        }
      ]
    },
    {
      "cell_type": "markdown",
      "source": [
        "**2. Pembagian Data**"
      ],
      "metadata": {
        "id": "QScTAh_B9JNV"
      }
    },
    {
      "cell_type": "markdown",
      "source": [
        "pembagian data digunakan untuk membagi dataset menjadi tiga subset, yaitu data Training, Validation, dan Testing dengan proporsi tertentu. Pertama, ditentukan ukuran dari masing-masing subset berdasarkan persentase: 70% data akan digunakan untuk training, 15% untuk validation, dan sisa 15% untuk testing. Variabel train_size dihitung sebagai 70% dari total data, val_size dihitung sebagai 15% dari total data, dan test_size dihitung sebagai sisa dari total data setelah dikurangi train_size dan val_size.\n",
        "\n",
        "Setelah menentukan ukuran untuk setiap subset, data kemudian dibagi sesuai indeks. Data Training (train_df) diambil dari baris awal hingga train_size, sedangkan data Validation (val_df) diambil mulai dari train_size hingga train_size + val_size. Data Testing (test_df) mencakup sisa data mulai dari train_size + val_size hingga baris terakhir dataset."
      ],
      "metadata": {
        "id": "Y9yyVYkivp3F"
      }
    },
    {
      "cell_type": "code",
      "source": [
        "from sklearn.model_selection import train_test_split\n",
        "\n",
        "# Pilih fitur dan label\n",
        "X = data_cleaned[['PlaceID_encoded', 'ReviewerId_encoded']]\n",
        "y = data_cleaned['Rating']\n",
        "\n",
        "# Split data: Train, Validation, Test\n",
        "X_train, X_temp, y_train, y_temp = train_test_split(X, y, test_size=0.3, random_state=42)\n",
        "X_val, X_test, y_val, y_test = train_test_split(X_temp, y_temp, test_size=0.5, random_state=42)\n",
        "\n",
        "print(f\"Train: {len(X_train)}, Validation: {len(X_val)}, Test: {len(X_test)}\")\n"
      ],
      "metadata": {
        "colab": {
          "base_uri": "https://localhost:8080/"
        },
        "id": "NmyarMlv_V2n",
        "outputId": "646a6fb6-b4de-4656-bbc0-0588d313dba6"
      },
      "execution_count": null,
      "outputs": [
        {
          "output_type": "stream",
          "name": "stdout",
          "text": [
            "Train: 30257, Validation: 6484, Test: 6484\n"
          ]
        }
      ]
    },
    {
      "cell_type": "code",
      "source": [
        "# Normalisasi target (Rating) ke skala 1-5\n",
        "y_train_normalized = (y_train - 1) / 4.0  # Normalisasi ke rentang [1,5]\n",
        "y_val_normalized = (y_val - 1) / 4.0\n",
        "y_test_normalized = (y_test - 1) / 4.0\n"
      ],
      "metadata": {
        "id": "IEgqYFgd9IAA"
      },
      "execution_count": null,
      "outputs": []
    },
    {
      "cell_type": "markdown",
      "source": [
        "**3. Model Recommendation System**"
      ],
      "metadata": {
        "id": "GZOrUdey9Xkn"
      }
    },
    {
      "cell_type": "markdown",
      "source": [
        "**Alternating Least Squares (ALS)**\n",
        "\n",
        "Alternating Least Squares (ALS) merupakan sebuah algoritma yang digunakan untuk memecahkan masalah dalam sistem rekomendasi, khususnya pada Collaborative Filtering. ALS banyak digunakan dalam aplikasi rekomendasi, seperti Netflix, Amazon, dan Spotify, untuk memprediksi item apa yang mungkin disukai oleh pengguna berdasarkan preferensi yang telah ada. Alternating Least Squares (ALS) adalah teknik model-based Collaborative Filtering yang menggunakan optimasi berbasis least squares untuk melakukan matrix factorization dan membuat rekomendasi Dalam konteks ini, ALS digunakan untuk menemukan latent factors yang mewakili preferensi pengguna dan karakteristik item."
      ],
      "metadata": {
        "id": "zGd4IRr6wf1l"
      }
    },
    {
      "cell_type": "code",
      "source": [
        "# 2. Model recommendation dengan regularization dan output linear\n",
        "from tensorflow.keras.regularizers import l2\n",
        "from tensorflow.keras.layers import Dropout\n",
        "\n",
        "place_input = Input(shape=(1,), name='place_input')\n",
        "reviewer_input = Input(shape=(1,), name='reviewer_input')\n",
        "\n",
        "# Embedding Layer\n",
        "place_embedding = Embedding(input_dim=X['PlaceID_encoded'].nunique()+1, output_dim=8)(place_input)\n",
        "reviewer_embedding = Embedding(input_dim=X['ReviewerId_encoded'].nunique()+1, output_dim=8)(reviewer_input)\n",
        "\n",
        "# Flatten Embedding\n",
        "place_flatten = Flatten()(place_embedding)\n",
        "reviewer_flatten = Flatten()(reviewer_embedding)\n",
        "\n",
        "# Gabungkan kedua embedding\n",
        "concat = Concatenate()([place_flatten, reviewer_flatten])\n",
        "\n",
        "# Fully Connected Layers\n",
        "dense1 = Dense(128, activation='relu', kernel_regularizer=l2(0.01))(concat)\n",
        "dropout1 = Dropout(0.2)(dense1)  # Menambahkan dropout\n",
        "dense2 = Dense(64, activation='relu', kernel_regularizer=l2(0.01))(dropout1)\n",
        "dropout2 = Dropout(0.2)(dense2)  # Menambahkan dropout\n",
        "output = Dense(1, activation='linear')(dropout2)  # Output Predicted Rating dalam rentang 0-1\n",
        "\n",
        "# Definisi Model\n",
        "model = Model(inputs=[place_input, reviewer_input], outputs=output)\n",
        "model.compile(optimizer='adam', loss='mse', metrics=['mae'])\n",
        "\n",
        "# Summary\n",
        "model.summary()"
      ],
      "metadata": {
        "colab": {
          "base_uri": "https://localhost:8080/",
          "height": 578
        },
        "id": "DdqwfgrT9bYK",
        "outputId": "2378c7e4-7555-45d4-ee05-504e49e66f9a"
      },
      "execution_count": null,
      "outputs": [
        {
          "output_type": "display_data",
          "data": {
            "text/plain": [
              "\u001b[1mModel: \"functional_3\"\u001b[0m\n"
            ],
            "text/html": [
              "<pre style=\"white-space:pre;overflow-x:auto;line-height:normal;font-family:Menlo,'DejaVu Sans Mono',consolas,'Courier New',monospace\"><span style=\"font-weight: bold\">Model: \"functional_3\"</span>\n",
              "</pre>\n"
            ]
          },
          "metadata": {}
        },
        {
          "output_type": "display_data",
          "data": {
            "text/plain": [
              "┏━━━━━━━━━━━━━━━━━━━━━━━━━━━┳━━━━━━━━━━━━━━━━━━━━━━━━┳━━━━━━━━━━━━━━━━┳━━━━━━━━━━━━━━━━━━━━━━━━┓\n",
              "┃\u001b[1m \u001b[0m\u001b[1mLayer (type)             \u001b[0m\u001b[1m \u001b[0m┃\u001b[1m \u001b[0m\u001b[1mOutput Shape          \u001b[0m\u001b[1m \u001b[0m┃\u001b[1m \u001b[0m\u001b[1m       Param #\u001b[0m\u001b[1m \u001b[0m┃\u001b[1m \u001b[0m\u001b[1mConnected to          \u001b[0m\u001b[1m \u001b[0m┃\n",
              "┡━━━━━━━━━━━━━━━━━━━━━━━━━━━╇━━━━━━━━━━━━━━━━━━━━━━━━╇━━━━━━━━━━━━━━━━╇━━━━━━━━━━━━━━━━━━━━━━━━┩\n",
              "│ place_input (\u001b[38;5;33mInputLayer\u001b[0m)  │ (\u001b[38;5;45mNone\u001b[0m, \u001b[38;5;34m1\u001b[0m)              │              \u001b[38;5;34m0\u001b[0m │ -                      │\n",
              "├───────────────────────────┼────────────────────────┼────────────────┼────────────────────────┤\n",
              "│ reviewer_input            │ (\u001b[38;5;45mNone\u001b[0m, \u001b[38;5;34m1\u001b[0m)              │              \u001b[38;5;34m0\u001b[0m │ -                      │\n",
              "│ (\u001b[38;5;33mInputLayer\u001b[0m)              │                        │                │                        │\n",
              "├───────────────────────────┼────────────────────────┼────────────────┼────────────────────────┤\n",
              "│ embedding_2 (\u001b[38;5;33mEmbedding\u001b[0m)   │ (\u001b[38;5;45mNone\u001b[0m, \u001b[38;5;34m1\u001b[0m, \u001b[38;5;34m8\u001b[0m)           │            \u001b[38;5;34m816\u001b[0m │ place_input[\u001b[38;5;34m0\u001b[0m][\u001b[38;5;34m0\u001b[0m]      │\n",
              "├───────────────────────────┼────────────────────────┼────────────────┼────────────────────────┤\n",
              "│ embedding_3 (\u001b[38;5;33mEmbedding\u001b[0m)   │ (\u001b[38;5;45mNone\u001b[0m, \u001b[38;5;34m1\u001b[0m, \u001b[38;5;34m8\u001b[0m)           │        \u001b[38;5;34m120,096\u001b[0m │ reviewer_input[\u001b[38;5;34m0\u001b[0m][\u001b[38;5;34m0\u001b[0m]   │\n",
              "├───────────────────────────┼────────────────────────┼────────────────┼────────────────────────┤\n",
              "│ flatten_4 (\u001b[38;5;33mFlatten\u001b[0m)       │ (\u001b[38;5;45mNone\u001b[0m, \u001b[38;5;34m8\u001b[0m)              │              \u001b[38;5;34m0\u001b[0m │ embedding_2[\u001b[38;5;34m0\u001b[0m][\u001b[38;5;34m0\u001b[0m]      │\n",
              "├───────────────────────────┼────────────────────────┼────────────────┼────────────────────────┤\n",
              "│ flatten_5 (\u001b[38;5;33mFlatten\u001b[0m)       │ (\u001b[38;5;45mNone\u001b[0m, \u001b[38;5;34m8\u001b[0m)              │              \u001b[38;5;34m0\u001b[0m │ embedding_3[\u001b[38;5;34m0\u001b[0m][\u001b[38;5;34m0\u001b[0m]      │\n",
              "├───────────────────────────┼────────────────────────┼────────────────┼────────────────────────┤\n",
              "│ concatenate_1             │ (\u001b[38;5;45mNone\u001b[0m, \u001b[38;5;34m16\u001b[0m)             │              \u001b[38;5;34m0\u001b[0m │ flatten_4[\u001b[38;5;34m0\u001b[0m][\u001b[38;5;34m0\u001b[0m],       │\n",
              "│ (\u001b[38;5;33mConcatenate\u001b[0m)             │                        │                │ flatten_5[\u001b[38;5;34m0\u001b[0m][\u001b[38;5;34m0\u001b[0m]        │\n",
              "├───────────────────────────┼────────────────────────┼────────────────┼────────────────────────┤\n",
              "│ dense_7 (\u001b[38;5;33mDense\u001b[0m)           │ (\u001b[38;5;45mNone\u001b[0m, \u001b[38;5;34m128\u001b[0m)            │          \u001b[38;5;34m2,176\u001b[0m │ concatenate_1[\u001b[38;5;34m0\u001b[0m][\u001b[38;5;34m0\u001b[0m]    │\n",
              "├───────────────────────────┼────────────────────────┼────────────────┼────────────────────────┤\n",
              "│ dropout (\u001b[38;5;33mDropout\u001b[0m)         │ (\u001b[38;5;45mNone\u001b[0m, \u001b[38;5;34m128\u001b[0m)            │              \u001b[38;5;34m0\u001b[0m │ dense_7[\u001b[38;5;34m0\u001b[0m][\u001b[38;5;34m0\u001b[0m]          │\n",
              "├───────────────────────────┼────────────────────────┼────────────────┼────────────────────────┤\n",
              "│ dense_8 (\u001b[38;5;33mDense\u001b[0m)           │ (\u001b[38;5;45mNone\u001b[0m, \u001b[38;5;34m64\u001b[0m)             │          \u001b[38;5;34m8,256\u001b[0m │ dropout[\u001b[38;5;34m0\u001b[0m][\u001b[38;5;34m0\u001b[0m]          │\n",
              "├───────────────────────────┼────────────────────────┼────────────────┼────────────────────────┤\n",
              "│ dropout_1 (\u001b[38;5;33mDropout\u001b[0m)       │ (\u001b[38;5;45mNone\u001b[0m, \u001b[38;5;34m64\u001b[0m)             │              \u001b[38;5;34m0\u001b[0m │ dense_8[\u001b[38;5;34m0\u001b[0m][\u001b[38;5;34m0\u001b[0m]          │\n",
              "├───────────────────────────┼────────────────────────┼────────────────┼────────────────────────┤\n",
              "│ dense_9 (\u001b[38;5;33mDense\u001b[0m)           │ (\u001b[38;5;45mNone\u001b[0m, \u001b[38;5;34m1\u001b[0m)              │             \u001b[38;5;34m65\u001b[0m │ dropout_1[\u001b[38;5;34m0\u001b[0m][\u001b[38;5;34m0\u001b[0m]        │\n",
              "└───────────────────────────┴────────────────────────┴────────────────┴────────────────────────┘\n"
            ],
            "text/html": [
              "<pre style=\"white-space:pre;overflow-x:auto;line-height:normal;font-family:Menlo,'DejaVu Sans Mono',consolas,'Courier New',monospace\">┏━━━━━━━━━━━━━━━━━━━━━━━━━━━┳━━━━━━━━━━━━━━━━━━━━━━━━┳━━━━━━━━━━━━━━━━┳━━━━━━━━━━━━━━━━━━━━━━━━┓\n",
              "┃<span style=\"font-weight: bold\"> Layer (type)              </span>┃<span style=\"font-weight: bold\"> Output Shape           </span>┃<span style=\"font-weight: bold\">        Param # </span>┃<span style=\"font-weight: bold\"> Connected to           </span>┃\n",
              "┡━━━━━━━━━━━━━━━━━━━━━━━━━━━╇━━━━━━━━━━━━━━━━━━━━━━━━╇━━━━━━━━━━━━━━━━╇━━━━━━━━━━━━━━━━━━━━━━━━┩\n",
              "│ place_input (<span style=\"color: #0087ff; text-decoration-color: #0087ff\">InputLayer</span>)  │ (<span style=\"color: #00d7ff; text-decoration-color: #00d7ff\">None</span>, <span style=\"color: #00af00; text-decoration-color: #00af00\">1</span>)              │              <span style=\"color: #00af00; text-decoration-color: #00af00\">0</span> │ -                      │\n",
              "├───────────────────────────┼────────────────────────┼────────────────┼────────────────────────┤\n",
              "│ reviewer_input            │ (<span style=\"color: #00d7ff; text-decoration-color: #00d7ff\">None</span>, <span style=\"color: #00af00; text-decoration-color: #00af00\">1</span>)              │              <span style=\"color: #00af00; text-decoration-color: #00af00\">0</span> │ -                      │\n",
              "│ (<span style=\"color: #0087ff; text-decoration-color: #0087ff\">InputLayer</span>)              │                        │                │                        │\n",
              "├───────────────────────────┼────────────────────────┼────────────────┼────────────────────────┤\n",
              "│ embedding_2 (<span style=\"color: #0087ff; text-decoration-color: #0087ff\">Embedding</span>)   │ (<span style=\"color: #00d7ff; text-decoration-color: #00d7ff\">None</span>, <span style=\"color: #00af00; text-decoration-color: #00af00\">1</span>, <span style=\"color: #00af00; text-decoration-color: #00af00\">8</span>)           │            <span style=\"color: #00af00; text-decoration-color: #00af00\">816</span> │ place_input[<span style=\"color: #00af00; text-decoration-color: #00af00\">0</span>][<span style=\"color: #00af00; text-decoration-color: #00af00\">0</span>]      │\n",
              "├───────────────────────────┼────────────────────────┼────────────────┼────────────────────────┤\n",
              "│ embedding_3 (<span style=\"color: #0087ff; text-decoration-color: #0087ff\">Embedding</span>)   │ (<span style=\"color: #00d7ff; text-decoration-color: #00d7ff\">None</span>, <span style=\"color: #00af00; text-decoration-color: #00af00\">1</span>, <span style=\"color: #00af00; text-decoration-color: #00af00\">8</span>)           │        <span style=\"color: #00af00; text-decoration-color: #00af00\">120,096</span> │ reviewer_input[<span style=\"color: #00af00; text-decoration-color: #00af00\">0</span>][<span style=\"color: #00af00; text-decoration-color: #00af00\">0</span>]   │\n",
              "├───────────────────────────┼────────────────────────┼────────────────┼────────────────────────┤\n",
              "│ flatten_4 (<span style=\"color: #0087ff; text-decoration-color: #0087ff\">Flatten</span>)       │ (<span style=\"color: #00d7ff; text-decoration-color: #00d7ff\">None</span>, <span style=\"color: #00af00; text-decoration-color: #00af00\">8</span>)              │              <span style=\"color: #00af00; text-decoration-color: #00af00\">0</span> │ embedding_2[<span style=\"color: #00af00; text-decoration-color: #00af00\">0</span>][<span style=\"color: #00af00; text-decoration-color: #00af00\">0</span>]      │\n",
              "├───────────────────────────┼────────────────────────┼────────────────┼────────────────────────┤\n",
              "│ flatten_5 (<span style=\"color: #0087ff; text-decoration-color: #0087ff\">Flatten</span>)       │ (<span style=\"color: #00d7ff; text-decoration-color: #00d7ff\">None</span>, <span style=\"color: #00af00; text-decoration-color: #00af00\">8</span>)              │              <span style=\"color: #00af00; text-decoration-color: #00af00\">0</span> │ embedding_3[<span style=\"color: #00af00; text-decoration-color: #00af00\">0</span>][<span style=\"color: #00af00; text-decoration-color: #00af00\">0</span>]      │\n",
              "├───────────────────────────┼────────────────────────┼────────────────┼────────────────────────┤\n",
              "│ concatenate_1             │ (<span style=\"color: #00d7ff; text-decoration-color: #00d7ff\">None</span>, <span style=\"color: #00af00; text-decoration-color: #00af00\">16</span>)             │              <span style=\"color: #00af00; text-decoration-color: #00af00\">0</span> │ flatten_4[<span style=\"color: #00af00; text-decoration-color: #00af00\">0</span>][<span style=\"color: #00af00; text-decoration-color: #00af00\">0</span>],       │\n",
              "│ (<span style=\"color: #0087ff; text-decoration-color: #0087ff\">Concatenate</span>)             │                        │                │ flatten_5[<span style=\"color: #00af00; text-decoration-color: #00af00\">0</span>][<span style=\"color: #00af00; text-decoration-color: #00af00\">0</span>]        │\n",
              "├───────────────────────────┼────────────────────────┼────────────────┼────────────────────────┤\n",
              "│ dense_7 (<span style=\"color: #0087ff; text-decoration-color: #0087ff\">Dense</span>)           │ (<span style=\"color: #00d7ff; text-decoration-color: #00d7ff\">None</span>, <span style=\"color: #00af00; text-decoration-color: #00af00\">128</span>)            │          <span style=\"color: #00af00; text-decoration-color: #00af00\">2,176</span> │ concatenate_1[<span style=\"color: #00af00; text-decoration-color: #00af00\">0</span>][<span style=\"color: #00af00; text-decoration-color: #00af00\">0</span>]    │\n",
              "├───────────────────────────┼────────────────────────┼────────────────┼────────────────────────┤\n",
              "│ dropout (<span style=\"color: #0087ff; text-decoration-color: #0087ff\">Dropout</span>)         │ (<span style=\"color: #00d7ff; text-decoration-color: #00d7ff\">None</span>, <span style=\"color: #00af00; text-decoration-color: #00af00\">128</span>)            │              <span style=\"color: #00af00; text-decoration-color: #00af00\">0</span> │ dense_7[<span style=\"color: #00af00; text-decoration-color: #00af00\">0</span>][<span style=\"color: #00af00; text-decoration-color: #00af00\">0</span>]          │\n",
              "├───────────────────────────┼────────────────────────┼────────────────┼────────────────────────┤\n",
              "│ dense_8 (<span style=\"color: #0087ff; text-decoration-color: #0087ff\">Dense</span>)           │ (<span style=\"color: #00d7ff; text-decoration-color: #00d7ff\">None</span>, <span style=\"color: #00af00; text-decoration-color: #00af00\">64</span>)             │          <span style=\"color: #00af00; text-decoration-color: #00af00\">8,256</span> │ dropout[<span style=\"color: #00af00; text-decoration-color: #00af00\">0</span>][<span style=\"color: #00af00; text-decoration-color: #00af00\">0</span>]          │\n",
              "├───────────────────────────┼────────────────────────┼────────────────┼────────────────────────┤\n",
              "│ dropout_1 (<span style=\"color: #0087ff; text-decoration-color: #0087ff\">Dropout</span>)       │ (<span style=\"color: #00d7ff; text-decoration-color: #00d7ff\">None</span>, <span style=\"color: #00af00; text-decoration-color: #00af00\">64</span>)             │              <span style=\"color: #00af00; text-decoration-color: #00af00\">0</span> │ dense_8[<span style=\"color: #00af00; text-decoration-color: #00af00\">0</span>][<span style=\"color: #00af00; text-decoration-color: #00af00\">0</span>]          │\n",
              "├───────────────────────────┼────────────────────────┼────────────────┼────────────────────────┤\n",
              "│ dense_9 (<span style=\"color: #0087ff; text-decoration-color: #0087ff\">Dense</span>)           │ (<span style=\"color: #00d7ff; text-decoration-color: #00d7ff\">None</span>, <span style=\"color: #00af00; text-decoration-color: #00af00\">1</span>)              │             <span style=\"color: #00af00; text-decoration-color: #00af00\">65</span> │ dropout_1[<span style=\"color: #00af00; text-decoration-color: #00af00\">0</span>][<span style=\"color: #00af00; text-decoration-color: #00af00\">0</span>]        │\n",
              "└───────────────────────────┴────────────────────────┴────────────────┴────────────────────────┘\n",
              "</pre>\n"
            ]
          },
          "metadata": {}
        },
        {
          "output_type": "display_data",
          "data": {
            "text/plain": [
              "\u001b[1m Total params: \u001b[0m\u001b[38;5;34m131,409\u001b[0m (513.32 KB)\n"
            ],
            "text/html": [
              "<pre style=\"white-space:pre;overflow-x:auto;line-height:normal;font-family:Menlo,'DejaVu Sans Mono',consolas,'Courier New',monospace\"><span style=\"font-weight: bold\"> Total params: </span><span style=\"color: #00af00; text-decoration-color: #00af00\">131,409</span> (513.32 KB)\n",
              "</pre>\n"
            ]
          },
          "metadata": {}
        },
        {
          "output_type": "display_data",
          "data": {
            "text/plain": [
              "\u001b[1m Trainable params: \u001b[0m\u001b[38;5;34m131,409\u001b[0m (513.32 KB)\n"
            ],
            "text/html": [
              "<pre style=\"white-space:pre;overflow-x:auto;line-height:normal;font-family:Menlo,'DejaVu Sans Mono',consolas,'Courier New',monospace\"><span style=\"font-weight: bold\"> Trainable params: </span><span style=\"color: #00af00; text-decoration-color: #00af00\">131,409</span> (513.32 KB)\n",
              "</pre>\n"
            ]
          },
          "metadata": {}
        },
        {
          "output_type": "display_data",
          "data": {
            "text/plain": [
              "\u001b[1m Non-trainable params: \u001b[0m\u001b[38;5;34m0\u001b[0m (0.00 B)\n"
            ],
            "text/html": [
              "<pre style=\"white-space:pre;overflow-x:auto;line-height:normal;font-family:Menlo,'DejaVu Sans Mono',consolas,'Courier New',monospace\"><span style=\"font-weight: bold\"> Non-trainable params: </span><span style=\"color: #00af00; text-decoration-color: #00af00\">0</span> (0.00 B)\n",
              "</pre>\n"
            ]
          },
          "metadata": {}
        }
      ]
    },
    {
      "cell_type": "markdown",
      "source": [
        "Hasil pelatihan model menunjukkan perkembangan performa yang signifikan selama beberapa epoch awal, namun mulai mengalami stagnasi dan fluktuasi di tengah hingga akhir pelatihan. Pada epoch pertama, nilai **loss** sebesar 0.3829 dan **val_loss** sebesar 0.0526 menunjukkan bahwa model belum sepenuhnya belajar pola dari data, yang tercermin pula dari nilai **mae** sebesar 0.2611 dan **val_mae** sebesar 0.1754. Seiring pelatihan, model secara bertahap meningkatkan akurasi prediksinya, ditandai dengan penurunan nilai **loss** dan **mae** hingga sekitar epoch ke-6. Pada titik ini, nilai **val_loss** mencapai 0.0649, sedangkan **val_mae** berada di angka 0.1736, yang menunjukkan performa validasi masih cukup baik.\n",
        "\n",
        "Namun, setelah epoch ke-6, terlihat indikasi **overfitting**, di mana nilai **loss** pada data pelatihan terus menurun, tetapi **val_loss** dan **val_mae** mulai menunjukkan fluktuasi dan bahkan sedikit meningkat pada beberapa epoch berikutnya. Fenomena ini menunjukkan bahwa model terlalu \"terlatih\" pada data pelatihan, sehingga tidak mampu menangkap pola umum pada data validasi. Pada akhir pelatihan (epoch ke-20), model mencapai nilai **loss** sebesar 0.0328 dan **mae** sebesar 0.1164 pada data pelatihan, sementara performa validasi berada pada nilai **val_loss** sebesar 0.0620 dan **val_mae** sebesar 0.1686.\n",
        "\n",
        "Secara keseluruhan, model memiliki akurasi prediksi yang cukup baik, tetapi masih perlu dilakukan beberapa penyesuaian untuk mencegah overfitting. Solusi seperti penerapan **regularisasi** (misalnya, dropout atau L1/L2 regularization), **early stopping**, atau penambahan data pelatihan dapat meningkatkan generalisasi model. Meskipun begitu, nilai **mae** pada data validasi menunjukkan bahwa model cukup mampu menangani prediksi dengan tingkat kesalahan yang relatif kecil, menjadikannya solusi yang potensial untuk masalah yang sedang dihadapi."
      ],
      "metadata": {
        "id": "4ARiOJnqwqT_"
      }
    },
    {
      "cell_type": "code",
      "source": [
        "# Training\n",
        "history = model.fit(\n",
        "    [X_train['PlaceID_encoded'], X_train['ReviewerId_encoded']], y_train_normalized,\n",
        "    validation_data=([X_val['PlaceID_encoded'], X_val['ReviewerId_encoded']], y_val_normalized),\n",
        "    epochs=20,  # Menambah epoch untuk konvergensi yang lebih baik\n",
        "    batch_size=32\n",
        ")"
      ],
      "metadata": {
        "colab": {
          "base_uri": "https://localhost:8080/"
        },
        "id": "zd-u1a_NI2IC",
        "outputId": "ba363884-a313-400d-873e-e1e6c2c1a227"
      },
      "execution_count": null,
      "outputs": [
        {
          "output_type": "stream",
          "name": "stdout",
          "text": [
            "Epoch 1/20\n",
            "\u001b[1m946/946\u001b[0m \u001b[32m━━━━━━━━━━━━━━━━━━━━\u001b[0m\u001b[37m\u001b[0m \u001b[1m8s\u001b[0m 6ms/step - loss: 0.3829 - mae: 0.2611 - val_loss: 0.0526 - val_mae: 0.1754\n",
            "Epoch 2/20\n",
            "\u001b[1m946/946\u001b[0m \u001b[32m━━━━━━━━━━━━━━━━━━━━\u001b[0m\u001b[37m\u001b[0m \u001b[1m8s\u001b[0m 4ms/step - loss: 0.0581 - mae: 0.1794 - val_loss: 0.0527 - val_mae: 0.1703\n",
            "Epoch 3/20\n",
            "\u001b[1m946/946\u001b[0m \u001b[32m━━━━━━━━━━━━━━━━━━━━\u001b[0m\u001b[37m\u001b[0m \u001b[1m7s\u001b[0m 6ms/step - loss: 0.0574 - mae: 0.1710 - val_loss: 0.0542 - val_mae: 0.1668\n",
            "Epoch 4/20\n",
            "\u001b[1m946/946\u001b[0m \u001b[32m━━━━━━━━━━━━━━━━━━━━\u001b[0m\u001b[37m\u001b[0m \u001b[1m8s\u001b[0m 4ms/step - loss: 0.0494 - mae: 0.1450 - val_loss: 0.0558 - val_mae: 0.1653\n",
            "Epoch 5/20\n",
            "\u001b[1m946/946\u001b[0m \u001b[32m━━━━━━━━━━━━━━━━━━━━\u001b[0m\u001b[37m\u001b[0m \u001b[1m6s\u001b[0m 6ms/step - loss: 0.0433 - mae: 0.1322 - val_loss: 0.0608 - val_mae: 0.1538\n",
            "Epoch 6/20\n",
            "\u001b[1m946/946\u001b[0m \u001b[32m━━━━━━━━━━━━━━━━━━━━\u001b[0m\u001b[37m\u001b[0m \u001b[1m9s\u001b[0m 4ms/step - loss: 0.0401 - mae: 0.1253 - val_loss: 0.0649 - val_mae: 0.1736\n",
            "Epoch 7/20\n",
            "\u001b[1m946/946\u001b[0m \u001b[32m━━━━━━━━━━━━━━━━━━━━\u001b[0m\u001b[37m\u001b[0m \u001b[1m6s\u001b[0m 6ms/step - loss: 0.0388 - mae: 0.1231 - val_loss: 0.0607 - val_mae: 0.1696\n",
            "Epoch 8/20\n",
            "\u001b[1m946/946\u001b[0m \u001b[32m━━━━━━━━━━━━━━━━━━━━\u001b[0m\u001b[37m\u001b[0m \u001b[1m4s\u001b[0m 4ms/step - loss: 0.0362 - mae: 0.1191 - val_loss: 0.0597 - val_mae: 0.1576\n",
            "Epoch 9/20\n",
            "\u001b[1m946/946\u001b[0m \u001b[32m━━━━━━━━━━━━━━━━━━━━\u001b[0m\u001b[37m\u001b[0m \u001b[1m5s\u001b[0m 4ms/step - loss: 0.0351 - mae: 0.1180 - val_loss: 0.0606 - val_mae: 0.1653\n",
            "Epoch 10/20\n",
            "\u001b[1m946/946\u001b[0m \u001b[32m━━━━━━━━━━━━━━━━━━━━\u001b[0m\u001b[37m\u001b[0m \u001b[1m6s\u001b[0m 5ms/step - loss: 0.0343 - mae: 0.1171 - val_loss: 0.0607 - val_mae: 0.1726\n",
            "Epoch 11/20\n",
            "\u001b[1m946/946\u001b[0m \u001b[32m━━━━━━━━━━━━━━━━━━━━\u001b[0m\u001b[37m\u001b[0m \u001b[1m4s\u001b[0m 4ms/step - loss: 0.0354 - mae: 0.1189 - val_loss: 0.0593 - val_mae: 0.1656\n",
            "Epoch 12/20\n",
            "\u001b[1m946/946\u001b[0m \u001b[32m━━━━━━━━━━━━━━━━━━━━\u001b[0m\u001b[37m\u001b[0m \u001b[1m7s\u001b[0m 6ms/step - loss: 0.0343 - mae: 0.1175 - val_loss: 0.0696 - val_mae: 0.1901\n",
            "Epoch 13/20\n",
            "\u001b[1m946/946\u001b[0m \u001b[32m━━━━━━━━━━━━━━━━━━━━\u001b[0m\u001b[37m\u001b[0m \u001b[1m4s\u001b[0m 4ms/step - loss: 0.0346 - mae: 0.1180 - val_loss: 0.0639 - val_mae: 0.1819\n",
            "Epoch 14/20\n",
            "\u001b[1m946/946\u001b[0m \u001b[32m━━━━━━━━━━━━━━━━━━━━\u001b[0m\u001b[37m\u001b[0m \u001b[1m4s\u001b[0m 4ms/step - loss: 0.0334 - mae: 0.1158 - val_loss: 0.0649 - val_mae: 0.1902\n",
            "Epoch 15/20\n",
            "\u001b[1m946/946\u001b[0m \u001b[32m━━━━━━━━━━━━━━━━━━━━\u001b[0m\u001b[37m\u001b[0m \u001b[1m8s\u001b[0m 7ms/step - loss: 0.0339 - mae: 0.1173 - val_loss: 0.0638 - val_mae: 0.1662\n",
            "Epoch 16/20\n",
            "\u001b[1m946/946\u001b[0m \u001b[32m━━━━━━━━━━━━━━━━━━━━\u001b[0m\u001b[37m\u001b[0m \u001b[1m4s\u001b[0m 4ms/step - loss: 0.0330 - mae: 0.1164 - val_loss: 0.0624 - val_mae: 0.1668\n",
            "Epoch 17/20\n",
            "\u001b[1m946/946\u001b[0m \u001b[32m━━━━━━━━━━━━━━━━━━━━\u001b[0m\u001b[37m\u001b[0m \u001b[1m5s\u001b[0m 4ms/step - loss: 0.0340 - mae: 0.1185 - val_loss: 0.0600 - val_mae: 0.1713\n",
            "Epoch 18/20\n",
            "\u001b[1m946/946\u001b[0m \u001b[32m━━━━━━━━━━━━━━━━━━━━\u001b[0m\u001b[37m\u001b[0m \u001b[1m5s\u001b[0m 5ms/step - loss: 0.0326 - mae: 0.1156 - val_loss: 0.0613 - val_mae: 0.1739\n",
            "Epoch 19/20\n",
            "\u001b[1m946/946\u001b[0m \u001b[32m━━━━━━━━━━━━━━━━━━━━\u001b[0m\u001b[37m\u001b[0m \u001b[1m4s\u001b[0m 4ms/step - loss: 0.0324 - mae: 0.1154 - val_loss: 0.0641 - val_mae: 0.1719\n",
            "Epoch 20/20\n",
            "\u001b[1m946/946\u001b[0m \u001b[32m━━━━━━━━━━━━━━━━━━━━\u001b[0m\u001b[37m\u001b[0m \u001b[1m4s\u001b[0m 4ms/step - loss: 0.0328 - mae: 0.1164 - val_loss: 0.0620 - val_mae: 0.1686\n"
          ]
        }
      ]
    },
    {
      "cell_type": "code",
      "source": [
        "import matplotlib.pyplot as plt\n",
        "\n",
        "# Mengambil data dari history\n",
        "loss = history.history['loss']\n",
        "val_loss = history.history['val_loss']\n",
        "mae = history.history['mae']  # Ganti dengan 'mae'\n",
        "val_mae = history.history['val_mae']  # Ganti dengan 'val_mae'\n",
        "\n",
        "# Membuat grafik untuk loss\n",
        "plt.figure(figsize=(12, 6))\n",
        "\n",
        "# Subplot untuk loss\n",
        "plt.subplot(1, 2, 1)\n",
        "plt.plot(loss, label='Train Loss', linestyle='-', linewidth=2)  # Garis solid\n",
        "plt.plot(val_loss, label='Validation Loss', linestyle='--', linewidth=2)  # Garis putus-putus\n",
        "plt.title('Loss vs Epochs')\n",
        "plt.xlabel('Epochs')\n",
        "plt.ylabel('Loss')\n",
        "plt.legend()\n",
        "\n",
        "# Subplot untuk MAE\n",
        "plt.subplot(1, 2, 2)\n",
        "plt.plot(mae, label='Train MAE', linestyle='-', linewidth=2)  # Garis solid\n",
        "plt.plot(val_mae, label='Validation MAE', linestyle='-.', linewidth=2)  # Garis titik-dash\n",
        "plt.title('Mean Absolute Error vs Epochs')\n",
        "plt.xlabel('Epochs')\n",
        "plt.ylabel('Mean Absolute Error')\n",
        "plt.legend()\n",
        "\n",
        "# Menampilkan grafik\n",
        "plt.tight_layout()\n",
        "plt.show()\n"
      ],
      "metadata": {
        "colab": {
          "base_uri": "https://localhost:8080/",
          "height": 607
        },
        "id": "nA58-lD3Q4UM",
        "outputId": "df67008c-b218-4739-8bf0-4bd95bb7c1d0"
      },
      "execution_count": null,
      "outputs": [
        {
          "output_type": "display_data",
          "data": {
            "text/plain": [
              "<Figure size 1200x600 with 2 Axes>"
            ],
            "image/png": "[encoded data removed]"
          },
          "metadata": {}
        }
      ]
    },
    {
      "cell_type": "markdown",
      "source": [
        "Grafik ini menggambarkan perkembangan performa model selama pelatihan dalam 20 epoch dengan dua metrik evaluasi, yaitu Loss dan Mean Absolute Error (MAE), untuk data pelatihan (train) dan validasi (validation). Pada grafik Loss vs Epochs, terlihat bahwa train loss (garis biru) menurun tajam pada awal pelatihan hingga epoch ke-3, lalu secara bertahap menurun hingga stabil di sekitar nilai 0.03. Sebaliknya, validation loss (garis oranye) menunjukkan tren yang stagnan di sekitar 0.06 dengan sedikit fluktuasi, yang mengindikasikan bahwa model mulai mengalami overfitting. Model tampaknya belajar dengan baik pada data pelatihan, tetapi tidak menunjukkan peningkatan yang berarti pada data validasi.\n",
        "\n",
        "Sementara itu, pada grafik Mean Absolute Error vs Epochs, train MAE (garis biru) mengalami penurunan signifikan di awal pelatihan dan stabil pada nilai sekitar 0.12, mencerminkan performa yang baik pada data pelatihan. Di sisi lain, validation MAE (garis oranye) berfluktuasi cukup tajam di sepanjang epoch, berada di kisaran 0.16 hingga 0.18. Pola fluktuasi ini memperkuat indikasi bahwa model tidak mampu melakukan generalisasi dengan baik pada data validasi, meskipun performa pada data pelatihan cukup baik.\n",
        "\n"
      ],
      "metadata": {
        "id": "3fCLkbI5x34a"
      }
    },
    {
      "cell_type": "markdown",
      "source": [
        "**4. Evaluasi Model**"
      ],
      "metadata": {
        "id": "YGolFw0o9wzb"
      }
    },
    {
      "cell_type": "code",
      "source": [
        "# Prediksi untuk Test set\n",
        "y_pred_normalized = model.predict([X_test['PlaceID_encoded'], X_test['ReviewerId_encoded']]).flatten()\n",
        "\n",
        "# Kembalikan prediksi ke skala 1-5\n",
        "y_pred = (y_pred_normalized * 4) + 1  # Kembali ke rentang 1-5\n",
        "\n",
        "# Hitung RMSE dan MAE\n",
        "rmse = np.sqrt(mean_squared_error(y_test, y_pred))\n",
        "mae = mean_absolute_error(y_test, y_pred)\n",
        "print(f\"RMSE: {rmse:.4f}\")\n",
        "print(f\"MAE: {mae:.4f}\")\n",
        "\n",
        "\n"
      ],
      "metadata": {
        "colab": {
          "base_uri": "https://localhost:8080/"
        },
        "id": "_3pf98f69vxP",
        "outputId": "81c613e0-5769-4c19-9797-5ee8980b1baf"
      },
      "execution_count": null,
      "outputs": [
        {
          "output_type": "stream",
          "name": "stdout",
          "text": [
            "\u001b[1m203/203\u001b[0m \u001b[32m━━━━━━━━━━━━━━━━━━━━\u001b[0m\u001b[37m\u001b[0m \u001b[1m1s\u001b[0m 2ms/step\n",
            "RMSE: 0.9893\n",
            "MAE: 0.6807\n"
          ]
        }
      ]
    },
    {
      "cell_type": "markdown",
      "source": [
        "nilai evaluasi dari\n",
        "RMSE: 0.9893\n",
        "MAE: 0.6807\n",
        "menunjukkan model telah bekerja dengan baik"
      ],
      "metadata": {
        "id": "VhvsaUOMyg4e"
      }
    },
    {
      "cell_type": "code",
      "source": [
        "# Tampilkan prediksi rating yang dikembalikan dalam skala 1-5\n",
        "X_test['Predicted_Rating'] = y_pred\n",
        "X_test['Nama_tempat_wisata'] = data_cleaned['Nama_tempat_wisata']\n",
        "\n",
        "# Urutkan berdasarkan rating tertinggi\n",
        "top_5_recommendations = X_test.sort_values(by='Predicted_Rating', ascending=False).head(5)\n",
        "\n",
        "print(\"Top-5 Rekomendasi Tempat Wisata:\")\n",
        "print(top_5_recommendations[['Nama_tempat_wisata', 'Predicted_Rating']])\n"
      ],
      "metadata": {
        "colab": {
          "base_uri": "https://localhost:8080/"
        },
        "id": "HJYq6B6ADgb4",
        "outputId": "ccb96b09-f635-4331-81b5-db50c0e83d5b"
      },
      "execution_count": null,
      "outputs": [
        {
          "output_type": "stream",
          "name": "stdout",
          "text": [
            "Top-5 Rekomendasi Tempat Wisata:\n",
            "                                      Nama_tempat_wisata  Predicted_Rating\n",
            "41099                   Pantai Bebas Parapat, Danau Toba          4.880996\n",
            "31865                         Bukit Indah Simarjarunjung          4.880996\n",
            "30886                                   Geosite Sipinsur          4.880996\n",
            "24050                                     Taman Eden 100          4.880996\n",
            "20814  Batu Kursi Raja Siallagan ( Stone Chair of Kin...          4.880996\n"
          ]
        }
      ]
    },
    {
      "cell_type": "markdown",
      "source": [
        "berdasarkan hasil prediksi model rekomendasi, berikut adalah Top-5 rekomendasi tempat wisata beserta predicted rating masing-masing tempat wisata yang memiliki nilai serupa, yaitu 4.880996.\n",
        "Prediksi rating sebesar 4.880996 untuk kelima tempat wisata menunjukkan bahwa model merekomendasikan destinasi ini karena diperkirakan memiliki tingkat kepuasan pengunjung yang tinggi. Tempat-tempat tersebut tidak hanya menawarkan keindahan alam tetapi juga nilai budaya dan edukasi, sehingga menjadi pilihan utama dalam daftar rekomendasi."
      ],
      "metadata": {
        "id": "LBS8G86SzNUJ"
      }
    },
    {
      "cell_type": "code",
      "source": [
        "# Tampilkan prediksi rating yang dikembalikan dalam skala 1-5\n",
        "X_test['Predicted_Rating'] = y_pred\n",
        "X_test['Nama_tempat_wisata'] = data_cleaned['Nama_tempat_wisata']\n",
        "\n",
        "# Urutkan berdasarkan rating tertinggi dan ambil Top 10\n",
        "top_10_recommendations = X_test.sort_values(by='Predicted_Rating', ascending=False).head(10)\n",
        "\n",
        "# Menampilkan Top-10 Rekomendasi Tempat Wisata\n",
        "print(\"Top-10 Rekomendasi Tempat Wisata:\")\n",
        "print(top_10_recommendations[['Nama_tempat_wisata', 'Predicted_Rating']])\n"
      ],
      "metadata": {
        "colab": {
          "base_uri": "https://localhost:8080/"
        },
        "id": "AvKHn_o1P1al",
        "outputId": "441e65e1-95c2-4e75-e32c-61f59b81c78a"
      },
      "execution_count": null,
      "outputs": [
        {
          "output_type": "stream",
          "name": "stdout",
          "text": [
            "Top-10 Rekomendasi Tempat Wisata:\n",
            "                                      Nama_tempat_wisata  Predicted_Rating\n",
            "41099                   Pantai Bebas Parapat, Danau Toba          4.880996\n",
            "31865                         Bukit Indah Simarjarunjung          4.880996\n",
            "30886                                   Geosite Sipinsur          4.880996\n",
            "24050                                     Taman Eden 100          4.880996\n",
            "20814  Batu Kursi Raja Siallagan ( Stone Chair of Kin...          4.880996\n",
            "30059                              Bukit Holbung Samosir          4.880996\n",
            "39653                       Pertunjukan Tari Sigale Gale          4.880996\n",
            "2290                        Istana Raja Sisingamangaraja          4.880996\n",
            "16793                                        Pasar Tomok          4.880996\n",
            "32958                                Menara Pandang Tele          4.880996\n"
          ]
        }
      ]
    },
    {
      "cell_type": "code",
      "source": [
        "from sklearn.metrics import precision_score, recall_score, average_precision_score\n",
        "import numpy as np\n",
        "\n",
        "# Menetapkan threshold untuk rating \"positif\"\n",
        "threshold = 3.0\n",
        "\n",
        "# Konversi prediksi dan nilai asli menjadi \"positif\" atau \"negatif\"\n",
        "y_test_binary = (y_test > threshold).astype(int)  # 1 jika rating asli > threshold, 0 jika tidak\n",
        "y_pred_binary = (y_pred > threshold).astype(int)  # 1 jika rating prediksi > threshold, 0 jika tidak\n",
        "\n",
        "# Menghitung Precision dan Recall\n",
        "precision = precision_score(y_test_binary, y_pred_binary)\n",
        "recall = recall_score(y_test_binary, y_pred_binary)\n",
        "\n",
        "print(f\"Precision: {precision:.4f}\")\n",
        "print(f\"Recall: {recall:.4f}\")\n"
      ],
      "metadata": {
        "colab": {
          "base_uri": "https://localhost:8080/"
        },
        "id": "CuswrhbrASpi",
        "outputId": "d34ce72a-e062-4ff0-f44f-5ed5992f409d"
      },
      "execution_count": null,
      "outputs": [
        {
          "output_type": "stream",
          "name": "stdout",
          "text": [
            "Precision: 0.8827\n",
            "Recall: 0.9700\n"
          ]
        }
      ]
    },
    {
      "cell_type": "code",
      "source": [
        "from sklearn.metrics import precision_score, recall_score\n",
        "import numpy as np\n",
        "\n",
        "# Menetapkan threshold untuk rating \"positif\"\n",
        "threshold = 3.0\n",
        "\n",
        "# Konversi prediksi dan nilai asli menjadi \"positif\" atau \"negatif\" untuk Precision & Recall\n",
        "y_test_binary = (y_test.values > threshold).astype(int)  # 1 jika rating asli > threshold, 0 jika tidak\n",
        "y_pred_binary = (y_pred > threshold).astype(int)  # 1 jika rating prediksi > threshold, 0 jika tidak\n",
        "\n",
        "\n",
        "# Mean Average Precision at K (MAP@K)\n",
        "def mean_average_precision_at_k(y_true, y_pred, k=10):\n",
        "    \"\"\"\n",
        "    Menghitung Mean Average Precision at K (MAP@K)\n",
        "    y_true: array of true labels (binary relevances)\n",
        "    y_pred: array of predicted scores (skor kontinu)\n",
        "    k: number of top recommendations to consider\n",
        "    \"\"\"\n",
        "    # Urutkan prediksi berdasarkan nilai prediksi (untuk setiap pengguna)\n",
        "    top_k_preds = np.argsort(y_pred)[::-1][:k]  # Menyortir prediksi dari yang terbesar\n",
        "    y_true_top_k = np.take(y_true, top_k_preds)  # Mengambil nilai y_true yang sesuai dengan top_k_preds\n",
        "\n",
        "    # Hitung presisi rata-rata untuk top-k\n",
        "    average_precision = 0\n",
        "    for i in range(1, k+1):\n",
        "        if y_true_top_k[i-1] == 1:  # Menghitung presisi untuk setiap item relevan\n",
        "            average_precision += 1  # Jika relevan, hitung presisi 1 (karena kita hanya memeriksa relevansi)\n",
        "\n",
        "    return average_precision / k\n",
        "\n",
        "# Menghitung MAP untuk top 10 rekomendasi\n",
        "map_score = mean_average_precision_at_k(y_test_binary, y_pred, k=10)\n",
        "print(f\"MAP@10: {map_score:.4f}\")\n",
        "\n",
        "\n"
      ],
      "metadata": {
        "colab": {
          "base_uri": "https://localhost:8080/"
        },
        "id": "dus2YjqkAihO",
        "outputId": "4091c0cb-c2a8-45ae-bc45-f0a3e359e5d2"
      },
      "execution_count": null,
      "outputs": [
        {
          "output_type": "stream",
          "name": "stdout",
          "text": [
            "MAP@10: 0.8000\n"
          ]
        }
      ]
    },
    {
      "cell_type": "code",
      "source": [
        "import matplotlib.pyplot as plt\n",
        "\n",
        "# Hasil evaluasi model\n",
        "evaluation_metrics = {\n",
        "    \"RMSE\": rmse,\n",
        "    \"MAE\": mae,\n",
        "    \"Precision\": precision,\n",
        "    \"Recall\": recall,\n",
        "    \"MAP\": map_score\n",
        "}\n",
        "\n",
        "# Membuat plot diagram batang\n",
        "plt.figure(figsize=(10, 6))\n",
        "plt.bar(evaluation_metrics.keys(), evaluation_metrics.values(), color='blue', edgecolor='black')\n",
        "\n",
        "# Menambahkan anotasi nilai di atas batang\n",
        "for i, v in enumerate(evaluation_metrics.values()):\n",
        "    plt.text(i, v + 0.01, f\"{v:.4f}\", ha='center', fontsize=12)\n",
        "\n",
        "# Konfigurasi plot\n",
        "plt.title(\"Hasil Evaluasi Model Rekomendasi\", fontsize=16)\n",
        "plt.ylabel(\"Skor\", fontsize=14)\n",
        "plt.ylim(0, max(evaluation_metrics.values()) + 0.1)  # Menyesuaikan batas atas agar nilai anotasi tidak terpotong\n",
        "plt.xticks(fontsize=12)\n",
        "plt.grid(axis='y', linestyle='--', alpha=0.7)\n",
        "\n",
        "# Tampilkan plot\n",
        "plt.tight_layout()\n",
        "plt.show()\n"
      ],
      "metadata": {
        "colab": {
          "base_uri": "https://localhost:8080/",
          "height": 607
        },
        "id": "RCuyRwqJNy_P",
        "outputId": "11734f8d-f113-4b02-cabe-fe084a0542dd"
      },
      "execution_count": null,
      "outputs": [
        {
          "output_type": "display_data",
          "data": {
            "text/plain": [
              "<Figure size 1000x600 with 1 Axes>"
            ],
            "image/png": "[encoded data removed]"
          },
          "metadata": {}
        }
      ]
    }
  ]
}