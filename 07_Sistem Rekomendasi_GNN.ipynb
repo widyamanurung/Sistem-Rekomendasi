{
  "nbformat": 4,
  "nbformat_minor": 0,
  "metadata": {
    "colab": {
      "provenance": []
    },
    "kernelspec": {
      "name": "python3",
      "display_name": "Python 3"
    },
    "language_info": {
      "name": "python"
    }
  },
  "cells": [
    {
      "cell_type": "markdown",
      "source": [
        "<a id=\"5\"></a>\n",
        "\n",
        "\n",
        "<font color=\"black\" size=+1><b> recomendation Tempat Wisata Toba Preprocessing using  GNN </b></font>\n",
        "\n",
        "<a id=\"4\"></a>\n",
        "\n",
        "---\n",
        "<font color=\"BLUE\" size=+1><b>  Kelompok 7 - Bussiness Understanding </b></font>\n",
        "\n",
        "---\n",
        "    Nama Anggota\n",
        "    1. Widya Manurung       12S21039\n",
        "    2. Endang Siregar       12S21056\n",
        "    3. Glory Hutahean       12S21060"
      ],
      "metadata": {
        "id": "NL1ANQ_1KuZD"
      }
    },
    {
      "cell_type": "code",
      "execution_count": null,
      "metadata": {
        "colab": {
          "base_uri": "https://localhost:8080/"
        },
        "id": "oEIJpWykz3p6",
        "outputId": "e58486de-10b8-43dd-83d9-8c923835027a"
      },
      "outputs": [
        {
          "output_type": "stream",
          "name": "stdout",
          "text": [
            "Collecting torch_geometric\n",
            "  Downloading torch_geometric-2.6.1-py3-none-any.whl.metadata (63 kB)\n",
            "\u001b[?25l     \u001b[90m━━━━━━━━━━━━━━━━━━━━━━━━━━━━━━━━━━━━━━━━\u001b[0m \u001b[32m0.0/63.1 kB\u001b[0m \u001b[31m?\u001b[0m eta \u001b[36m-:--:--\u001b[0m\r\u001b[2K     \u001b[90m━━━━━━━━━━━━━━━━━━━━━━━━━━━━━━━━━━━━━━━━\u001b[0m \u001b[32m63.1/63.1 kB\u001b[0m \u001b[31m4.1 MB/s\u001b[0m eta \u001b[36m0:00:00\u001b[0m\n",
            "\u001b[?25hRequirement already satisfied: aiohttp in /usr/local/lib/python3.10/dist-packages (from torch_geometric) (3.11.9)\n",
            "Requirement already satisfied: fsspec in /usr/local/lib/python3.10/dist-packages (from torch_geometric) (2024.10.0)\n",
            "Requirement already satisfied: jinja2 in /usr/local/lib/python3.10/dist-packages (from torch_geometric) (3.1.4)\n",
            "Requirement already satisfied: numpy in /usr/local/lib/python3.10/dist-packages (from torch_geometric) (1.26.4)\n",
            "Requirement already satisfied: psutil>=5.8.0 in /usr/local/lib/python3.10/dist-packages (from torch_geometric) (5.9.5)\n",
            "Requirement already satisfied: pyparsing in /usr/local/lib/python3.10/dist-packages (from torch_geometric) (3.2.0)\n",
            "Requirement already satisfied: requests in /usr/local/lib/python3.10/dist-packages (from torch_geometric) (2.32.3)\n",
            "Requirement already satisfied: tqdm in /usr/local/lib/python3.10/dist-packages (from torch_geometric) (4.66.6)\n",
            "Requirement already satisfied: aiohappyeyeballs>=2.3.0 in /usr/local/lib/python3.10/dist-packages (from aiohttp->torch_geometric) (2.4.4)\n",
            "Requirement already satisfied: aiosignal>=1.1.2 in /usr/local/lib/python3.10/dist-packages (from aiohttp->torch_geometric) (1.3.1)\n",
            "Requirement already satisfied: async-timeout<6.0,>=4.0 in /usr/local/lib/python3.10/dist-packages (from aiohttp->torch_geometric) (4.0.3)\n",
            "Requirement already satisfied: attrs>=17.3.0 in /usr/local/lib/python3.10/dist-packages (from aiohttp->torch_geometric) (24.2.0)\n",
            "Requirement already satisfied: frozenlist>=1.1.1 in /usr/local/lib/python3.10/dist-packages (from aiohttp->torch_geometric) (1.5.0)\n",
            "Requirement already satisfied: multidict<7.0,>=4.5 in /usr/local/lib/python3.10/dist-packages (from aiohttp->torch_geometric) (6.1.0)\n",
            "Requirement already satisfied: propcache>=0.2.0 in /usr/local/lib/python3.10/dist-packages (from aiohttp->torch_geometric) (0.2.1)\n",
            "Requirement already satisfied: yarl<2.0,>=1.17.0 in /usr/local/lib/python3.10/dist-packages (from aiohttp->torch_geometric) (1.18.3)\n",
            "Requirement already satisfied: MarkupSafe>=2.0 in /usr/local/lib/python3.10/dist-packages (from jinja2->torch_geometric) (3.0.2)\n",
            "Requirement already satisfied: charset-normalizer<4,>=2 in /usr/local/lib/python3.10/dist-packages (from requests->torch_geometric) (3.4.0)\n",
            "Requirement already satisfied: idna<4,>=2.5 in /usr/local/lib/python3.10/dist-packages (from requests->torch_geometric) (3.10)\n",
            "Requirement already satisfied: urllib3<3,>=1.21.1 in /usr/local/lib/python3.10/dist-packages (from requests->torch_geometric) (2.2.3)\n",
            "Requirement already satisfied: certifi>=2017.4.17 in /usr/local/lib/python3.10/dist-packages (from requests->torch_geometric) (2024.8.30)\n",
            "Requirement already satisfied: typing-extensions>=4.1.0 in /usr/local/lib/python3.10/dist-packages (from multidict<7.0,>=4.5->aiohttp->torch_geometric) (4.12.2)\n",
            "Downloading torch_geometric-2.6.1-py3-none-any.whl (1.1 MB)\n",
            "\u001b[2K   \u001b[90m━━━━━━━━━━━━━━━━━━━━━━━━━━━━━━━━━━━━━━━━\u001b[0m \u001b[32m1.1/1.1 MB\u001b[0m \u001b[31m39.3 MB/s\u001b[0m eta \u001b[36m0:00:00\u001b[0m\n",
            "\u001b[?25hInstalling collected packages: torch_geometric\n",
            "Successfully installed torch_geometric-2.6.1\n"
          ]
        }
      ],
      "source": [
        "!pip install torch_geometric"
      ]
    },
    {
      "cell_type": "code",
      "source": [
        "import pandas as pd\n",
        "import numpy as np\n",
        "import torch\n",
        "from torch_geometric.data import Data\n",
        "from torch_geometric.nn import GCNConv\n",
        "from sklearn.metrics import mean_squared_error, mean_absolute_error\n",
        "from sklearn.model_selection import train_test_split\n",
        "from scipy.sparse import coo_matrix"
      ],
      "metadata": {
        "id": "IdNsjTirz7Qf"
      },
      "execution_count": null,
      "outputs": []
    },
    {
      "cell_type": "markdown",
      "source": [
        "Kode di atas melakukan impor berbagai pustaka penting untuk analisis berbasis machine learning dan Graph Neural Networks (GNN). Pustaka seperti `pandas` dan `numpy` digunakan untuk manipulasi dan analisis data, sedangkan `torch` dan `torch_geometric` digunakan untuk membangun model GNN dengan arsitektur Graph Convolutional Network (GCN). Sementara itu, `sklearn.metrics` memungkinkan evaluasi performa dengan metrik seperti *Mean Squared Error (MSE)* dan *Mean Absolute Error (MAE)*, sedangkan `sklearn.model_selection.train_test_split` membantu membagi data menjadi set latih dan uji untuk menghindari *data leakage*. Impor `scipy.sparse.coo_matrix` menunjukkan adanya pemrosesan dengan sparse matrix, yang berguna untuk menghemat memori ketika berhadapan dengan data berisi banyak elemen nol. Namun, penting untuk memastikan bahwa representasi data menggunakan `coo_matrix` dikonversi ke dalam format yang kompatibel dengan PyTorch Geometric sebelum digunakan sebagai input ke GCN. Selanjutnya, perlu dilakukan normalisasi dan eksplorasi lebih lanjut pada struktur data sebelum dimasukkan ke dalam model GCN agar hasilnya optimal. Secara keseluruhan, kode ini bertujuan membangun model berbasis GCN untuk mempelajari data dalam bentuk graf, namun beberapa penyesuaian mungkin diperlukan, seperti mempersiapkan data agar cocok dengan format `torch_geometric.data.Data`."
      ],
      "metadata": {
        "id": "Jl2Eq6pJD63L"
      }
    },
    {
      "cell_type": "markdown",
      "source": [
        "2. Memuat dan Membersihkan Data"
      ],
      "metadata": {
        "id": "TTeworscEBYP"
      }
    },
    {
      "cell_type": "code",
      "source": [
        "# Load the dataset\n",
        "file_path = '/content/Tempat-Wisata-Toba-Preprocessing.csv'\n",
        "data = pd.read_csv(file_path)\n",
        "\n",
        "# Rename relevant columns\n",
        "data = data.rename(columns={\n",
        "    'ReviewerId': 'userId',\n",
        "    'PlaceID': 'itemId',\n",
        "    'Rating': 'rating'\n",
        "})\n",
        "data = data[['userId', 'itemId', 'rating']].dropna()\n",
        "\n",
        "# Encode userId and itemId\n",
        "data['userId'] = data['userId'].astype('category').cat.codes\n",
        "data['itemId'] = data['itemId'].astype('category').cat.codes\n",
        "\n",
        "# Split the data\n",
        "train_data, test_data = train_test_split(data, test_size=0.2, random_state=42)\n",
        "\n",
        "# Build edge index for graph\n",
        "user_nodes = torch.tensor(train_data['userId'].values, dtype=torch.long)\n",
        "item_nodes = torch.tensor(train_data['itemId'].values + data['userId'].nunique(), dtype=torch.long)\n",
        "edge_index = torch.stack([user_nodes, item_nodes], dim=0)\n",
        "edge_weight = torch.tensor(train_data['rating'].values, dtype=torch.float)\n"
      ],
      "metadata": {
        "id": "AKl6zcMa0I41"
      },
      "execution_count": null,
      "outputs": []
    },
    {
      "cell_type": "markdown",
      "source": [
        "Kode di atas bertujuan untuk mempersiapkan dataset untuk membangun model rekomendasi berbasis Graph Neural Networks (GNN) dengan memanfaatkan data dari tempat wisata di Toba. Proses dimulai dengan membaca dataset dari file CSV menggunakan `pandas`. Selanjutnya, dilakukan pembersihan data dengan menghapus nilai yang kosong (`dropna`) dan hanya memilih tiga kolom yang relevan: `userId`, `itemId`, dan `rating`. Nama kolom yang digunakan dalam analisis ini diubah agar lebih konsisten dengan konvensi pemrosesan data, dengan mengganti nama `ReviewerId` menjadi `userId`, `PlaceID` menjadi `itemId`, dan `Rating` menjadi `rating`.  \n",
        "\n",
        "Setelah itu, kode mengonversi `userId` dan `itemId` menjadi kode numerik dengan menggunakan metode encoding kategori dari `pandas`. Ini dilakukan agar data dapat diterima oleh model berbasis PyTorch, yang memerlukan data numerik. Selanjutnya, dataset dibagi menjadi data latih dan uji menggunakan `train_test_split` dengan proporsi 80-20 untuk memastikan model memiliki data latih dan uji yang terpisah.  \n",
        "\n",
        "Untuk membangun struktur graf yang dibutuhkan dalam Graph Neural Network, kode membangun *edge index* menggunakan PyTorch. Node pengguna (`user_nodes`) diambil langsung dari `userId` pada data latih, sedangkan node item dibuat dengan menambahkan jumlah pengguna unik ke indeks `itemId`. Ini memastikan bahwa indeks antara pengguna dan item memiliki ruang indeks yang tidak bertabrakan. *Edge index* dibuat dengan menggabungkan node pengguna dan item dalam bentuk tensor, yang kemudian digunakan sebagai koneksi antar-node dalam graf. Selanjutnya, bobot dari setiap sisi (*edge weight*) dibuat dari nilai `rating`, yang merepresentasikan hubungan antara pengguna dan item yang diberikan dalam dataset. Data ini kemudian digunakan untuk membangun model GNN dengan input graf yang sudah disiapkan.\n",
        "\n",
        "Secara keseluruhan, kode ini menunjukkan langkah-langkah preprocessing yang penting dalam membangun sistem rekomendasi dengan pendekatan GNN. Namun, perlu memastikan bahwa setiap bagian, seperti encoding dan pembentukan *edge index*, sudah sesuai dengan model yang akan digunakan, serta memeriksa jika *edge weight* memiliki distribusi yang tepat sebelum digunakan dalam model."
      ],
      "metadata": {
        "id": "WXgI8PH4EG7Y"
      }
    },
    {
      "cell_type": "code",
      "source": [
        "class GNNRecommender(torch.nn.Module):\n",
        "    def __init__(self, num_users, num_items, embedding_dim):\n",
        "        super(GNNRecommender, self).__init__()\n",
        "        self.user_embeddings = torch.nn.Embedding(num_users, embedding_dim)\n",
        "        self.item_embeddings = torch.nn.Embedding(num_items, embedding_dim)\n",
        "        self.gcn = GCNConv(embedding_dim, embedding_dim)\n",
        "        self.fc = torch.nn.Linear(embedding_dim * 2, 1)\n",
        "\n",
        "    def forward(self, edge_index, edge_weight):\n",
        "        user_emb = self.user_embeddings.weight\n",
        "        item_emb = self.item_embeddings.weight\n",
        "        x = torch.cat([user_emb, item_emb], dim=0)\n",
        "\n",
        "        x = self.gcn(x, edge_index)\n",
        "        user_item_emb = torch.cat([x[edge_index[0]], x[edge_index[1]]], dim=1)\n",
        "\n",
        "        pred = self.fc(user_item_emb).squeeze()\n",
        "        return pred"
      ],
      "metadata": {
        "id": "7SESZJeA0qQ6"
      },
      "execution_count": null,
      "outputs": []
    },
    {
      "cell_type": "markdown",
      "source": [
        "Kode di atas  bertujuan untuk mempersiapkan dataset untuk membangun model rekomendasi berbasis Graph Neural Networks (GNN) dengan memanfaatkan data dari tempat wisata di Toba. Proses dimulai dengan membaca dataset dari file CSV menggunakan `pandas`. Selanjutnya, dilakukan pembersihan data dengan menghapus nilai yang kosong (`dropna`) dan hanya memilih tiga kolom yang relevan: `userId`, `itemId`, dan `rating`. Nama kolom yang digunakan dalam analisis ini diubah agar lebih konsisten dengan konvensi pemrosesan data, dengan mengganti nama `ReviewerId` menjadi `userId`, `PlaceID` menjadi `itemId`, dan `Rating` menjadi `rating`.  \n",
        "\n",
        "Setelah itu, kode mengonversi `userId` dan `itemId` menjadi kode numerik dengan menggunakan metode encoding kategori dari `pandas`. Ini dilakukan agar data dapat diterima oleh model berbasis PyTorch, yang memerlukan data numerik. Selanjutnya, dataset dibagi menjadi data latih dan uji menggunakan `train_test_split` dengan proporsi 80-20 untuk memastikan model memiliki data latih dan uji yang terpisah.  \n",
        "\n",
        "Untuk membangun struktur graf yang dibutuhkan dalam Graph Neural Network, kode membangun *edge index* menggunakan PyTorch. Node pengguna (`user_nodes`) diambil langsung dari `userId` pada data latih, sedangkan node item dibuat dengan menambahkan jumlah pengguna unik ke indeks `itemId`. Ini memastikan bahwa indeks antara pengguna dan item memiliki ruang indeks yang tidak bertabrakan. *Edge index* dibuat dengan menggabungkan node pengguna dan item dalam bentuk tensor, yang kemudian digunakan sebagai koneksi antar-node dalam graf. Selanjutnya, bobot dari setiap sisi (*edge weight*) dibuat dari nilai `rating`, yang merepresentasikan hubungan antara pengguna dan item yang diberikan dalam dataset. Data ini kemudian digunakan untuk membangun model GNN dengan input graf yang sudah disiapkan.\n",
        "\n",
        "Secara keseluruhan, kode ini menunjukkan langkah-langkah preprocessing yang penting dalam membangun sistem rekomendasi dengan pendekatan GNN. Namun, perlu memastikan bahwa setiap bagian, seperti encoding dan pembentukan *edge index*, sudah sesuai dengan model yang akan digunakan, serta memeriksa jika *edge weight* memiliki distribusi yang tepat sebelum digunakan dalam model."
      ],
      "metadata": {
        "id": "kaAgrlCAEUCn"
      }
    },
    {
      "cell_type": "markdown",
      "source": [
        "**Model initialization**"
      ],
      "metadata": {
        "id": "pua0pKwYIgiv"
      }
    },
    {
      "cell_type": "code",
      "source": [
        "# Model initialization\n",
        "num_users = data['userId'].nunique()\n",
        "num_items = data['itemId'].nunique()\n",
        "embedding_dim = 64\n",
        "model = GNNRecommender(num_users, num_items, embedding_dim)\n",
        "\n",
        "optimizer = torch.optim.Adam(model.parameters(), lr=0.001)\n",
        "loss_fn = torch.nn.MSELoss()\n",
        "\n",
        "# Train model\n",
        "model.train()\n",
        "for epoch in range(10):\n",
        "    optimizer.zero_grad()\n",
        "    pred = model(edge_index, edge_weight)\n",
        "    loss = loss_fn(pred, edge_weight)\n",
        "    loss.backward()\n",
        "    optimizer.step()\n",
        "    print(f\"Epoch {epoch+1}, Loss: {loss.item()}\")"
      ],
      "metadata": {
        "colab": {
          "base_uri": "https://localhost:8080/"
        },
        "id": "POqXQ1Ty0sft",
        "outputId": "8745fbfd-0a9f-49f3-9616-3df60d26d53b"
      },
      "execution_count": null,
      "outputs": [
        {
          "output_type": "stream",
          "name": "stdout",
          "text": [
            "Epoch 1, Loss: 23.454137802124023\n",
            "Epoch 2, Loss: 22.28941535949707\n",
            "Epoch 3, Loss: 21.20010757446289\n",
            "Epoch 4, Loss: 20.16701889038086\n",
            "Epoch 5, Loss: 19.170846939086914\n",
            "Epoch 6, Loss: 18.195613861083984\n",
            "Epoch 7, Loss: 17.228668212890625\n",
            "Epoch 8, Loss: 16.260398864746094\n",
            "Epoch 9, Loss: 15.283921241760254\n",
            "Epoch 10, Loss: 14.294973373413086\n"
          ]
        }
      ]
    },
    {
      "cell_type": "markdown",
      "source": [
        "Kode di atas bertujuan untuk menginisialisasi dan melatih model *Graph Neural Network* (GNN) untuk membangun sistem rekomendasi dengan pendekatan berbasis GCN. Proses dimulai dengan menentukan jumlah pengguna (`num_users`) dan jumlah item (`num_items`) berdasarkan jumlah pengguna unik dan item unik dalam dataset yang telah diproses sebelumnya. Dimensi embedding yang digunakan dalam model ditentukan sebesar 64, yang berarti setiap pengguna dan item akan direpresentasikan dalam vektor berdimensi 64. Model `GNNRecommender` diinisialisasi dengan parameter ini, dan optimizer `Adam` digunakan untuk mengoptimalkan parameter model selama proses pelatihan dengan laju pembelajaran sebesar 0,001.\n",
        "\n",
        "Fungsi kerugian (`loss_fn`) yang dipilih adalah `torch.nn.MSELoss`, yang mengukur kesalahan antara nilai prediksi dari model dan bobot sisi (edge weights) yang sebenarnya. Proses pelatihan dilakukan dalam 10 epoch, di mana pada setiap epoch model menjalani proses forward pass dan backward pass untuk mengupdate bobotnya. Proses ini meliputi langkah-langkah: menghapus gradien lama dengan `optimizer.zero_grad()`, melakukan forward pass dengan memprediksi skor antara pengguna dan item melalui fungsi `model(edge_index, edge_weight)`, menghitung nilai kerugian dengan `loss_fn`, melakukan backward pass dengan `loss.backward()`, dan mengupdate parameter model dengan `optimizer.step()`. Setiap epoch, nilai kerugian dicetak agar dapat memantau konvergensi dan performa model dari waktu ke waktu.\n",
        "\n",
        "Dengan pendekatan ini, model akan belajar memprediksi rating antara pasangan pengguna dan item berdasarkan hubungan yang sudah didefinisikan dalam graf melalui operasi *Graph Convolutional Network*. Namun, meskipun model sudah dilatih dengan 10 epoch, jumlah epoch yang lebih besar mungkin diperlukan untuk memastikan model telah belajar dengan baik, bergantung pada kompleksitas dataset yang digunakan. Selain itu, evaluasi pada data uji juga perlu dilakukan untuk memahami performa model pada data yang belum dilihat sebelumnya dan memastikan bahwa model tidak mengalami *overfitting*."
      ],
      "metadata": {
        "id": "D_DxqWBRIjWb"
      }
    },
    {
      "cell_type": "code",
      "source": [
        "from sklearn.metrics import mean_squared_error, mean_absolute_error\n",
        "\n",
        "# Prediksi dan label aktual dari data uji\n",
        "y_true = test_data['rating'].values\n",
        "y_pred = test_preds.numpy()\n",
        "\n",
        "# Hitung RMSE dan MAE\n",
        "rmse = np.sqrt(mean_squared_error(y_true, y_pred))\n",
        "mae = mean_absolute_error(y_true, y_pred)\n",
        "\n",
        "print(f\"RMSE: {rmse:.4f}\")\n",
        "print(f\"MAE: {mae:.4f}\")"
      ],
      "metadata": {
        "colab": {
          "base_uri": "https://localhost:8080/"
        },
        "id": "XPSrS7tn0uiQ",
        "outputId": "44b1b616-7a5c-4334-ed1f-dc5e90c69137"
      },
      "execution_count": null,
      "outputs": [
        {
          "output_type": "stream",
          "name": "stdout",
          "text": [
            "RMSE: 4.1080\n",
            "MAE: 3.9645\n"
          ]
        }
      ]
    },
    {
      "cell_type": "markdown",
      "source": [
        "Kode di atas digunakan untuk mengevaluasi performa model rekomendasi yang telah dilatih dengan metrik *Root Mean Squared Error (RMSE)* dan *Mean Absolute Error (MAE)*. Pertama, nilai aktual dari data uji (`y_true`) diambil dari kolom `rating` dalam dataset uji (`test_data`), sementara prediksi model (`y_pred`) diambil dari hasil model yang telah dilatih dan diubah ke bentuk array menggunakan `.numpy()`. RMSE dihitung dengan menggunakan fungsi `mean_squared_error` dari pustaka `sklearn.metrics` yang mengukur kesalahan dengan memberikan penalti yang lebih besar pada kesalahan yang signifikan melalui penghitungan akar dari rata-rata kesalahan kuadrat. Sementara itu, MAE dihitung dengan fungsi `mean_absolute_error`, yang mengukur rata-rata dari selisih absolut antara prediksi dan nilai aktual tanpa memberikan penalti yang besar untuk kesalahan besar seperti pada RMSE. Hasil perhitungan kedua metrik ini dicetak dalam format dengan empat angka desimal untuk memantau sejauh mana model mampu memprediksi rating dengan akurat. Evaluasi ini penting untuk menilai sejauh mana model dapat memprediksi preferensi pengguna pada item yang belum pernah mereka berinteraksi sebelumnya."
      ],
      "metadata": {
        "id": "6EOoeqHjIpPa"
      }
    },
    {
      "cell_type": "code",
      "source": [
        "def precision_recall_at_k(predictions, test_data, k=10):\n",
        "    test_data = pd.DataFrame({'userId': test_data['userId'], 'itemId': test_data['itemId'], 'rating': test_data['rating']})\n",
        "    test_data['prediction'] = predictions\n",
        "    test_data = test_data.sort_values(['userId', 'prediction'], ascending=[True, False])\n",
        "\n",
        "    precisions, recalls = [], []\n",
        "    for user in test_data['userId'].unique():\n",
        "        user_data = test_data[test_data['userId'] == user]\n",
        "        top_k = user_data.head(k)\n",
        "        relevant_items = (user_data['rating'] >= 4).sum()\n",
        "        relevant_items_in_top_k = (top_k['rating'] >= 4).sum()\n",
        "        precisions.append(relevant_items_in_top_k / k)\n",
        "        recalls.append(relevant_items_in_top_k / relevant_items if relevant_items > 0 else 0)\n",
        "\n",
        "    return np.mean(precisions), np.mean(recalls)\n",
        "\n",
        "precision, recall = precision_recall_at_k(y_pred, test_data, k=10)\n",
        "print(f\"Precision@10: {precision:.4f}\")\n",
        "print(f\"Recall@10: {recall:.4f}\")"
      ],
      "metadata": {
        "colab": {
          "base_uri": "https://localhost:8080/"
        },
        "id": "9TSsHp2Q0xWC",
        "outputId": "6b467555-4783-4b8e-972c-75b7340ae4af"
      },
      "execution_count": null,
      "outputs": [
        {
          "output_type": "stream",
          "name": "stdout",
          "text": [
            "Precision@10: 0.1183\n",
            "Recall@10: 0.8995\n"
          ]
        }
      ]
    },
    {
      "cell_type": "markdown",
      "source": [
        "Kode di atas bertujuan untuk menghitung metrik **Precision@K** dan **Recall@K** pada model rekomendasi dengan mempertahankan top-K rekomendasi yang diberikan kepada pengguna. Fungsi `precision_recall_at_k` menerima parameter `predictions` (prediksi dari model), `test_data` (data uji), dan `k` (jumlah rekomendasi teratas yang akan dipertahankan untuk evaluasi).\n",
        "\n",
        "Kode ini memberikan wawasan tentang sejauh mana rekomendasi yang dibuat oleh model relevan dan mencakup item yang benar dalam rekomendasi yang diberikan kepada pengguna.  \n",
        "- **Precision@10** mengukur sejauh mana rekomendasi teratas yang diberikan model benar-benar relevan dengan preferensi pengguna (item dengan rating tinggi).  \n",
        "- **Recall@10** mengukur sejauh mana model berhasil merekomendasikan item yang benar-benar disukai oleh pengguna dari seluruh item yang relevan di data uji.  \n",
        "\n",
        "Dengan metrik ini, Anda bisa mengevaluasi performa sistem rekomendasi dalam konteks akurasi rekomendasi dan cakupan rekomendasi berdasarkan kebutuhan pengguna. Jika kedua nilai ini rendah, maka model mungkin memerlukan penyempurnaan dalam aspek prediksi atau arsitektur."
      ],
      "metadata": {
        "id": "zdCeqEg5IsPX"
      }
    },
    {
      "cell_type": "code",
      "source": [
        "def map_at_k(predictions, test_data, k=10):\n",
        "    test_data = pd.DataFrame({'userId': test_data['userId'], 'itemId': test_data['itemId'], 'rating': test_data['rating']})\n",
        "    test_data['prediction'] = predictions\n",
        "    test_data = test_data.sort_values(['userId', 'prediction'], ascending=[True, False])\n",
        "\n",
        "    ap_list = []\n",
        "    for user in test_data['userId'].unique():\n",
        "        user_data = test_data[test_data['userId'] == user]\n",
        "        top_k = user_data.head(k)\n",
        "        relevant_items = (top_k['rating'] >= 4)\n",
        "\n",
        "        precision_accumulated = 0\n",
        "        relevant_count = 0\n",
        "        for i, is_relevant in enumerate(relevant_items, start=1):\n",
        "            if is_relevant:\n",
        "                relevant_count += 1\n",
        "                precision_accumulated += relevant_count / i\n",
        "\n",
        "        if relevant_items.sum() > 0:\n",
        "            ap_list.append(precision_accumulated / relevant_items.sum())\n",
        "        else:\n",
        "            ap_list.append(0)\n",
        "    return np.mean(ap_list)\n",
        "\n",
        "map_k = map_at_k(y_pred, test_data, k=10)\n",
        "print(f\"MAP@10: {map_k:.4f}\")"
      ],
      "metadata": {
        "colab": {
          "base_uri": "https://localhost:8080/"
        },
        "id": "v-rof03u1Po0",
        "outputId": "99348884-0959-4781-a789-db13eaac28f3"
      },
      "execution_count": null,
      "outputs": [
        {
          "output_type": "stream",
          "name": "stdout",
          "text": [
            "MAP@10: 0.8853\n"
          ]
        }
      ]
    },
    {
      "cell_type": "markdown",
      "source": [
        "Kode di atas untuk menghitung metrik **Mean Average Precision (MAP@K)** pada sistem rekomendasi. Metrik MAP@K mengukur sejauh mana item relevan ditempatkan pada posisi yang lebih tinggi dalam daftar rekomendasi yang dihasilkan oleh model. Semakin tinggi nilai MAP, semakin baik performa model dalam memberikan rekomendasi yang relevan dan menempatkan item tersebut pada posisi yang lebih atas dalam daftar rekomendasi.  \n",
        "\n",
        "Proses ini dimulai dengan mempersiapkan data uji dan memasukkan prediksi model ke dalam DataFrame. Data kemudian diurutkan berdasarkan `userId` dan nilai prediksi, untuk memastikan rekomendasi teratas untuk setiap pengguna diprioritaskan. Selanjutnya, untuk setiap pengguna dalam data uji, dilakukan evaluasi terhadap 10 rekomendasi teratas (`k=10`) yang dihasilkan model. Relevansi item ditentukan berdasarkan rating, dengan item yang memiliki rating ≥ 4 dianggap relevan.  \n",
        "\n",
        "Untuk setiap pengguna, nilai **Average Precision (AP)** dihitung dengan mengakumulasi nilai precision pada setiap posisi relevan dalam rekomendasi hingga `k`. Precision dihitung sebagai rasio antara jumlah item relevan hingga posisi tertentu dan posisi itu sendiri. Jika tidak ada item relevan dalam rekomendasi, nilai AP diatur ke nol. Rata-rata AP dari semua pengguna dihitung dengan `np.mean(ap_list)` untuk menghasilkan nilai MAP@10.  \n",
        "\n",
        "Hasil ini memberikan wawasan tentang sejauh mana rekomendasi yang dihasilkan oleh model mampu memprediksi item yang relevan dan menempatkan mereka di posisi yang lebih tinggi dalam daftar rekomendasi, yang merupakan hal penting dalam meningkatkan akurasi dan efektivitas sistem rekomendasi."
      ],
      "metadata": {
        "id": "ttew4ppgIwYi"
      }
    },
    {
      "cell_type": "markdown",
      "source": [
        "**Evaluation Metrics for Recommendation System**"
      ],
      "metadata": {
        "id": "Xjj42a6FJO5s"
      }
    },
    {
      "cell_type": "code",
      "source": [
        "import matplotlib.pyplot as plt\n",
        "\n",
        "# Contoh nilai metrik evaluasi (masukkan hasil aktual Anda di sini)\n",
        "metrics = {\n",
        "    \"RMSE\": rmse,\n",
        "    \"MAE\": mae,\n",
        "    \"Precision@10\": precision,\n",
        "    \"Recall@10\": recall,\n",
        "    \"MAP@10\": map_k\n",
        "}\n",
        "\n",
        "# Warna untuk masing-masing metrik\n",
        "colors = ['#FF9999', '#66B3FF', '#99FF99', '#FFCC99', '#C299FF']\n",
        "\n",
        "# Membuat bar chart\n",
        "plt.figure(figsize=(10, 6))\n",
        "plt.bar(metrics.keys(), metrics.values(), color=colors)\n",
        "\n",
        "# Menambahkan nilai pada setiap bar\n",
        "for i, v in enumerate(metrics.values()):\n",
        "    plt.text(i, v + 0.02, f\"{v:.4f}\", ha='center', fontsize=10)\n",
        "\n",
        "# Labeling grafik\n",
        "plt.title(\"Evaluation Metrics for Recommendation System\", fontsize=14)\n",
        "plt.ylabel(\"Value\", fontsize=12)\n",
        "plt.xlabel(\"Metrics\", fontsize=12)\n",
        "plt.ylim(0, max(metrics.values()) + 0.1)  # Menyesuaikan skala grafik\n",
        "plt.grid(axis='y', linestyle='--', alpha=0.7)\n",
        "\n",
        "# Tampilkan grafik\n",
        "plt.tight_layout()\n",
        "plt.show()"
      ],
      "metadata": {
        "colab": {
          "base_uri": "https://localhost:8080/",
          "height": 607
        },
        "id": "qwjCtLc86NDM",
        "outputId": "c0b72c20-53bd-46d4-feae-9d55c503dcbc"
      },
      "execution_count": null,
      "outputs": [
        {
          "output_type": "display_data",
          "data": {
            "text/plain": [
              "<Figure size 1000x600 with 1 Axes>"
            ],
            "image/png": "[encoded data removed]"
          },
          "metadata": {}
        }
      ]
    },
    {
      "cell_type": "markdown",
      "source": [
        "Kode kode di atas digunakan untuk membuat visualisasi dari hasil metrik evaluasi sistem rekomendasi dalam bentuk **Bar Chart** menggunakan pustaka `matplotlib`. Visualisasi ini bertujuan untuk mempermudah pemahaman dan perbandingan antar metrik yang dihitung, seperti RMSE, MAE, Precision@10, Recall@10, dan MAP@10. Masing-masing metrik direpresentasikan dengan warna yang berbeda untuk membedakan satu sama lain dalam grafik.  \n",
        "\n",
        "Pertama, nilai metrik yang dihitung sebelumnya dimasukkan ke dalam dictionary `metrics`. Warna yang unik untuk setiap metrik ditentukan dalam list `colors`. Selanjutnya, kode membuat grafik dengan ukuran yang ditentukan menggunakan `plt.figure(figsize=(10, 6))`, lalu membuat **Bar Chart** dengan `plt.bar`. Nilai dari masing-masing metrik ditampilkan langsung di atas batang menggunakan `plt.text` agar lebih mudah dipahami.  \n",
        "\n",
        "Label pada sumbu X dan Y serta judul grafik juga ditambahkan untuk memberikan konteks yang jelas. Skala grafik disesuaikan dengan `plt.ylim` agar semua nilai metrik terlihat dengan jelas. Grid horizontal ditambahkan untuk mempermudah pembacaan nilai dari setiap batang. Terakhir, `plt.tight_layout()` memastikan elemen grafik tidak saling bertabrakan, dan `plt.show()` menampilkan grafik tersebut.  \n",
        "\n",
        "Dengan grafik ini, Anda dapat dengan cepat membandingkan nilai dari berbagai metrik evaluasi sistem rekomendasi, memahami performa sistem, dan mengidentifikasi area yang mungkin perlu ditingkatkan lebih lanjut."
      ],
      "metadata": {
        "id": "zoM7699LIz7Y"
      }
    },
    {
      "cell_type": "code",
      "source": [
        "def get_top_recommendations(user_id, model, num_users, num_items, top_n=10):\n",
        "    item_ids = torch.arange(num_items) + num_users\n",
        "    user_ids = torch.full((num_items,), user_id)\n",
        "    edge_index = torch.stack([user_ids, item_ids], dim=0)\n",
        "\n",
        "    with torch.no_grad():\n",
        "        preds = model(edge_index, None)\n",
        "    top_items = torch.topk(preds, top_n).indices\n",
        "    return top_items.numpy()\n",
        "\n",
        "user_id = 0\n",
        "top_items = get_top_recommendations(user_id, model, num_users, num_items, top_n=10)\n",
        "print(f\"Top recommendations for User {user_id}: {top_items}\")"
      ],
      "metadata": {
        "colab": {
          "base_uri": "https://localhost:8080/"
        },
        "id": "fcO2dRRI7iqP",
        "outputId": "9c9b0a1b-79bb-4538-c6c2-454c4b85c6d2"
      },
      "execution_count": null,
      "outputs": [
        {
          "output_type": "stream",
          "name": "stdout",
          "text": [
            "Top recommendations for User 0: [71 56 60  3 98 72 30 95 38 85]\n"
          ]
        }
      ]
    },
    {
      "cell_type": "markdown",
      "source": [
        "Fungsi `get_top_recommendations` bertujuan untuk memberikan rekomendasi item terbaik untuk pengguna berdasarkan model yang sudah dilatih sebelumnya. Fungsi ini menerima beberapa parameter, termasuk `user_id` (ID pengguna yang akan direkomendasikan), `model` (model rekomendasi yang digunakan), `num_users` (jumlah total pengguna), `num_items` (jumlah total item yang tersedia), dan `top_n` (jumlah rekomendasi yang akan dikembalikan).\n",
        "\n",
        "Dalam kode ini, pertama-tama dibuat `item_ids` dengan menggunakan `torch.arange(num_items) + num_users`. Ini berarti bahwa indeks item di-offset dengan jumlah pengguna, yang sering digunakan dalam model berbasis Graph Neural Networks (GNN) atau metode embedding untuk membedakan indeks pengguna dan item dalam satu ruang vektor yang sama. Selanjutnya, dibuat tensor `user_ids`, yang berisi ID pengguna yang sama untuk setiap item yang akan direkomendasikan.\n",
        "\n",
        "`edge_index` kemudian dibuat dengan menggabungkan `user_ids` dan `item_ids` menggunakan `torch.stack`. Indeks ini berfungsi sebagai input untuk model rekomendasi, mewakili hubungan antara pengguna dan item dalam graph yang dipelajari model. Model dipanggil dengan `torch.no_grad()` untuk memastikan bahwa proses inferensi berjalan tanpa perhitungan gradien, yang menghemat memori dan mempercepat eksekusi.\n",
        "\n",
        "Hasil prediksi dari model direpresentasikan dengan variabel `preds`. Fungsi `torch.topk(preds, top_n).indices` digunakan untuk mengambil indeks dari `top_n` item dengan skor prediksi tertinggi, yang merepresentasikan rekomendasi terbaik untuk pengguna tersebut. Akhirnya, hasil rekomendasi dikembalikan dalam bentuk array menggunakan `.numpy()`.\n",
        "\n",
        "Dari kode tersebut, jika kita memanggil fungsi dengan `user_id = 0`, maka rekomendasi yang diberikan adalah sepuluh item dengan skor tertinggi berdasarkan model yang diberikan untuk pengguna dengan ID `0`. Ini bisa digunakan sebagai hasil evaluasi untuk memahami performa model rekomendasi atau memberikan rekomendasi dalam konteks sistem berbasis Graph Neural Networks (GNN)."
      ],
      "metadata": {
        "id": "sTi2Z9TJI7n0"
      }
    },
    {
      "cell_type": "code",
      "source": [],
      "metadata": {
        "id": "g4w8NZonI916"
      },
      "execution_count": null,
      "outputs": []
    }
  ]
}